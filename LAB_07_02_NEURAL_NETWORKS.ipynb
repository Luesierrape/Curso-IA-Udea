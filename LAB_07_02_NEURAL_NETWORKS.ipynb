{
  "nbformat": 4,
  "nbformat_minor": 0,
  "metadata": {
    "kernelspec": {
      "display_name": "Python 3",
      "language": "python",
      "name": "python3"
    },
    "language_info": {
      "codemirror_mode": {
        "name": "ipython",
        "version": 3
      },
      "file_extension": ".py",
      "mimetype": "text/x-python",
      "name": "python",
      "nbconvert_exporter": "python",
      "pygments_lexer": "ipython3",
      "version": "3.7.3"
    },
    "colab": {
      "name": "Copia de LAB 07.02 - NEURAL NETWORKS.ipynb",
      "provenance": [],
      "include_colab_link": true
    },
    "widgets": {
      "application/vnd.jupyter.widget-state+json": {
        "a57b9a15b07e447bbc670bd1119e4a90": {
          "model_module": "@jupyter-widgets/controls",
          "model_name": "HBoxModel",
          "model_module_version": "1.5.0",
          "state": {
            "_view_name": "HBoxView",
            "_dom_classes": [],
            "_model_name": "HBoxModel",
            "_view_module": "@jupyter-widgets/controls",
            "_model_module_version": "1.5.0",
            "_view_count": null,
            "_view_module_version": "1.5.0",
            "box_style": "",
            "layout": "IPY_MODEL_7ac3f7b9fdaa4302aa392ea512f74e7b",
            "_model_module": "@jupyter-widgets/controls",
            "children": [
              "IPY_MODEL_c68ebc62fae7425fb0e053cf240193a5",
              "IPY_MODEL_86b8da6caade4bf69ed24b0a23e93aee",
              "IPY_MODEL_e7833c59cae64498add04a78d644ae68",
              "IPY_MODEL_3c8d39667fb9476fbb0c234a30b2ee6b"
            ]
          }
        },
        "7ac3f7b9fdaa4302aa392ea512f74e7b": {
          "model_module": "@jupyter-widgets/base",
          "model_name": "LayoutModel",
          "model_module_version": "1.2.0",
          "state": {
            "_view_name": "LayoutView",
            "grid_template_rows": null,
            "right": null,
            "justify_content": null,
            "_view_module": "@jupyter-widgets/base",
            "overflow": null,
            "_model_module_version": "1.2.0",
            "_view_count": null,
            "flex_flow": null,
            "width": null,
            "min_width": null,
            "border": null,
            "align_items": null,
            "bottom": null,
            "_model_module": "@jupyter-widgets/base",
            "top": null,
            "grid_column": null,
            "overflow_y": null,
            "overflow_x": null,
            "grid_auto_flow": null,
            "grid_area": null,
            "grid_template_columns": null,
            "flex": null,
            "_model_name": "LayoutModel",
            "justify_items": null,
            "grid_row": null,
            "max_height": null,
            "align_content": null,
            "visibility": null,
            "align_self": null,
            "height": null,
            "min_height": null,
            "padding": null,
            "grid_auto_rows": null,
            "grid_gap": null,
            "max_width": null,
            "order": null,
            "_view_module_version": "1.2.0",
            "grid_template_areas": null,
            "object_position": null,
            "object_fit": null,
            "grid_auto_columns": null,
            "margin": null,
            "display": null,
            "left": null
          }
        },
        "c68ebc62fae7425fb0e053cf240193a5": {
          "model_module": "@jupyter-widgets/controls",
          "model_name": "VBoxModel",
          "model_module_version": "1.5.0",
          "state": {
            "_view_name": "VBoxView",
            "_dom_classes": [],
            "_model_name": "VBoxModel",
            "_view_module": "@jupyter-widgets/controls",
            "_model_module_version": "1.5.0",
            "_view_count": null,
            "_view_module_version": "1.5.0",
            "box_style": "",
            "layout": "IPY_MODEL_ed2e846655704d20a3e9fe4accab6033",
            "_model_module": "@jupyter-widgets/controls",
            "children": [
              "IPY_MODEL_a852f69fb7064b9ebd1854f73b05d6f1",
              "IPY_MODEL_1be80bfbbf25496b8abb090d9a819a23"
            ]
          }
        },
        "86b8da6caade4bf69ed24b0a23e93aee": {
          "model_module": "@jupyter-widgets/controls",
          "model_name": "ButtonModel",
          "model_module_version": "1.5.0",
          "state": {
            "_view_name": "ButtonView",
            "style": "IPY_MODEL_5158845bdb5a4faa84f7e3a794324ab7",
            "_dom_classes": [
              "login_button"
            ],
            "description": "Login with email",
            "_model_name": "ButtonModel",
            "button_style": "",
            "_view_module": "@jupyter-widgets/controls",
            "_model_module_version": "1.5.0",
            "tooltip": "",
            "_view_count": null,
            "disabled": false,
            "_view_module_version": "1.5.0",
            "layout": "IPY_MODEL_71814e0203ab4e5e8e34965324342b3f",
            "_model_module": "@jupyter-widgets/controls",
            "icon": ""
          }
        },
        "e7833c59cae64498add04a78d644ae68": {
          "model_module": "@jupyter-widgets/controls",
          "model_name": "HTMLModel",
          "model_module_version": "1.5.0",
          "state": {
            "_view_name": "HTMLView",
            "style": "IPY_MODEL_689eac72d6634dbd973d5a2ca4209a71",
            "_dom_classes": [],
            "description": "",
            "_model_name": "HTMLModel",
            "placeholder": "​",
            "_view_module": "@jupyter-widgets/controls",
            "_model_module_version": "1.5.0",
            "value": "<center><big>or</big></center>",
            "_view_count": null,
            "_view_module_version": "1.5.0",
            "description_tooltip": null,
            "_model_module": "@jupyter-widgets/controls",
            "layout": "IPY_MODEL_96c73c65b47e478ea7deaed1ec1c5c9b"
          }
        },
        "3c8d39667fb9476fbb0c234a30b2ee6b": {
          "model_module": "@jupyter-widgets/controls",
          "model_name": "ButtonModel",
          "model_module_version": "1.5.0",
          "state": {
            "_view_name": "ButtonView",
            "style": "IPY_MODEL_fcc0f30df6594621a96c89c2164aed44",
            "_dom_classes": [
              "google_button"
            ],
            "description": "Login with Google",
            "_model_name": "ButtonModel",
            "button_style": "",
            "_view_module": "@jupyter-widgets/controls",
            "_model_module_version": "1.5.0",
            "tooltip": "",
            "_view_count": null,
            "disabled": false,
            "_view_module_version": "1.5.0",
            "layout": "IPY_MODEL_7e54459dbcaf46b8983c46c56acc6b5e",
            "_model_module": "@jupyter-widgets/controls",
            "icon": ""
          }
        },
        "ed2e846655704d20a3e9fe4accab6033": {
          "model_module": "@jupyter-widgets/base",
          "model_name": "LayoutModel",
          "model_module_version": "1.2.0",
          "state": {
            "_view_name": "LayoutView",
            "grid_template_rows": null,
            "right": null,
            "justify_content": null,
            "_view_module": "@jupyter-widgets/base",
            "overflow": null,
            "_model_module_version": "1.2.0",
            "_view_count": null,
            "flex_flow": null,
            "width": null,
            "min_width": null,
            "border": null,
            "align_items": null,
            "bottom": null,
            "_model_module": "@jupyter-widgets/base",
            "top": null,
            "grid_column": null,
            "overflow_y": null,
            "overflow_x": null,
            "grid_auto_flow": null,
            "grid_area": null,
            "grid_template_columns": null,
            "flex": null,
            "_model_name": "LayoutModel",
            "justify_items": null,
            "grid_row": null,
            "max_height": null,
            "align_content": null,
            "visibility": null,
            "align_self": null,
            "height": null,
            "min_height": null,
            "padding": null,
            "grid_auto_rows": null,
            "grid_gap": null,
            "max_width": null,
            "order": null,
            "_view_module_version": "1.2.0",
            "grid_template_areas": null,
            "object_position": null,
            "object_fit": null,
            "grid_auto_columns": null,
            "margin": null,
            "display": null,
            "left": null
          }
        },
        "a852f69fb7064b9ebd1854f73b05d6f1": {
          "model_module": "@jupyter-widgets/controls",
          "model_name": "TextModel",
          "model_module_version": "1.5.0",
          "state": {
            "_view_name": "TextView",
            "style": "IPY_MODEL_c68823e5f566496f8c94354eb55bb65f",
            "_dom_classes": [],
            "description": "email",
            "_model_name": "TextModel",
            "placeholder": "​",
            "_view_module": "@jupyter-widgets/controls",
            "_model_module_version": "1.5.0",
            "value": "",
            "_view_count": null,
            "disabled": false,
            "_view_module_version": "1.5.0",
            "continuous_update": true,
            "description_tooltip": null,
            "_model_module": "@jupyter-widgets/controls",
            "layout": "IPY_MODEL_76686fb5718e405ea6b684ddc50600d1"
          }
        },
        "1be80bfbbf25496b8abb090d9a819a23": {
          "model_module": "@jupyter-widgets/controls",
          "model_name": "PasswordModel",
          "model_module_version": "1.5.0",
          "state": {
            "_view_name": "PasswordView",
            "style": "IPY_MODEL_7dd75c537a614b3f8f47baa656f79f02",
            "_dom_classes": [],
            "description": "password",
            "_model_name": "PasswordModel",
            "placeholder": "​",
            "_view_module": "@jupyter-widgets/controls",
            "_model_module_version": "1.5.0",
            "value": "",
            "_view_count": null,
            "disabled": false,
            "_view_module_version": "1.5.0",
            "continuous_update": true,
            "description_tooltip": null,
            "_model_module": "@jupyter-widgets/controls",
            "layout": "IPY_MODEL_889fce1a3efe42df96949529f005e7b4"
          }
        },
        "5158845bdb5a4faa84f7e3a794324ab7": {
          "model_module": "@jupyter-widgets/controls",
          "model_name": "ButtonStyleModel",
          "model_module_version": "1.5.0",
          "state": {
            "_view_name": "StyleView",
            "_model_name": "ButtonStyleModel",
            "_view_module": "@jupyter-widgets/base",
            "_model_module_version": "1.5.0",
            "_view_count": null,
            "button_color": null,
            "font_weight": "",
            "_view_module_version": "1.2.0",
            "_model_module": "@jupyter-widgets/controls"
          }
        },
        "71814e0203ab4e5e8e34965324342b3f": {
          "model_module": "@jupyter-widgets/base",
          "model_name": "LayoutModel",
          "model_module_version": "1.2.0",
          "state": {
            "_view_name": "LayoutView",
            "grid_template_rows": null,
            "right": null,
            "justify_content": null,
            "_view_module": "@jupyter-widgets/base",
            "overflow": null,
            "_model_module_version": "1.2.0",
            "_view_count": null,
            "flex_flow": null,
            "width": "150px",
            "min_width": null,
            "border": null,
            "align_items": null,
            "bottom": null,
            "_model_module": "@jupyter-widgets/base",
            "top": null,
            "grid_column": null,
            "overflow_y": null,
            "overflow_x": null,
            "grid_auto_flow": null,
            "grid_area": null,
            "grid_template_columns": null,
            "flex": null,
            "_model_name": "LayoutModel",
            "justify_items": null,
            "grid_row": null,
            "max_height": null,
            "align_content": null,
            "visibility": null,
            "align_self": null,
            "height": "53px",
            "min_height": null,
            "padding": null,
            "grid_auto_rows": null,
            "grid_gap": null,
            "max_width": null,
            "order": null,
            "_view_module_version": "1.2.0",
            "grid_template_areas": null,
            "object_position": null,
            "object_fit": null,
            "grid_auto_columns": null,
            "margin": null,
            "display": null,
            "left": null
          }
        },
        "689eac72d6634dbd973d5a2ca4209a71": {
          "model_module": "@jupyter-widgets/controls",
          "model_name": "DescriptionStyleModel",
          "model_module_version": "1.5.0",
          "state": {
            "_view_name": "StyleView",
            "_model_name": "DescriptionStyleModel",
            "description_width": "",
            "_view_module": "@jupyter-widgets/base",
            "_model_module_version": "1.5.0",
            "_view_count": null,
            "_view_module_version": "1.2.0",
            "_model_module": "@jupyter-widgets/controls"
          }
        },
        "96c73c65b47e478ea7deaed1ec1c5c9b": {
          "model_module": "@jupyter-widgets/base",
          "model_name": "LayoutModel",
          "model_module_version": "1.2.0",
          "state": {
            "_view_name": "LayoutView",
            "grid_template_rows": null,
            "right": null,
            "justify_content": null,
            "_view_module": "@jupyter-widgets/base",
            "overflow": null,
            "_model_module_version": "1.2.0",
            "_view_count": null,
            "flex_flow": null,
            "width": "100px",
            "min_width": null,
            "border": null,
            "align_items": null,
            "bottom": null,
            "_model_module": "@jupyter-widgets/base",
            "top": null,
            "grid_column": null,
            "overflow_y": null,
            "overflow_x": null,
            "grid_auto_flow": null,
            "grid_area": null,
            "grid_template_columns": null,
            "flex": null,
            "_model_name": "LayoutModel",
            "justify_items": null,
            "grid_row": null,
            "max_height": null,
            "align_content": null,
            "visibility": null,
            "align_self": null,
            "height": null,
            "min_height": null,
            "padding": null,
            "grid_auto_rows": null,
            "grid_gap": null,
            "max_width": null,
            "order": null,
            "_view_module_version": "1.2.0",
            "grid_template_areas": null,
            "object_position": null,
            "object_fit": null,
            "grid_auto_columns": null,
            "margin": null,
            "display": null,
            "left": null
          }
        },
        "fcc0f30df6594621a96c89c2164aed44": {
          "model_module": "@jupyter-widgets/controls",
          "model_name": "ButtonStyleModel",
          "model_module_version": "1.5.0",
          "state": {
            "_view_name": "StyleView",
            "_model_name": "ButtonStyleModel",
            "_view_module": "@jupyter-widgets/base",
            "_model_module_version": "1.5.0",
            "_view_count": null,
            "button_color": null,
            "font_weight": "",
            "_view_module_version": "1.2.0",
            "_model_module": "@jupyter-widgets/controls"
          }
        },
        "7e54459dbcaf46b8983c46c56acc6b5e": {
          "model_module": "@jupyter-widgets/base",
          "model_name": "LayoutModel",
          "model_module_version": "1.2.0",
          "state": {
            "_view_name": "LayoutView",
            "grid_template_rows": null,
            "right": null,
            "justify_content": null,
            "_view_module": "@jupyter-widgets/base",
            "overflow": null,
            "_model_module_version": "1.2.0",
            "_view_count": null,
            "flex_flow": null,
            "width": "200px",
            "min_width": null,
            "border": null,
            "align_items": null,
            "bottom": null,
            "_model_module": "@jupyter-widgets/base",
            "top": null,
            "grid_column": null,
            "overflow_y": null,
            "overflow_x": null,
            "grid_auto_flow": null,
            "grid_area": null,
            "grid_template_columns": null,
            "flex": null,
            "_model_name": "LayoutModel",
            "justify_items": null,
            "grid_row": null,
            "max_height": null,
            "align_content": null,
            "visibility": null,
            "align_self": null,
            "height": "53px",
            "min_height": null,
            "padding": null,
            "grid_auto_rows": null,
            "grid_gap": null,
            "max_width": null,
            "order": null,
            "_view_module_version": "1.2.0",
            "grid_template_areas": null,
            "object_position": null,
            "object_fit": null,
            "grid_auto_columns": null,
            "margin": null,
            "display": null,
            "left": null
          }
        },
        "c68823e5f566496f8c94354eb55bb65f": {
          "model_module": "@jupyter-widgets/controls",
          "model_name": "DescriptionStyleModel",
          "model_module_version": "1.5.0",
          "state": {
            "_view_name": "StyleView",
            "_model_name": "DescriptionStyleModel",
            "description_width": "",
            "_view_module": "@jupyter-widgets/base",
            "_model_module_version": "1.5.0",
            "_view_count": null,
            "_view_module_version": "1.2.0",
            "_model_module": "@jupyter-widgets/controls"
          }
        },
        "76686fb5718e405ea6b684ddc50600d1": {
          "model_module": "@jupyter-widgets/base",
          "model_name": "LayoutModel",
          "model_module_version": "1.2.0",
          "state": {
            "_view_name": "LayoutView",
            "grid_template_rows": null,
            "right": null,
            "justify_content": null,
            "_view_module": "@jupyter-widgets/base",
            "overflow": null,
            "_model_module_version": "1.2.0",
            "_view_count": null,
            "flex_flow": null,
            "width": "300px",
            "min_width": null,
            "border": null,
            "align_items": null,
            "bottom": null,
            "_model_module": "@jupyter-widgets/base",
            "top": null,
            "grid_column": null,
            "overflow_y": null,
            "overflow_x": null,
            "grid_auto_flow": null,
            "grid_area": null,
            "grid_template_columns": null,
            "flex": null,
            "_model_name": "LayoutModel",
            "justify_items": null,
            "grid_row": null,
            "max_height": null,
            "align_content": null,
            "visibility": null,
            "align_self": null,
            "height": "25px",
            "min_height": null,
            "padding": null,
            "grid_auto_rows": null,
            "grid_gap": null,
            "max_width": null,
            "order": null,
            "_view_module_version": "1.2.0",
            "grid_template_areas": null,
            "object_position": null,
            "object_fit": null,
            "grid_auto_columns": null,
            "margin": null,
            "display": null,
            "left": null
          }
        },
        "7dd75c537a614b3f8f47baa656f79f02": {
          "model_module": "@jupyter-widgets/controls",
          "model_name": "DescriptionStyleModel",
          "model_module_version": "1.5.0",
          "state": {
            "_view_name": "StyleView",
            "_model_name": "DescriptionStyleModel",
            "description_width": "",
            "_view_module": "@jupyter-widgets/base",
            "_model_module_version": "1.5.0",
            "_view_count": null,
            "_view_module_version": "1.2.0",
            "_model_module": "@jupyter-widgets/controls"
          }
        },
        "889fce1a3efe42df96949529f005e7b4": {
          "model_module": "@jupyter-widgets/base",
          "model_name": "LayoutModel",
          "model_module_version": "1.2.0",
          "state": {
            "_view_name": "LayoutView",
            "grid_template_rows": null,
            "right": null,
            "justify_content": null,
            "_view_module": "@jupyter-widgets/base",
            "overflow": null,
            "_model_module_version": "1.2.0",
            "_view_count": null,
            "flex_flow": null,
            "width": "300px",
            "min_width": null,
            "border": null,
            "align_items": null,
            "bottom": null,
            "_model_module": "@jupyter-widgets/base",
            "top": null,
            "grid_column": null,
            "overflow_y": null,
            "overflow_x": null,
            "grid_auto_flow": null,
            "grid_area": null,
            "grid_template_columns": null,
            "flex": null,
            "_model_name": "LayoutModel",
            "justify_items": null,
            "grid_row": null,
            "max_height": null,
            "align_content": null,
            "visibility": null,
            "align_self": null,
            "height": "24px",
            "min_height": null,
            "padding": null,
            "grid_auto_rows": null,
            "grid_gap": null,
            "max_width": null,
            "order": null,
            "_view_module_version": "1.2.0",
            "grid_template_areas": null,
            "object_position": null,
            "object_fit": null,
            "grid_auto_columns": null,
            "margin": null,
            "display": null,
            "left": null
          }
        }
      }
    }
  },
  "cells": [
    {
      "cell_type": "markdown",
      "metadata": {
        "id": "view-in-github",
        "colab_type": "text"
      },
      "source": [
        "<a href=\"https://colab.research.google.com/github/Luesierrape/Curso-IA-Udea/blob/main/LAB_07_02_NEURAL_NETWORKS.ipynb\" target=\"_parent\"><img src=\"https://colab.research.google.com/assets/colab-badge.svg\" alt=\"Open In Colab\"/></a>"
      ]
    },
    {
      "cell_type": "markdown",
      "metadata": {
        "id": "C2q1r-n_3ZM4"
      },
      "source": [
        "# LAB 07.02 - Neural networks"
      ]
    },
    {
      "cell_type": "code",
      "metadata": {
        "id": "7PlYp9Wq3ZM_",
        "colab": {
          "base_uri": "https://localhost:8080/",
          "height": 57
        },
        "outputId": "58d125b0-672b-4488-9d71-cd19c10546ac"
      },
      "source": [
        "!wget --no-cache -O init.py -q https://raw.githubusercontent.com/rramosp/ai4eng.v1/main/content/init.py\n",
        "import init; init.init(force_download=False); init.get_weblink()\n"
      ],
      "execution_count": 143,
      "outputs": [
        {
          "output_type": "display_data",
          "data": {
            "text/html": [
              "\n",
              "<meta name=\"google-signin-client_id\"\n",
              "      content=\"461673936472-kdjosv61up3ac1ajeuq6qqu72upilmls.apps.googleusercontent.com\"/>\n",
              "<script src=\"https://apis.google.com/js/client:platform.js?onload=google_button_start\"></script>\n",
              "    "
            ],
            "text/plain": [
              "<IPython.core.display.HTML object>"
            ]
          },
          "metadata": {}
        },
        {
          "output_type": "execute_result",
          "data": {
            "text/html": [
              "<h3>See <a href='https://m5knaekxo6.execute-api.us-west-2.amazonaws.com/dev-v0001/rlxmooc/web/login' target='_blank'>my courses and progress</a></h2>"
            ],
            "text/plain": [
              "<IPython.core.display.HTML object>"
            ]
          },
          "metadata": {},
          "execution_count": 143
        }
      ]
    },
    {
      "cell_type": "code",
      "metadata": {
        "id": "1IXYm0l03ZNC",
        "colab": {
          "base_uri": "https://localhost:8080/",
          "height": 137,
          "referenced_widgets": [
            "a57b9a15b07e447bbc670bd1119e4a90",
            "7ac3f7b9fdaa4302aa392ea512f74e7b",
            "c68ebc62fae7425fb0e053cf240193a5",
            "86b8da6caade4bf69ed24b0a23e93aee",
            "e7833c59cae64498add04a78d644ae68",
            "3c8d39667fb9476fbb0c234a30b2ee6b",
            "ed2e846655704d20a3e9fe4accab6033",
            "a852f69fb7064b9ebd1854f73b05d6f1",
            "1be80bfbbf25496b8abb090d9a819a23",
            "5158845bdb5a4faa84f7e3a794324ab7",
            "71814e0203ab4e5e8e34965324342b3f",
            "689eac72d6634dbd973d5a2ca4209a71",
            "96c73c65b47e478ea7deaed1ec1c5c9b",
            "fcc0f30df6594621a96c89c2164aed44",
            "7e54459dbcaf46b8983c46c56acc6b5e",
            "c68823e5f566496f8c94354eb55bb65f",
            "76686fb5718e405ea6b684ddc50600d1",
            "7dd75c537a614b3f8f47baa656f79f02",
            "889fce1a3efe42df96949529f005e7b4"
          ]
        },
        "outputId": "f4183f3e-d833-4789-df97-dbd8e0b9bd00"
      },
      "source": [
        "from local.lib.rlxmoocapi import submit, session\n",
        "session.LoginSequence(endpoint=init.endpoint, course_id=init.course_id, lab_id=\"L07.02\", varname=\"student\");"
      ],
      "execution_count": 144,
      "outputs": [
        {
          "output_type": "stream",
          "name": "stdout",
          "text": [
            "logging in as luesierrape@unal.edu.co... please wait\n",
            "using course session ai4eng.v1::open\n",
            "success!! you are logged in\n"
          ]
        }
      ]
    },
    {
      "cell_type": "code",
      "metadata": {
        "id": "-IPjteoO3ZND"
      },
      "source": [
        ""
      ],
      "execution_count": null,
      "outputs": []
    },
    {
      "cell_type": "code",
      "metadata": {
        "id": "K5SEIi3z3ZND",
        "colab": {
          "base_uri": "https://localhost:8080/"
        },
        "outputId": "a57f05a4-2f92-48bf-eeac-9b66983ee0fc"
      },
      "source": [
        "import numpy as np\n",
        "from IPython.display import Image\n",
        "try:\n",
        "    %tensorflow_version 2.x\n",
        "    print (\"Using TF2 in Google Colab\")\n",
        "except:\n",
        "    pass\n",
        "\n",
        "import tensorflow as tf"
      ],
      "execution_count": 145,
      "outputs": [
        {
          "output_type": "stream",
          "name": "stdout",
          "text": [
            "Using TF2 in Google Colab\n"
          ]
        }
      ]
    },
    {
      "cell_type": "markdown",
      "metadata": {
        "id": "1tIYWEiW3ZNE"
      },
      "source": [
        "## Task 1. Compute softmax output\n",
        "\n",
        "You have a classification problem with $n_c$ classes. You have a dataset of $m$ elements and you are given:\n",
        "\n",
        "\n",
        "- $\\hat{\\mathbf{y}} \\in \\mathbb{R}^{m\\times n_c}$, the **logits** of the output layer of a neural network\n",
        "\n",
        "compute $\\hat{\\bar{\\mathbf{y}}}$ the softmax output corresponding the given **logits**, as explained in the notes.\n",
        "\n",
        "**NOTE**: You will not be able to use tensorflow in your solution. The grader will penalize you if you do.\n",
        "\n",
        "**CHALLENGE**: Use a single line of Python code"
      ]
    },
    {
      "cell_type": "markdown",
      "metadata": {
        "id": "BKNBVHh0Bfqi"
      },
      "source": [
        "![image.png](data:image/png;base64,iVBORw0KGgoAAAANSUhEUgAAA/UAAAHHCAYAAAD+lnh2AAAgAElEQVR4AezdvY5s55ke7H0G5BmQgANHxhbgAxBhwGQoJfYwMpUxlBMCdiSCB0ApNJPRBISdGBYTwwCNgQiDsJhx4GQ4TgRbAzihLDgw0/5w96d7++l3r6r+q+6uqr4WUFp/78/zXm9taj21VlW/uLAQIECAAAECBAgQIECAAAECJynw4iSjFjQBAgQIECBAgAABAgQIECBwIan3JiBAgAABAgQIECBAgAABAicqIKk/0YkTNgECBAgQIECAAAECBAgQkNR7DxAgQIAAAQIECBAgQIAAgRMVkNSf6MQJmwABAgQIECBAgAABAgQISOq9BwgQIECAAAECBAgQIECAwIkKSOpPdOKETYAAAQIECBAgQIAAAQIEJPXeAwQIECBAgAABAgQIECBA4EQFJPUnOnHCJkCAAAECBAgQIECAAAECknrvAQIECBAgQIAAAQIECBAgcKICkvoTnThhEyBAgAABAgQIECBAgACBZ5/Uf//99xfvvffe5Svb6/4h3yKff/75xYsXLy6y3rc0hpTt68MPP7z44YcfXquWYznXcllnPGmjy3fffXfx8uXLi08++eTy0Fb7s/7sK3Xmua+//rrN7l2n3Ky3bscgcb377ruX663GUmbGslVm69hd6yXm2d9d29mKqcc6F/WY/bVM1qt75i91u+ybw7Z53Rz85V/+5ZX3TsbbZba/9p0yjW/rXPud5+b7tO/D9tX17DM+aecxlvQbs6yzxCH9T4/HiEMfBAgQIECAAAECBO4iIKlfkvq7IN60zk2ShTXpa/KX9UyS0udNy7Zck6k1eZp9ZLtJYeNdz9822Up/77///pWktPHvS+pv6nqochlXx542M/65f99+drnPPmbyu7pnv4nmrrbm/DW53monx9akvu+PjHPWXd93a9+Nafo06e/Y+l5aP3CaddrnVnuz3CG3O5Z9cR2yP20RIECAAAECBAgQOLTAgyX1vaj/7LPPLpPRJBHrhfOawKzn20bXOf8f/+N/vLyL9tFHH10mXLPdJgU5NhODXrjneF8pm6Xn2ve632Sk9bpu/SbMPT77XSerbe0qMz0y5i5bx7eOzfEknrbRGLvfdmf5jr/n2v5M6Br/Vjutt7WO6b6kPnNZvyaBaSf9db/z0nL7YrhLvfneqUXaSdx5td8cm0v2e25azTLdbh+NvWOa9dpeY2jd9XjrruVafl2vfed857jxz7YSY4/P+FKvsWTecq5zNPtsfGlj/jeg/25m2dlm+0ws33zzzWvtt++20/1PP/308r8vqb/Gu46z8c4Y22/abZtZd6lfy81z/feVdud7eZZpO9YECBAgQIAAAQIEDi3w4El9L4K7bkKzXmj3/Lwgn4lFzmd/vbhuvdzxTd3ut51d/TSB6YX9rv1e4LfdrhNHL+Z7rOuc21ra1q6L/bbXpGO20Tg7rn1lcy7JRcaepWVrv9Vuxz/P1X8rnlnuuu3Eviupz3gaV8dYn6zT9x//+MfLdY93Tru/9n/Xepm3Oda0kzntfGZd//TZfuqc81uOja/zMNvsuaw7rtnHPN/5SL+12tffrJvY0m+t1/6ajKZc4+gHGjOensuxb7/99tJrnt/qs/8uZt+zXLZr3bIZ122S+tbruvPYeHu865z/wx/+8OqDgB7P+BtL1llq1zJddzxzXnsu610u69jtEyBAgAABAgQIELiPwIMn9b3w7YVxL7bX/QyiF9Otk3UujrufMq3XZGZeUOfcvIjP/rr0fC+41+Ro3Z/1G0/H0HjbT+v2/Kyb7ZZvsrCe79jmeGeZHG/cLburrVmvRlvtNuZ6znrtYyYqN+lvtpHt9LErqV8fv0+MjTN9xXJN6tf21/271st459y1nbxnOo44pdyuMSX2XUZ9703P6b5vLtJ/5yPtt+xsq9spty6tW9ucbzx5T33xxReX76203fdL7rDHo++51Om5OqV8+t015vSX83Oca2zdX9ta+0q5lukYu994Wqf9ddw9P8ecsnVs+dlH2m75jKF9tk5d2mf3t+p0jNYECBAgQIAAAQIEDi3w4En9eiHci+te7Pd8BtaL5X1lepHe5KR15kX5Vttpv8dzgd4L8LX+ul/w1t3qJ+3N1yzT+lk3Acl6a1nHtpZJDI17q2yPNZbG0aQj9ddl13hbrnXbZtZb7bT81jp93CepT5I0x9b3x1ZfORbflrlNvZRtvbWd7Ncq5bZcarRrfhtv30st3zlt+523lu+6Y0n7Lds25jrl1qV159w1+Uz/OZ9+M/4k82nvyy+/fC2pT9851zHWYbq17zXGrbhaNuubtN0ybav7jadjquF6fvaX7cbY8mscu8bXdhPHVpl5fu3TPgECBAgQIECAAIFDCjxZUr910dsL7CYITX56AZ+BZztJRZOT1pkX5bNeL/KbOK37a/11P3021rbRCWg/M6HK9lqu5dtO1lvLVnLQco2rbW+VrU3jqUnL1qxtZt12W3aeW7cb/03Kzrrp475JfdvrWOZ7oOe6Tpx9D/XYTerFb9Zb26lVyqW99SmD9nXTddvLWNLX+t5c2+n7LWVb96Zz0ffGfA+s/eVc3l8ZV9rN4+nx6Huu5fv+WtfpYy6Nt+WuizXjqkXa6ZzNOWmb7Wut0xjb13p+xpftLcdZp+dnDKnXMn0vxGiWmefXPu0TIECAAAECBAgQOKTAkyX1TTK2LoSbeKwX8Bl467VML7p7EZ8ys96aGLR8E5Xut/663/6SbGR7Lre9cG/5rLeWJiTpq+NLuXm8XvPYLJvy6xhqsJbbKtu41jb2lW2dXeu0daikvn1kLjpnPdZ1fOvUY13vq5dzs97aTk1Sbm637evWW/O/Huv+OrYe3/W+va7vxLzrfdU220fKxSFjzLrn20bOb73m+6tlWzfn1v7XmNt/1ln6vq1FzdNO2s+y1um/i9ZpHN1PncaSc21znp9ttr3ZZ+t0bI1zfe/MOpfB+h8CBAgQIECAAAECDyDwZEn9vFjOxW9fvVDOWOfFd8fei/QmEL3Anhfls14vuNt+1+1nrb/ut63W6zoX/rvabmyNuesmC21jrnMuy642U7Yxt719ZVO+cbRc91s/63W889yusW+1M+ut2+njPkn91nfqE8OuOGKZBOu29fLeWhOzuV+rlMuSfub7bj2/OnQe5ryv87rr30Xr9H3Svmb/a39zf/13k3Ptq++rGV/6Wc/3/dAY2n7rNZbGlphbdh6rX+t3nbK76nT8XbeNtU5jbizdb72uO68zrpxLe2ubtWvdrvv+6/jbZsbTNhpnx2hNgAABAgQIECBA4NACT5bUZyDrBXcvxDvIJhHzwrgX2L2g7kX5rLvW6wV2LsZzrm3k+Fp/3W9bvZDvOnWz9IK+x+eFfcfR9Yyj5btueynbGHou613troYpOy1mjDVrPLOvtU7LrOOfbTTOOT+tN9cpd5+kPmO8rXO9blOv42mSmzlpO9Nqjnf1meemQbfXeNpXz3e9truWa6y75q3tdN33/Jy/vnfa9r793/3ud5fvq5Ztu1m3Xt576aexT7uU6/t/V8w9P/8tNO7+G+j3/eu81mkss48eSxtb/z7aRs5lu/tZd5lxtFzPdU7neNtG42xZawIECBAgQIAAAQKHFniwpP7QgWqPAAECBAgQIECAAAECBAgQuCogqb/qYY8AAQIECBAgQIAAAQIECJyMgKT+ZKZKoAQIECBAgAABAgQIECBA4KqApP6qhz0CBAgQIECAAAECBAgQIHAyApL6k5kqgRIgQIAAAQIECBAgQIAAgasCkvqrHvYIECBAgAABAgQIECBAgMDJCEjqT2aqBEqAAAECBAgQIECAAAECBK4KSOqvetgjQIAAAQIECBAgQIAAAQInIyCpP5mpEigBAgQIECBAgAABAgQIELgqIKm/6mGPAAECBAgQIECAAAECBAicjICk/mSmSqAECBAgQIAAAQIECBAgQOCqgKT+qoc9AgQIECBAgAABAgQIECBwMgKS+pOZKoESIECAAAECBAgQIECAAIGrApL6qx72CBAgQIAAAQIECBAgQIDAyQhI6k9mqgRKgAABAgQIECBAgAABAgSuCkjqr3rYI0CAAAECBAgQIECAAAECJyMgqT+ZqRIoAQIECBAgQIAAAQIECBC4KiCpv+phjwABAgQIECBAgAABAgQInIyApP5kpkqgBAgQIECAAAECBAgQIEDgqoCk/qqHPQIECBAgQIAAAQIECBAgcDICkvqTmSqBEiBAgAABAgQIECBAgACBqwKS+qse9ggQIECAAAECBAgQIECAwMkISOpPZqoESoAAAQIECBAgQIAAAQIErgpI6q962CNAgAABAgQIECBAgAABAicj8GBJ/SeffHLx4sWLi6+//novxnfffXfx8uXLy7Ipn1fqbi3ff//9xXvvvXel7Icffnjxww8/vCr++eefX+k3/bfdrXXKZ1nbTj85dpelbe0ae86///77Fxn7TZbEuI7zJvVuUiYxvPvuuztjmX61ukm7x1Am8e56Lx0yvusMZ1+3KTvrrduZl33viYz7Mca+xnXX/emy/vuY5+7a/lPUW8dxqH/H69yf2lw/xVzokwABAgQIECBwzgJPmtTPhHFNuNek+qZlc+GctlI+y756KZfy+VAgCdJ1Mdz0jXDopP6m/d6l3HUJUxKGGJ3ikrgfI7G9znDa3absrLdu5319Tkn9HN+aDB/KbPbxGNvrOA7V53Vzf6h+tEOAAAECBAgQIHAaAk+W1DfxbWJdrq3jW8dSPhf7vcvfxDPrmdS33ayb4K+JXttpkjST/NTZtbSv9Dc/hGi86acfFLTtnuvxtt/Yeny2l35aP7HmLv+nn376WtuNc22rffT8jOujjz7avFM/DTq+b7755iLl88qxOs7+Mh+JsUvKfPbZZ68+NOn5GUPnrnW6vs9Y59zE7i//8i9fGab9tL0+oZCYajXrz7lI3Y4pY8nrP/2n/3SlrXpsjWvtt2W35n19r6TfLLPOGttlgT/H2PKNuX2sc7e2kbj7fkvdadH5y/HEl3J9L846OZ84Z9sdT453Sdt51eV3v/vdladxUrbn+r5L/GtfbS/rtJeyKdMx59hcst9zM8ZZptvTO3XW8okvLm0vbXesPZY2cjwx/fGPf7xcrzFlvnpsV5/zeONIvTnXs8ycr4wn5TJfqTtj61itCRAgQIAAAQIETk/gyZL6XnjOi9Hy9SK5F637yubcbCMXxblYzfF12dXOvADvRfVad91PucaXc3O/7c3zibGJSM7Px+8T17z4bv2OK223bm16rmUbd9qa/TYhyjrLjKOJ++x7HWfKt+323f2UXWNf91N/tp/9zE/bWOOd/be/1Mly27Gmj9ZNWzFPG1lybr5PcjzGWefcNFz30+Y8n7b7AcE6/svOxv/sK9vxpf3OTfrOsu6nn74nRvOvNtNGx571LJu6HXv7zLHZT/fT/1q3Y2/d9vOq8z9v5Pz6Pp9znzEl+Y7JdFnr5VzeQ+2n/dZm7TfHO76cy1jmezDnO4acX/dne2vd9r3GUq+ez/46jvRTy7md/mbZ6/rM+baTuoml8ax11/2U22cxx26bAAECBAgQIEDgNASeLKnPRe28wJ9cTWB64d2yuUC9btlXNvXTZy+AZ1s5lnN9zQvfWS7b88K95xpz+t86vy9paRtznXgaZ9rsRfxsp+VbtjGsTqmfMtfF1fbmOvVSP8vad/vr+dZrPNmf29lPbJ3X7M9kpvW7XvvL8bbXvneNNWU77myv5dtO1lnSTra3jFq342zdy4rD5YsvvrhMmNaYWi7rrTHN82177XOWyXb66HtiPZf9trN1bh3jLJv4+uHHrrlJ+Vis7Wz11bI5lzpJ4vPK+NLX3O4HI2u/W2Yz5rXf9DNtZpxzu/Wus265rmffa18tk/U6jll2HdNt5nMt23h2jaPnE9Pczv4ax4zfNgECBAgQIECAwGkInFRSn4viLtluAp51L+J7fCuxyrGUzYXt1tK6s92tdnZdCKfdtLFezKevmUxsnU+ZtJsPE9p/40ybHd9W371Qbx+tP9cps1V3Vyz16ZgaXxOvdUwtn3XibeyNrefXhGRf/1vxtr3rxrrGkf2OJXXjmViaVOZc9rf6nHW7nfJdUqfzNj+w6Pm53mp/1s+cte3E0zns/Let1bHHu04bbafH1vd32sgy28p2661xNZas+z7PeNtO+5nrvheScMa6fWUOci6vLNNlfU/Mc217a3w9lzanV98r6XurrdRLe42l7cz1alGjfXGs45hxrQn4Vv+7+qxh2mjsqT/HOWNPv7vi3eUx69smQIAAAQIECBA4boEnS+pzYToTmMnUi9kmSFtlc6E6k4xexPd46qzLVjtrmez3gntffDO5bRu9MF8v5nN+XnCv5zve9Ne401YvxGcysHUR3rKzj8Y011t111hm+Wx3TNle6+/qb18SkfF1rtLmvv7X/hpPYtrVd8p0mXHkWPv+9ttvLxPMtJFEM/ttc6vP1J0O2c6rS+okqU/767mW6Xq233q75n3W6YcG7bdjaWLXsl3POPpvov+eVrs5B6mXtrPMWNvuXK/tzHPdThu58/93f/d3l/OeOu0j3+3O+SyzrxnPeq7tzvH1WNfz30uOzThnPy2fddpLvXVJ+drXZfY9t9e66zjWuLr/hz/84crXFK7rc537xjDHOWNJPymTpWV7fpdHz1sTIECAAAECBAgcv8CTJfW9AE1CMy+m5/FeiM5js2x4ewHcRDHnZ5I0pyAXwznXdntu6/jWsZZvPCnTpR8EpP+t8/PiOefnd41TZ41pXnznfMc322nfLTtj6Lm5vi6uWbbbaTv9Z1n73tVf40mduZ39mHUs2V8tcqzL2l+Ot71dfbdu1qtr+krfSSY7prSXH/LLsSxbRmtfjaF9zTiz3QS/5+d6ll3jS7m17Vk3dk3MV8dZbrbT2Od7dWuM6TcG8cn5LFvlZj/XnU/Z9J8PTmKcPrJk3Okr+zmfZbqk3fnvY567LHyNU9pf32N9omAr5hr1PdE+sr5ujta+Zt11HGvZjqs/JFmL6/pc577vmV3j6PnENrez3xiythAgQIAAAQIECJymwIMn9Umi11cTjKzXc91v8lLWfWVTJxfCWbLOfvto/azbRi5s59IL/fY911vtpG76mTHO/bbXxKIX2+33uov9jqHls9+2ti7C54V64k1S2Yv09p02Gnfb6rlZfrpkO2237lbfa3/r/owt7eV8+8/+ajH73+pvtrf21fE03qxTvkvPz/dHysz9lM2xXXOb8zOG7K9xrvXb/1o25aZFY0n7jTXHusx+V8eW6bpl13a6v4457eVY6s1lHUvf2yk/t2eddTttpu2OpX11P+Wn4fqemOfadsfX/blOu9N1jXMd07q/r62UnU5r2/VNuXUcOTbjatnZXvpey619rnM/LXJu/nte92fZ9LVlO8dvmwABAgQIECBA4PgFnjSpD08uKnMRmgvbvnLhubX0Arrlsp4XyanTC+BczK5LjqXOVvtbbW+1MdtsX2lzJoG9mM8duMa6xpkYci5tzIv7xpfjbTPbrb91Eb5eqM+42seMu33nXGLc+ipBy6ds2suy1XeO1zXtzYQi59bYUrZjyflape112epvbW/fWFM/8dQx7af83N/qo+Uynrxm+ZxbY1jb6Hym3LrMsi3XflJ+xtf4e351S1yrd/ubMa7tfPnll5dzMOPr+3/rPZ9yjSHrltlXp3FknfIzzq160yV12mc81nM9P+Of/aXOllXjTtmU6ZjW+Z1tXTdHKbv6zrjmONa4Zhwztuv6rF9N08fsM211bC3TMa1lt2xb1poAAQIECBAgQOA0BB4sqT+N4YuSAIEIJFFMIpy1hQABAgQIECBAgACB0xGQ1J/OXImUwIMJ5O7uvNv7YB1pmAABAgQIECBAgACBgwpI6g/KqTECpyXQR733PYJ+WiMSLQECBAgQIECAAIHnJSCpf17zbbQECBAgQIAAAQIECBAgcEYCkvozmkxDIUCAAAECBAgQIECAAIHnJSCpf17zbbQECBAgQIAAAQIECBAgcEYCkvozmkxDIUCAAAECBAgQIECAAIHnJSCpf17zbbQECBAgQIAAAQIECBAgcEYCkvozmkxDIUCAAAECBAgQIECAAIHnJSCpf17zbbQECBAgQIAAAQIECBAgcEYCkvozmkxDIUCAAAECBAgQIECAAIHnJSCpf17zbbQECBAgQIAAAQIECBAgcEYCkvozmkxDIUCAAAECBAgQIECAAIHnJSCpf17zbbQECBAgQIAAAQIECBAgcEYCkvozmkxDIUCAAAECBAgQIECAAIHnJSCpf17zbbQECBAgQIAAAQIECBAgcEYCkvozmkxDIUCAAAECBAgQIECAAIHnJSCpf17zbbQECBAgQIAAAQIECBAgcEYCkvozmkxDIUCAAAECBAgQIECAAIHnJSCpf17zbbQECBAgcEIC33777cVvf/vb1yLOsZw7xuU3v/nNZli//vWvN48f4uCf/vSni1/+8pebTe06vln4iQ9mHFvzvev4E4erewIECBA4EgFJ/ZFMhDAIECBA4HkKJIlL0rYuW4nqz3/+84vf//73l0WzvVVvbecx95NAz5jywcMvfvGLyxByvNuHjintzn7zwUI/RIjXqST2q0/G0A9J8j7ZSvgPbak9AgQIEDg9AUn96c2ZiAkQIEDgTASSpL148WIz2U2C1wS+w51JXc6tSWDLPeQ6ieabb755JYluf/mgYS5JtOcY5ocSs9xNtjPWt99++7WiW0n72u8HH3zwWr2nOvDjH//4YiuezG0T+MaWsc0PK1bflrMmQIAAgectIKl/3vNv9AQIECDwhAJJ8JKsvvHGG1eSt4S0Jn5J8NZH7n/yk588evRvvfXWReOenSchnUlp4v3qq6+uJPU53zvos+5120ls2+9aP3fh54cdMfriiy+u9LuWua6/hzqf2DKOvOIzlzVh7zjWMmu9ed42AQIECDxPAUn985x3oyZAgACBJxZIIprkLksS+PWu+5qw5/ya+CW5fswlCXX6TGK5fhCR+GZynbjW5DWJ6jrOm8SfOm2/Zq23fviR44ltLonrLv3ONg6xnVhjmA8Z1rjX+Y7Vy5cvr3RbgysH7RAgQIDAsxeQ1D/7twAAAgQIEHgKgSTHveucJHkmq7kzvSahSejnnfDEnMTwIe7cps2PP/748jVtEmMT9/Q9Y1wTzoxhTUrT1m0/iEg7edy/40z96bC2l2R4TZCPIamfc5wx5YOHjiku6wc2eW9sHet7Jt6ZIwsBAgQIEJDUew8QIECAAIFHFkiSOZP4dN+7uA1lTUxTPsngXNYy89x9thPf+sh6ksmZQCchnXfr16Q+ifealCam9Q71dXGm3Vknsc045nbaStx5zeUYkvp1ftdxrXOZ8ol7LtO4czTP2yZAgACB5ykgqX+e827UBAgQIPCEAknO5t3mhJIkeSavM8nLuSSv885u6swyhxxOEsY1oZx36dtX4s1YsiTpn3WS0OfYjDnnW75t7Fuvd+lbNhbtK+3NPnIutvNY9nuHu2085jqxrB/irHfr17lM+TmGxJux5kmELjXovjUBAgQIPE8BSf3znHejJkCAAIEjF5gJfpK7JH0zoUv4s8whh5Nk8bYJY2KcCXuS6PWOefbXMdw37sQ5E/bEsMaeDxjWpxzu2++h62cM0yZzO/fT3zrf6zgPHZP2CBAgQOA0BCT1pzFPoiRAgACBZyaQhG1f0pa7z/vO34frur53tT2T+q0y153fqnOTY1uP+c96D9Xv7OO+2/nQYd84cn4dx0PN/33Hoj4BAgQIPK6ApP5xvfVGgAABAgQu77i+8847F3k1kcs6d+PnI9frne5Jt+/cLHeX7V1JfY7Pu8eJdd2fd81n3/kQYpad5/ZtJ5nNn8abdbM9nbK/K8FNv8dwl77jWOOesa1366dLEvpZNud2jXnWs02AAAEC5y8gqT//OTZCAgQIEDgygSRjL168uHw1ydv1ve+en0PYOjbPZztJYH/Bftd6V1KY4+u5JM5pM3E3ucwHC+sP1c3ke8Z0k5hn+W6nvTx2/vbbb/fQ5Qch63fQG9OrQn/e2BXPWu6h9+OZmPNBTpfsr3fft+KN3db41jlqu9YECBAg8LwEJPXPa76NlgABAgSORCB/7i0Jcu/UJ3HdStzuGm6Sxeteu5LCHN91Lj/gNu/GP+QTAx17XGI1E941GW7ZY14n/vmhSJL1aXnb2HfN0W3bUZ4AAQIETltAUn/a8yd6AgQIEDhRgSRzSfB6B7rJ/TEMZ19S368JJM4kpXnC4DGWeVc78d31zv9jxLqvj/mhyH2/GiCp3yftHAECBJ6PgKT++cy1kRIgQIDAEQnk7nP+znsS+9ylP3RynIQv30Xf99qVGO9L6hPnm2++eSm53i3PBxW5c5/j8676Idjno/7z7nYc8/WCx3hi4BDjyFznlWUdR8aQY/G7yVMbkvpDzIg2CBAgcPoCkvrTn0MjIECAAIETFUhyl6R+/RvmhxhOvut+3WsmlbPPfUl9H4Vfy+QDgnyloMvc7rH7rPvoevqdH0Yknjw9sH7AcJ++HrJuzH/0ox9dJu8zcZ8f7DSxvy4OSf11Qs4TIEDgeQhI6p/HPBslAQIECByhQJLTJPXH9Oh9mNaEfaVLwr7+UF3uMs9x5AOFfU8fJAnPVw9mgr72s+7Hait5z7Gt42v97PfH6mZCvZZL3Em8WyZjafuxybnGfZP2Zvud8/UDlXyw0yS9fcx6W9stv3XOMQIECBB4PgKS+ucz10ZKgAABAkcokISxCeKxhJdkcV/CmER2jXlNrNf9dWw5nw8HbvPYfO5mN9Ge7V3X11o2/e4bX5L6jLF9Zbtxpt6cs3yQcV17s/9sp/665FgT/fSRDzCuW/aN4bq6zhMgQIDA+Qhc//8Y5zNWIyFAgAABAkchkEfJmxT3+9VHEdBI77sAACAASURBVNifg0iyuCthTNxbd+DXxHrd3xpfEuU6bJ2fx2K263v6N+lrtpXyTdjn8btu36a92G2NOWPL3fr8PkDaywcF1y275ui6es4TIECAwHkJSOrPaz6NhgABAgROQCB3YXNnNklZ784eU9hrUp8EOEln1rvi3Xr8flfZjPUmY2+/6Xvrg4Sa3SapT1t5HWrJOK5rL0l8XjftOx/07LNr7OnbQoAAAQIEJPXeAwQIECBA4JEFktAf43fpy7Am9UlGcxc5yfOuJUnrfKw8d5rvezc8iXz+QsB1Ce5tkvpd8T/k8XzgEb/rkv/EkLHe9OkNSf1Dzpq2CRAgcDoCkvrTmSuREiBAgACBRxFI8pkEfSbpN+k4SWYS2LxuksDepM3ryqSffOc9if3WY+3X1T+W8xlHEvrrPsBovHeZn9a1JkCAAIHzEpDUn9d8Gg0BAgQIECBAgAABAgQIPCMBSf0zmmxDJUCAAAECBAgQIECAAIHzEpDUn9d8Gg0BAgQIECBAgAABAgQIPCMBSf0zmmxDJUCAAAECBAgQIECAAIHzEpDUn9d8Gg0BAgQIECBAgAABAgQIPCMBSf0zmmxDJUCAAAECBAgQIECAAIHzEpDUn9d8Gg0BAgQIECBAgAABAgQIPCMBSf0zmmxDJUCAAAECBAgQIECAAIHzEpDUn9d8Gg0BAgQIECBAgAABAgQIPCMBSf0zmmxDJUCAAAECBAgQIECAAIHzEpDUn9d8Gg0BAgQIECBAgAABAgQIPCMBSf0zmmxDJUCAAAECBAgQIECAAIHzEpDUn9d8Gg0BAgQIECBAgAABAgQIPCMBSf0zmmxDJUCAAAECBAgQIECAAIHzEpDUn9d8Gg0BAgQIECBAgAABAgQIPCMBSf0zmmxDJUCAAAECBAgQIECAAIHzEpDUn9d8Gg0BAgQIECBAgAABAgQIPCMBSf0zmmxDJUCAAAECBAgQIECAAIHzEpDUn9d8Gg0BAgQIECBAgAABAgQIPCOBB0/qP/nkk4sXL168en399dev8X7++eevzrfsWm6rzCz7ww8/XHz44YevtdMy77333sW/+lf/6tX5xNVlrbv2/d133128fPnysu6sl/rff//9RdpOP4mxS+PNuZTZtbRc6q/9zjqrY8aauLvMdjrmuf63//bfXo4h7TTmjCljm0vHOuOebc8YV7fZX7bTxjfffPOq39nPbLP1Ztsp2zLrWFMudda5mO3bJkCAAAECBAgQIECAwHMQeNCkvklZk7auZ/K2JqstsyZtu9pKubR3kwRzJvUzUWwi275nfHkTzL5nsts3SJPMJsmzvbWt1sl6jXkrSV3LNMasZywzxlmm2zOpT991T725tJ0eX/ufMa7n2lfXu5L69t1ycz3bbyw533gSa71n2TkG2wQIECBAgAABAgQIEHguAg+W1Dfha6Ib0CZpTcaanM0yKbd1vHVncrdrkrb6TtmZTM4+23aTy5mI9652EtQ+CTDPN4a2/dFHH70q13G2zLruONNu2p9Jess2tvkhRGNak921zrTqBw2NafYdryxbbrPcrhh31c3xXf1O/5RrP/N4x55xzuMt27GkvoUAAQIECBAgQIAAAQLPUeDBkvpgNtGdCelE7vkkaevShK6JW/dnorrW6f5Wcppz7a/rtpX9XUn7TCDndvvqeibaSUK3EvSW7bpxpN253fO7xpHzrdOyc71ltSbXbTuxpq22mf05XzOuuT37y3bbm8l3jq/97mujcadMlu4nprx6fN88XFb0PwQIECBAgAABAgQIEHgmAg+a1Df5alKWdRPpXUlg3ddkcE3w2uZMQFt3V9tNKL/44ovLpDv7Tcaz3fNNctPePNayuxL2Od7ZRuOa67Wt1k1/XVpma4wts7WuVa1TZvXMsZZrnx1r67X/jncrxva/y3z2u6tM25hlZ3yfffbZq6cfEsO+ONqWNQECBAgQIECAAAECBJ6DwIMm9QFsotYkPOskj3dN8GY72d5KeHe13aT1yy+/vKyXZDUJftpJItvzSRqzrEltjq1lLgv++X96rmOc59btNTHd6mvr2NrO1n6T9SbnKdN5SIxdeiwOf/d3f3f5QUcT+JS5SYxta5d5+0i/u8q0jVk2x+Y4GsucszmWtmFNgAABAgQIECBAgACB5yTw4En9xGyS1sSxSXCT6K2yTdxadyaqs/zc3pU8zv7a3l/8xV+8+r72PJ/2mkiuHyRsfZiwVXZrXI2zfW213THuGkdj2/pAI+c6traTY2vCnGNtvx9CdJ1zWW4S45+LvmrrIR6/7zgaT+ZsjbVxWBMgQIAAAQIECBAgQOA5CTxYUr91l3k91kR4TQR7PIlbE+OtRHXXRDVZXdttUpg2Zx9bHzK0jcSw9Zptd1wplzjbdttd42yCvdVujs1kveOex2Z/GdO6tE7WXdrnWr5lG0u9W77H1/WMJ33Ua7rkeNtpv7VZy/V4+mkMja3jmONOubbZMVoTIECAAAECBAgQIEDguQk8WFIfyCRdazK4JmO7yqzl1gRv30TtSjDbV5LGmSA2OZznm4xuJeYt12Sz+zPR7bGs16VjWc81ppnw9tiW41Zs6avtN74c63h29Zn2Z/xtY1f5GWPa32W+1W/a3BrPTeZ8Jv9rbKuzfQIECBAgQIAAAQIECJy7wIMm9cFbE7itRKwJ5Ez0ere2E9AyM1HtuXW9K8FsLG17337724q3iWWS4L/+67++TFDXJLfJbMbU/hJnY1uPdwyNaR1nj9doJuCt23Vjn200nq3xtO2Wv0uMrbPLYe23MXY8Wx4t07hWv7XNjt+aAAECBAgQIECAAAECz0XgwZP65wJpnAQIECBAgAABAgQIECBA4LEFJPWPLa4/AgQIECBAgAABAgQIECBwIAFJ/YEgNUOAAAECBAgQIECAAAECBB5bQFL/2OL6I0CAAAECBAgQIECAAAECBxKQ1B8IUjMECBAgQIAAAQIECBAgQOCxBST1jy2uPwIECBAgQIAAAQIECBAgcCABSf2BIDVDgAABAgQIECBAgAABAgQeW0BS/9ji+iNAgAABAgQIECBAgAABAgcSkNQfCFIzBAgQIECAAAECBAgQIEDgsQUk9Y8trj8CBAgQIECAAAECBAgQIHAgAUn9gSA1Q4AAAQIECBAgQIAAAQIEHltAUv/Y4vojQIAAAQIECBAgQIAAAQIHEpDUHwhSMwQIECBAgAABAgQIECBA4LEFJPWPLa4/AgQIECBAgAABAgQIECBwIAFJ/YEgNUOAAAECBAgQIECAAAECBB5bQFL/2OL6I0CAAAECBAgQIECAAAECBxKQ1B8IUjMECBAgQIAAAQIECBAgQOCxBST1jy2uPwIECBAgQIAAAQIECBAgcCABSf2BIDVDgAABAgQIECBAgAABAgQeW0BS/9ji+iNAgAABAjcU+Pbbby9+//vfv1Y6x3LuGJff/OY3m2H99re/3Tx+qIO7PHbFc6h+D93O1jiOeb4PPX7tESBAgMDtBST1tzdTgwABAgQIHEwgye6f/vSn19rLsV/+8pdXjv/85z9/leTn3Fa9KxUeeSdjmcl7ktEm1UlWu33osNLu/PAjfTWOnOv2ofs9dHvrnCbuJvk5N8d46L61R4AAAQKnKyCpP925EzkBAgQInLhAkrYXL15c/OIXv3htJDm2Ju1N8FI455LkP/aSuN58883XYkscH3zwwZVwkoT++te/fnVsa0yvTl6zkbbffvvt10ptOcykPhWewum1QP984Mc//vHFO++889rp1SoF8oFE53xrnK814gABAgQIPEsBSf2znHaDJkCAAIFjEEiClzuwb7zxxmtJ8pog5wOA9U73T37yk0cdRhLLJPSJe/0gIsnnTOC3Asv5dQxb5dZjSXhjlH7XPrK/dSc+sXZJrMdwlztxvvXWW5evNeabfODx2PNdP2sCBAgQOG4BSf1xz4/oCBAgQOBMBZrgZXhJ4NckOQnsXJK8rnec1zKz/ENsJ8bE2iR7TZxnoppzSWB7pznx5Pw6zpvEWZ9p1noxmXEktjz9MI+lXj48eeqlH0pkLte79WvCng8/4jeX2E3jec42AQIECDxfAUn98517IydAgACBJxRogpcQdiXJM7wktutd7iS0M2me5Q+9nSQ5d+l7x7uJdvvZSjhzd31d1uR1Pb/urzbTLWXXDzZSfj121w8T1ljus79+IJGEfSbo6wc2mesYz2XLeJ63TYAAAQLPU0BS/zzn3agJECBA4AkF1gQvoaxJ8pqYrndtW+exhpG7yzPJXJPtNeHMGGf5xnnbpH51We1Wp8SZWOaSOuuxef4xthNnYuuy3q1frZLkrx/irMZty5oAAQIEnreApP55z7/REyBAgMATCCRZS6I5lyTJ8xHxmfz27vN6V36WmW09xHaSzsQxlySZTTwT+xxTziVxnY/BJ/7bJNepm2R4tpH+E0v7Wh+/j0n6mbGm7LSdY3iM7cSyNVc51jjXDydevnz56lxjlNRXwpoAAQIEpoCkfmrYJkCAAAECRyIw79wmqV2T14Q5yzx12EmkZ+Kc2NaY8wFAPwQ4VLz54GC2mUR53hFPP0mGmzwfqt9Dt7PGmK8u9IOL9nVM892YrAkQIEDg6QUk9U8/ByIgQIAAAQKvCSRJXpPTWSiJ7Jr0zfP32U67SSBvc1c9/SWJ37fctr19bfVcP/Do/tb6uri26jz2sXzosG++E88cRyzXu/uPHbP+CBAgQOA4BCT1xzEPoiBAgACBZybwT//pP734h//wH155/a//9b+uKOTO9/roeQrk2LwrfqXSAXaS1K8fGPz93//9xb/+1//6yuvf/Jt/c6W3rXotkA8p5h31Hr9u/Td/8zdX+kwM//7f//sr1ZIM77oTn5jS91MvX3755Wvj+C//5b9cCWvXfKdQzq1jfIgPSa4EZIcAAQIETkJAUn8S0yRIAgQIEHiuAmsiF4etY4f02UrO//f//t8X/+7f/bsrr//8n//za93uStzvmlj/j//xP670mRi++eab1/rd1f6ueF5r4IEP/Lf/9t9eG8ff/u3fvtbr+mFKCmS+t8YnqX+NzwECBAg8SwFJ/bOcdoMmQIAAAQK7BbaS+t2lnXkqAUn9U8nrlwABAsclIKk/rvkQDQECBAg8A4EkzV999dWrV4bcY1uP2z82iaT+scXv1p+k/m5uahEgQODcBCT15zajxkOAAAECRy+QZOzFixeXrz5WncfEt/7s2VMMZiupT5yJ7+23334VUr7n/dOf/vTV/kNsJJb8INw777zzqvnEMX807tWJI97I9/7zZ+pm3BnXfb4eIKk/4gkXGgECBB5RQFL/iNi6IkCAAAECEcjd+PzJsiT2/cXzJMhN8A+h1A8N9q13JYVbSX3jTntNRDOOx/gza/lOefrtbwnE6TH6PcQ8zDYy12+++earQxlH5v2uy675u2t76hEgQIDAaQpI6k9z3kRNgAABAicu0Lv1P/rRjy5HckxJ6q6kPoGud8n7ocRDT0fucjcBTnLfDxYeut9Dt58PJ+KbJWPoBxV36UdSfxc1dQgQIHB+ApL685tTIyJAgACBExDo3efe+W7Cegyh70vqk8T3g4gkpfM3AHIuxw791EFM8th6v54wP0iI489+9rOLU0lwM4bG2nXGF8fsxy5jna673hOz/q4yjhMgQIDA+QtI6s9/jo2QAAECBI5UIAlekvq8bpLE3WYYbXffeldSuC+p74cRiXdNrnM3vUu2DzmmfFiQR9fTf7a7pI8kwbvG0nLHsk7Snu/Sx3h+3SJPavQOflxvMp6blDmWcYuDAAECBB5OQFL/cLZaJkCAAAECewWSnCbp7h3ovYVvebKJ+b51EuStpXW2zuVYfg8gMc+kvXeYW+e6H4FLH7/61a9a/Np1+opV+lmXJLc3TXBjfl2/SbZnmdRpAp441nNzf41t3c+48+HEOo633nrrVVKfMn0aYq0/92865lnHNgECBAicn4Ck/vzm1IgIECBA4IQEkszNO8/HEPp1Sf1Wwr4m1uv+Oq4+pbAmt2u5uR+rJtfz+HV9zbJ5giAfDmSMu5a0lzL90KIfYqR84s25xpGY5v6uNufxtNe2ezymffIhsaXN65bEaSFAgAABAtf/PwYjAgQIECBA4MEEjukH8jrI65L6rWRyTazX/bY910lib/qBRpLgXR8A3KSv2W/KNymfx+f2PJ8nGmYSvj7hkPbWY7OtuZ12t8ac4/nA4eOPP778Zf8k+dct6ddCgAABAgQk9d4DBAgQIEDgkQWSvCWZT6J4jInZvqQ+ifVMcEuXBH39G+y989wyc70vSZ/lur2vrRje1DHJ803Ltu9969u0lzHvG0f7yXvjJuUOOY72bU2AAAECpycgqT+9ORMxAQIECJy4QB6/zveqczd2K0F+6uGtSX0S18SbJHJXvDk+7y7nsfR9y03ubCeOfLc8Ce6uftPHbX4ob187++Ldde4m7eWDkIxj15MGs+2M9aZPb0jqp5xtAgQIPF8BSf3znXsjJ0CAAIEnEkhCm4T1JgnhU4SY2PJn4vIoeJccu25J8p+kNK9s33eJz3X9pp98Pz+J/U0+KLhvTHepn7iu88j5JP2xu8mShP6dd965SVFlCBAgQODMBST1Zz7BhkeAAAECBAgQIECAAAEC5ysgqT/fuTUyAgQIECBAgAABAgQIEDhzAUn9mU+w4REgQIAAAQIECBAgQIDA+QpI6s93bo2MAAECBAgQIECAAAECBM5cQFJ/5hNseAQIECBAgAABAgQIECBwvgKS+vOdWyMjQIAAAQIECBAgQIAAgTMXkNSf+QQbHgECBAgQIECAAAECBAicr4Ck/nzn1sgIECBAgAABAgQIECBA4MwFJPVnPsGGR4AAAQIECBAgQIAAAQLnKyCpP9+5NTICBAgQIECAAAECBAgQOHMBSf2ZT7DhESBAgAABAgQIECBAgMD5Ckjqz3dujYwAAQIECBAgQIAAAQIEzlxAUn/mE2x4BAgQIECAAAECBAgQIHC+ApL6851bIyNAgAABAgQIECBAgACBMxeQ1J/5BBseAQIECBAgQIAAAQIECJyvgKT+fOfWyAgQIECAAAECBAgQIEDgzAUk9Wc+wYZHgAABAgQIECBAgAABAucrIKk/37k1MgIECBAgQIAAAQIECBA4cwFJ/ZlPsOERIECAAAECBAgQIECAwPkKPHlS//nnn198+OGHFz/88MPF119//Wo75PPc+U6BkREgQIAAAQIECBAgQIAAgbsJPHlSP8OW1E8N2wQIECBAgAABAgQIECBAYL/AgyT16x3277777uLdd9+9yLrLJ598cnlnvmX/+q//+uLFixeXr/fee+/i+++/v7xT//7771/k1XMpbyFAgAABAgQIECBAgAABAgQuLh4kqU/ynkQ8iXmWJOJJynMnPkuO55H7Ju77Hr+f9VL/5cuXVz4cuGzQ/xAgQIAAAQIECBAgQIAAgWco8CBJfb4fn0S9SXzuyvcV4xzPfpbeqb/Jd+rzIUDu4rfdZzhfhkyAAAECBAgQIECAAAECBF4JPEhSn9aTtCdh7135JOIfffTR5Q/i5VwTc0n9q7mwQYAAAQIECBAgQIAAAQIEbiXwYEl9kvbcrf/2228vk/kk90nqs5+kPvtZJPW3mi+FCRAgQIAAAQIECBAgQIDAK4EHS+p7h/7TTz+9TNzTY5L5zz777CLHukjqK2FNgAABAgQIECBAgAABAgRuJ/BgSX2/Vz9/6C4J/NxPqJL6202Y0gQIECBAgAABAgQIECBAoAIPltSngyTs/fN02d/603Yzqc/d/ZTvL9zPc6nf8/0+fgdhTYAAAQIECBAgQIAAAQIEnqPAgyb1zxHUmAkQIECAAAECBAgQIECAwGMJSOofS1o/BAgQIECAAAECBAgQIEDgwAKS+gODao4AAQIECBAgQIAAAQIECDyWgKT+saT1Q4AAAQIECBAgQIAAAQIEDiwgqT8wqOYIECBAgAABAgQIECBAgMBjCUjqH0taPwQIECBAgAABAgQIECBA4MACkvoDg2qOAAECBAgQIECAAAECBAg8loCk/rGk9UOAAAECBAgQIECAAAECBA4sIKk/MKjmCBAgQIAAAQIECBAgQIDAYwlI6h9LWj8ECBAgQIAAAQIECBAgQODAApL6A4NqjgABAgQIECBAgAABAgQIPJaApP6xpPVDgAABAgQIECBAgAABAgQOLCCpPzCo5ggQIECAAAECBAgQIECAwGMJSOofS1o/BAgQIECAAAECBAgQIEDgwAKS+gODao4AAQIECBAgQIAAAQIECDyWgKT+saT1Q4AAAQIECBAgQIAAAQIEDiwgqT8wqOYIECBAgAABAgQIECBAgMBjCUjqH0taPwQIECBAgAABAgQIECBA4MACkvoDg2qOAAECBAgQIECAAAECBAg8loCk/rGk9UOAAAECBAgchcC333578ac//em1WH7961+/dswBAgQIECBw7AKS+mOfIfERIECAAAECBxP47W9/e5FXlyT4v/jFLy53f//7319I7CtjTYAAAQKnIiCpP5WZEicBAgQIECBwb4Gf//znr7Ux79pvnX+tggMECBAgQOCIBCT1RzQZQiFAgAABAgQeTiDJ+0zac2f+l7/85UXu1nfJXfu53+PWBAgQIEDgWAUk9cc6M+IiQIAAAQIE7iWQR+nfeeedV23ksfs+at+DL1++vPL9+vXx/JazJkCAAAECxyogqT/WmREXAQIECBAgcC+BH//4x5dJfL9Dvyb1uVOfMnNJmdy9txAgQIAAgVMRkNSfykyJkwABAgQIELixQO7S5zUfuZ8/ipeGcj4J/PxO/W9+85srP6R34w4VJECAAAECTyQgqX8ieN0SIECAAAECDycw78Dnkfvclc/ywQcfvOo0x/OaSf26/6qwDQIECBAgcKQCkvojnRhhESBAgAABAocXyA/lzSR+7WH+kN56zj4BAgQIEDhGAUn9Mc6KmAgQIECAwAMJbCW0W8ceqPtHazZj6q/YZ7tjzDqP3W8t+T5962ydd4wAAQIECByjgKT+GGdFTAQIECBA4AEEnlMym+T8rbfeukzmsz1//G5X4t5H9B+AXpMECBAgQODBBCT1D0arYQIECBAg8LgCuQv98ccfv7orPXtPQr8mrUl6u+S75Oe2JJHPuOOyK5E/tzEbDwECBAg8PwFJ/fObcyMmQIAAgTMVSGL+xhtvvPa32DPc674rnl9933Un/1S5ksjnh/H6J+06jiT7kvxqWBMgQIDAqQtI6k99BsVPgAABAgQuLi7vRufOe5LVJPb9Dnlwcmzeic+53sWeePOX4efxU95++fLlawl8xrk+tXDKYxQ7AQIECDxvAUn9855/oydAgACBMxFI0t7EPUlrtzO83Kle78L/5Cc/eS3ZnX8G7kxYLvIEwrqc4zjXMdonQIAAgecjIKl/PnNtpAQIECBwpgK58/7mm2++ujufu9Dzbn0S2/UR9Pl9+rIk0T+HJR4xWD/IyNhyPB965OmFJPfu2J/DjBsDAQIEnreApP55z7/REyBAgMAZCOSu/Pro/Lxbn4R+3rlPQruVwJ/LHex+vSDrdcnXDvpaz9knQIAAAQKnKCCpP8VZEzMBAgQIEBgCSdLXBDb7OZ4ld6NnUp+k9mc/+9mVu/cpv34wMLo4+s2M8auvvnrNYQ08H2bkw4utu/hrWfsECBAgQOAUBCT1pzBLYiRAgAABAvcUmAl7EuD1cfw8or/1/fN7dvso1ZOg57U+kbDVeX44Lx9g9G/Yrx+GbNVxjAABAgQIHLOApP6YZ0dsBAgQIEDghgL/83/+z4v5+vu///srNbe+Vz8LzDv58/ixbyeR73fj82f79iXpeXIhTylkyYcA3T72MYqPAAECBAjsE5DU79NxjgABAgQInIhAEtv5evfdd1+LPEnsVtKbhL+P6r9W6cgP5AmEJPOnGv+R8wqPAAECBE5AQFJ/ApMkRAIECBAgQGBbIB9k9GsD61cKtms4SoAAAQIEzktAUn9e82k0BAgQIEDgWQnkDn3u1udx+q2nEJ4VhsESIECAwLMUkNQ/y2k3aAIECBA4J4H88N2vfvWri48//vjVsHrs1QEbBAgQIECAwFkKSOrPcloNigABAgSem0DuWL/xxhuvHkVPUp/9Qyxp+5133rn25Xvth9DWBgECBAgQuJ2ApP52XkoTIECAAIGjFchj6PNP1x3q193zWHu+r37da9/j7//hP/yHi/zC/nN+/eEPfzja947ACBAgQOB0BST1pzt3IidAgAABAlcE8oNxb7755uWxJNj9AbkcyH4e0X+qu+n/4l/8i4sXL14869d//a//9cp82SFAgAABAocQkNQfQlEbBAgQIEDgCASSuCdxTuKeH45bl/xS/F2S+jzKn+/rX/dKuV3L3/7t3157p/+6JwFO/fz/+T//ZxeP4wQIECBA4M4Ckvo706lIgAABAgSOT+Dly5eXj7jPu/SNMufusiRZv8lj8/uS+rv0qw4BAgQIECBwvYCk/nojJQgQIECAwMkI/PznP7/IHfl1yR36n/zkJ5eP4ed797nrbTmcQD5E2XoKIsf3/dbA4SLQEgECBAg8VwFJ/XOdeeMmQIAAgbMUyI/jbd0xz/E8kp9kfuv8WWI80qDiuX7dYX6wkqccLAQIECBA4KEEJPUPJatdAgQIECDwyAK5U7z12H3CyF36JJq7zj9yqGfVXZ6O2Hc3ftcHLWeFYDAECBAg8GQCkvono9cxAQIECBA4jEDuBH/11Vd7H6nP9+lzl37+ybvD9K6VaZrkPnft5537uB/qzwvSJkCAAAECq4CkfhWxT4AAAQIETkwgSeW+O/Azmc/d+nwIsO/O8okN/1HDzaP26w8OzkftE8z6mwWp4xH8R50mnREgQOBZCUjqn9V0GywBAgQIPEeBJJV5ZUky3+3naHHfMfcDlHkn3T/0JwAAIABJREFUfk3q16Q/fUrq7yuvPgECBAjsEpDU75JxnAABAgQIECAwBPJhSB+17zqnZ1LfvzIwql1+iCKpnyK2CRAgQOCQApL6Q2pqiwABAgQIEDhbgSTyfcohX2no3fr8UF6XHM+PErZcjuerEfu+HtG61gQIECBA4C4Ckvq7qKlDgAABAgQIEPizQJL7rb9RX6CZ9PeYNQECBAgQOJSApP5QktohQIAAAQIEzlogv0eQvzLQZd6N3/Xr9injLn3FrAkQIEDgIQQk9Q+hqk0CBAgQIEDg7ASS1OfR+iTp2Z7fq9/1A4Qz8T87EAMiQIAAgaMQkNQfxTQIggABAgQIEDgFgTxm32Q+35+3ECBAgACBpxaQ1D/1DOifAAECBAgQ2BTI3e98X/2676xvVn7Ag/m1+yT0iW9dEqu786uKfQIECBB4SAFJ/UPqapsAAQIECBC4s0CS5ybO+dvv3b5zgweq2KR+q7k+mr91zjECBAgQIPAQApL6h1DVJgECBAgQIHBvgRcv/t9lSn5BPnfBj2HZFUfu3nsk/xhmSAwECBB4XgL/7/8tn9e4jZYAAQIECBB4ZIEkvPn1+H2v+afh3njjjVd353/xi19c5PWUS2LLa9cTAxlffkjPQoAAAQIEHlNAUv+Y2voiQIAAAQLPWCCPrf/oRz+6vJvdu9pd57H13I1/6623XiXNuSOeOlnn8fun/tNw+VBhV0KfaU2cu/603TOedkMnQIAAgQcWkNQ/MLDmCRAgQIAAgf9fIAlx7r7venw9pVJmTd5zbCb7x+qZX8WfTxoca5ziIkCAAIHzEpDUn9d8Gg0BAgQIEDhqgdyZT2J/0+Q3CX3u1t+0/FMOPk8TWAgQIECAwGMLSOofW1x/BAgQIEDgmQvkMfs8hn/dkkQ+d/WT2D/FMr8acF3/+TN2/fv115V1ngABAgQIHFJAUn9ITW0RIECAAAECNxLIXe0k98e65Lvx+UDhJsl6yuaVDwEsBAgQIEDgsQUk9Y8trj8CBAgQIEDgMlnOY/hJmp9iyVMA+RX+rSUx9Yf5rvtxvNTPbwCcwtcDtsbqGAECBAicvoCk/vTn0AgIECBAgMDJCSQJXn8Qb98g8qfiDvUBQO7A5656v6+/9ptE3qP0q4p9AgQIEDhWAUn9sc6MuAgQIECAwJkKJDl/qr8531/SL22S9/Wx+TxK/9Of/vQy6W/y3/LWBAgQIEDg2AQk9cc2I+IhQIAAAQJnLJCk+rqEfn2UPXfWd33/Pu3lMfqt1xZjkvT8mn6XxLIVT/rMkwRp30KAAAECBI5ZQFJ/zLMjNgIECBAgcGYCSaD3Jcq5S74+lp/9rcQ7NL3r3+R8rrfobprUb9V1jAABAgQIHKOApP4YZ0VMBAgQIEDgDAXyqPu//Jf/8uLjjz9+9cr+O++8c/l68803L/+G/Tr03KVfH5Fvmdveqc+HAOud+nyQYCFAgAABAqcqIKk/1ZkTNwECBAgQeCYC+SX6Xctt79SnnbTXpwWS4KcNCwECBAgQOFUBSf2pzpy4CRAgQIDAMxBI8j3vrB9iyPnOfu7O53vzeVkIECBAgMApC0jqT3n2xE6AAAECBM5cIN+n93j8mU+y4REgQIDAvQQk9ffiU5kAAQIECBB4KIHcod/1A3kP1ad2CRAgQIDAqQlI6k9txsRLgAABAgQIECBAgAABAgT+LCCp91YgQIAAAQIECBAgQIAAAQInKiCpP9GJEzYBAgQIECBAgAABAgQIEJDUew8QIECAAAECBAgQIECAAIETFZDUn+jECZsAAQIECBAgQIAAAQIECEjqvQcIECBAgAABAgQIECBAgMCJCkjqT3TihE2AAAECBAgQIECAAAECBCT13gMECBAgQIAAAQIECBAgQOBEBST1JzpxwiZAgAABAgQIECBAgAABApJ67wECBAgQIECAAAECBAgQIHCiApL6E504YRMgQIAAAQIECBAgQIAAAUm99wABAgQIECBAgAABAgQIEDhRAUn9iU6csAkQIECAAAECBAgQIECAgKTee4AAAQIECBAgQIAAAQIECJyogKT+RCdO2AQIECBAgAABAgQIECBAQFLvPUCAAAECBAgQIECAAAECBE5UQFJ/ohMnbAIECBAgQIAAAQIECBAgIKn3HiBAgAABAgQIECBAgAABAicqIKk/0YkTNgECBAgQIECAAAECBAgQeLCk/vPPP7/45JNPXglne+6/OnFxcfH9999fvPfeexdff/31PGybAAECBAgQIECAAAECBAgQ2CNwFEn9nvicIkCAAAECBAgQIECAAAECBHYIPEhSn7v0L168uHx9+OGHFz/88MPlXfps5458z/XO/HqnftZ/+fLlxXfffbcj/IvLttNu22x/qZB677///sWnn366eb79tu58kiAxzLZatjGn7GeffXaR+BpjxrkrlsSTOu0rDmkzy9r25UH/Q4AAAQIECBAgQIAAAQIErhF4kKQ+fW49ft/kt+eb2M6kNklzj6fcuj/H0yQ6fXVJ4tzkPEl9+ux++0n5te66f5Okfsa51k88M5a1vXW/8VsTIECAAAECBAgQIECAAIGbCjxqUt/kOsEl4X733Xcv1022k8DvS+LXQaXsvJue82krd+fT/uyjdZtobyXhLZP1mnTPGHO+7bTOdbGs7bWeNQECBAgQIECAAAECBAgQuKvA0SX1Tbb7mHqS5V1LEuWWm+s+EbAvqU+babv11g8H1iT8uqT+ulhaP/01vl3jcpwAAQIECBAgQIAAAQIECNxE4OiS+hl07obvS4LXxHvWzfZ1SX3Lp1wS7fTVpwnWtpuU90OG9U79Wr5tr+v5ocV8fH8tZ58AAQIECBAgQIAAAQIECFwncNRJfYJvEpykeV2SYO9LjG+a1Lfd2d6apF+X1M+6bW/fem1vX1nnCBAgQIAAAQIECBAgQIDAlsDRJfVrcryVmHcgTfh7dz3HZ/2tur3D3rrzw4KeazvzMfmUy538tJ9lls1+29sVy/ohwYzzskH/Q4AAAQIECBAgQIAAAQIEbinwYEl9H2nvnfQ1CZ4J93rXOmWTQPfVRHprbK3bsu0vZWcfrTvjaIytu36vfsaRP1+X841lttO298XSpL99zQ8MWq9ttz1rAgQIECBAgAABAgQIECCwT+DBkvp9nTpHgAABAgQIECBAgAABAgQI3F9AUn9/Qy0QIECAAAECBAgQIECAAIEnEZDUPwm7TgkQIECAAAECBAgQIECAwP0FJPX3N9QCAQIECBAgQIAAAQIECBB4EgFJ/ZOw65QAAQIECBAgQIAAAQIECNxfQFJ/f0MtECBAgAABAgQIECBAgACBJxGQ1D8Ju04JECBAgAABAgQIECBAgMD9BST19zfUAgECBAgQIECAAAECBAgQeBIBSf2TsOuUAAECBAgQIECAAAECBAjcX0BSf39DLRAgQIAAAQIECBAgQIAAgScRkNQ/CbtOCRAgQIAAAQIECBAgQIDA/QUk9fc31AIBAgQIECBAgAABAgQIEHgSAUn9k7DrlAABAgQIECBAgAABAgQI3F9AUn9/Qy0QIECAAAECBAgQIECAAIEnEZDUPwm7TgkQIECAAAECBAgQIECAwP0FJPX3N9QCAQIECBAgQIAAAQIECBB4EgFJ/ZOw65QAAQIECBAgQIAAAQIECNxfQFJ/f0MtECBAgAABAgQIECBAgACBJxGQ1D8Ju04JECBAgAABAgQIECBAgMD9BST19zd89BZ+85vfXPz+979/rd8c//bbb1877gABAgQIECBAgAABAgQInKeApP5I5/W3v/3txZ/+9KfXosvxX//611eO//jHP361//Of//zVtg0CBAgQIECAAAECBAgQOG8BSf0Rzm+S9hcvXlz84he/eC26raQ9iX6X3K1fk/6esyZAgAABAgQIECBAgACB8xKQ1B/hfL711luXifkbb7xx5W597tx/8MEHryLO/ldffXUxk/qc/MlPfvKqjA0CBAgQIECAAAECBAgQOF8BSf2RzW3usvdx+iTw8259kve5n9Bz5369Mz8T/yMbnnAIECBAgAABAgQIECBA4IACkvqBmR+ZS4L8y1/+8sod8lHkwTdzl7533vNjePNu/VZS//Lly9d+NK8fCjx4sDogQIAAAQIECBAgQIAAgScVkNT/mT8JdB9bz2PtSZYfe5l36dv3vFu/JvW74uw42oY1AQIECBAgQIAAAQIECJyngKT+z/Oax9rno+2529075o819Unq1z9Jlw8b8uRAliTx84fyEl/21zqS+seaMf0QIECAAAECBAgQIEDgaQXOJqlPQv7xxx/f6pVfiu+SxHl+F/0pkvrGsm89Y5wJf+tsHes5awIECBAgQIAAAQIECBA4L4GzSerzuHz+DFyS89zB3vVKIp8PAPLd9TfffPPVd+dzFzzHfvWrX12kTL7L/th36m/y1kps++LK2DKWh14eo4+HHoP2CRAgQIAAAQIECBAgcOoCZ5PU5w51EvG33377xkltPgBYfzk+CXMeZ0+C/xTLP/7H//jiH/yDf3Dl9X//7/+9Ekri3kqq+0N/VwofeCc+77zzzpWvKhy4C80RIECAAAECBAgQIECAwA0Fjiapzx3oH/3oR5dJebbvsqRe7tb/9Kc/vXH1NalPxdz133c3/MaNP2DBraQ+H2w85JIPDeKSDzzm7w88ZJ/aJkCAAAECBAgQIECAAIHdAkeT1CdRTEKeV5L7uy754bg+hn+bNpIk/9Vf/dVlsrr+8Nxt2nkOZfN7A5L65zDTxkiAAAECBAgQIECAwLELHGVSf58/J5fkPPXzfflTS84T+1dffXX5vf6+cfphQ/ePYS2pP4ZZEAMBAgQIECBAgAABAgQuLo4mqc+j80nGc8f+ro/fd0KTzOf79bnjn6T4VJY8Pp+xJ/Z+LaC/FXCoceQO+3V/JeC6x/gl9afyjhInAQIECBAgQIAAAQLnLnA0Sf2hofNjcnkM/2c/+9mhm37w9vIVgvm35pvgH6LjJPXXvST1h5DWBgECBAgQIECAAAECBB5e4GyT+tAlMU5if12S+vDMt+shP0aXuLvMpL6P6D/lD/m5U9+ZsSZAgAABAgQIECBAgMDTCvy/zPFp43iQ3pMMn+oPuiWpT+Kex/HXR+9zJ/+uX1Hw+P2DvNU0SoAAAQIECBAgQIAAgScRONukPt+rT/J7myV39D/44IMH+YG9JOb5SkCS8Zv8gF/vhs+79B1LfntgTfR77rr1dY/e5/x1TzY0tuv6cp4AAQIECBAgQIAAAQIEHlbgLJP6JLxJPO+y3Cdh3tdf4mmynK8FdHtXnSTXW7FkbDmeJQn/de3sav8+x/Njhvnww0KAAAECBAgQIECAAAECTytwdkl9kt4knDe9kz2T4vt8GLBvGtNHEuEuSdive4ogZba+N587/Tl30zv+7fMQ6/j0Kw274jtEP9ogQIAAAQIECBAgQIAAgZsJnF1Sf9vH55OcdmnCmsfj991NT7ldfxaubc11kvP55MC6P8tmu8nzejz7GV9iSwwWAgQIECBAgAABAgQIEHjeAmeV1N8moU9inb9jP5Pj1M8d8Hls6+2RpD/1t15b5dckft1vnXznPm1nvWvJHf9d9XfVcZwAAQIECBAgQIAAAQIEzlPgbJL6JOJJ0nfdQc/xn/70pxfvvPPOxZtvvnn5J+PeeOONK7OahDl31JM071uSeH/11Vebr616Kd/vwed8kvZ8gLAuuQM/nxxYz+cx/pTJkjgz5vn1gbW8fQIECBAgQIAAAQIECBA4b4GzSeqTDN/2lbvyXZow9y54HoHPa2tJMr2rr63yOZYPDNpeEvrrPjjYaif1m8TP7a2yjhEgQIAAAQIECBAgQIDA+QucTVJ/36maj90n6d73CPxd+srd+nwQkH6u+5G8u7SvDgECBAgQIECAAAECBAg8PwFJ/fObcyMmQIAAAQIECBAgQIAAgTMRkNQ/wkTm7nzu1K9LHsHfOr6Ws0+AAAECBAgQIECAAAECBLYEJPVbKnc4tus78vkO/Ppr+v2xu3STR/H7Xfs7dKsKAQIECBAgQIAAAQIECDxjAUn9ASY/SfuLFy9eS97T9Nb35+fd+ST9h/7+/gGGpAkCBAgQIECAAAECBAgQOAEBSf0BJim/bJ8fwct6XeZd+ZzLHf31rv5aZm3DPgECBAgQIECAAAECBAgQ2BKQ1G+p3OJY7tLnb8Zn6d+Ob/Uk70n255L99c58689ytgkQIECAAAECBAgQIECAwHUCkvrrhK45n7vzvfOe9bxbv5XU5678fPw+zUvqr0F2mgABAgQIECBAgAABAgQ2BST1myw3Ozjv0rfGvFu/ldS/8cYbLfpqLal/RWGDAAECBAgQIECAAAECBG4hIKm/BdZa9IMPPnh1l77nksjneJb8CN78obyey/G5+E791LBNgAABAgQIECBAgAABAjcVkNTfVOqO5WbCnsfut/6EXT8EuGMXqhEgQIAAAQIECBAgQIDAMxWQ1D/wxOdH8dY787PL3/zmN6/d7Z/nbRMgQIAAAQIECBAgQIAAgV0CZ5XU9054EuncEV9/kG4Xwn2O//N//s8v/tk/+2dXXmt76y/gz/P7zs1y99nOd//zshAgQIAAAQIECBAgQIDAeQkcTVKfO9Y/+tGPLt5+++2LbN92+dOf/nTx5ptvvrrrnYQ+P0q37y75dX3kO/DXxfLNN99c/O53v7vyWttNbFtxbB1b6+7bT7sff/zxzg8v0n6S+RcvXrz2p/X2tescAQIECBAgQIAAAQIECJyGwNEk9flTcEk+80pyf9sld+Zfvnx5pVp+Vf4u31dPMv/OO+9c/qm5x7jbfyXoG+w0mc+HGBlf9vctcXiMJwL2xeAcAQIECBAgQIAAAQIECBxe4CiT+jU5v8mw86HA/KX51Ekim8T3pstM5rN9bMuazN/0Tr+k/thmUjwECBAgQIAAAQIECBA4jMDRJPV5zD3JfJLz6x553xr61iPmSepz/LrkN4+o57H/JL+3SebTbj5ImH2kfj5IuO7u+dYYdh27azLf9iT1lbAmQIAAAQIECBAgQIDAeQkcTVJ/X9atpD4fDuT4rkQ9x5PMz+/i3yWOfBgxnxKYf8buLu3NOvnRv8SXxPy6DydmvbktqZ8atgkQIECAAAECBAgQIHA+Amed1Cch3pfUZxpzlz5JeZL7v/qrv7rTzKaf+TsAh/yl+dylzxMH+dG/n/3sZ3dK7CX1d5pWlQgQIECAAAECBAgQIHD0AmeT1CfpXX8Mro/f32QWctc+ye9dkvv8mF4+PEgCnrvp88mAJuVrbDeJaZZpO3dJ7iX1U9I2AQIECBAgQIAAAQIEzkfgbJL6PPKe5HUu+WX42/7o3l2T+yTbqZu79uuSOA71K/p3Se4l9euM2CdAgAABAgQIECBAgMB5CJxNUp+EOol1kt4u+dG9uz4K3+T+pnfY86FC/gxe6q3LbT9YWOvv2s/YMsbrPjCQ1O8SdJwAAQIECBAgQIAAAQKnLXA2SX2mIT9W17vi+f55tu+7zA8J9rWV5H/+WF7L5nH8/nBe1tcl4K13m/WuGHM8vxOQrwbkO/9fffXVbZpVlgABAgQIECBAgAABAgSOXOCskvpY9zvtN0meUzaJ7r5XytxkyWP3W8l1jifhv8uf6Uu/ufO/L76c2+r3JjErQ4AAAQIECBAgQIAAAQKnLXB2Sf1tpiOPr+fR9H2vmzy+n8R714cIuTufJwZu+hj/Gv++2HpuV99rW/YJECBAgAABAgQIECBA4LwEnnVSf9+pzHflk6zvS6rznffcSe/36t1Vv6+6+gQIECBAgAABAgQIECBQAUl9Je6wzl38fY/nJ9nv9/rzGH62JfV3gFaFAAECBAgQIECAAAECBDYFJPWbLA4SIECAAAECBAgQIECAAIHjF5DUH/8ciZAAAQIECBAgQIAAAQIECGwKSOo3WRwkQIAAAQIECBAgQIAAAQLHLyCpP/45EiEBAgQIECBAgAABAgQIENgUkNRvsjhIgAABAgQIECBAgAABAgSOX0BSf/xzJEICBAgQIECAAAECBAgQILApIKnfZHGQAAECBAgQIECAAAECBAgcv4Ck/vjnSIQECBAgQIAAAQIECBAgQGBTQFK/yeIgAQIECBAgQIAAAQIECBA4fgFJ/fHPkQgJECBAgAABAgQIECBAgMCmgKR+k8VBAgQIECBAgAABAgQIECBw/AKS+uOfIxESIECAAAECBAgQIECAAIFNAUn9JouDBAgQIECAAAECBAgQIEDg+AUk9cc/RyIkQIAAAQIECBAgQIAAAQKbApL6TRYHCRAgQIAAAQIECBAgQIDA8QtI6o9/jkRIgAABAgQIECBAgAABAgQ2BST1mywOEiBAgAABAgQIECBAgACB4xeQ1B//HImQAAECBAgQIECAAAECBAhsCkjqN1kcJECAAAECBAgQIECAAAECxy8gqT/+ORIhAQIECBAgQIAAAQIECBDYFHiwpP7zzz+/+OSTT151mu25/+rExcXF999/f/Hee+9dfP311/Pw0W//8MMPFx9++OHFixcvLuPPOI51yXwk1sR83fKY85E5v2lc18V90/OPOb6bxnSIct99993Fu+++e5H1MS/3jfO69/L8b83cnvUO+b6b47nNe2v9b+Q6Z7Pdub2Wu8n+Ot7pcpP6Ny1zm/Gvbc4xpp3333//Sd7L183LGve+/dV9X1nnCBAgQIAAAQJ3FTiKpP6uwT91vVyE5sIzF6DHvsyE5phifYqL3vskHsdkd6qxzOTtLmO4zXt5V/J6yPfdXcdzm+Txrn3U95DjbZsPuZbUP6SutgkQIECAAIFzE3iQpD4Xq7l7nVfvwubiOtu5I99zudDMsiZZs/7Lly8379b0LnnKdsl2+2u72U/7uShOW+277W61s8bT9uc6sbetrBvHPN4+Wi8Gn3322WUc67mWad9tO3Xmkv2ey3o9v8sux/MBRF6t35hn+9luDJ2f9PHpp5/unLu0+cUXX7zynXOwlYykvbymVd4X6Xcuie8mbTXO2V7G2OOzzTm+xFCLtf+1rZ7fer+kzbRVz/q17ZzbtbS9ls267ax10m6s8x5q+caVsqv1vjjWfqfz2m/iyRim17TN8fV9vbY/DRrnRx999Goc83z6n31lrPN84lnfy2s8LZ91t1Mv4/zrv/7rV/3G75tvvnntCYe0N21Xk7TZOcg4+oREzRvP+t+dzm3WrZ+Y/vCHP1zGln9nOZ5jf/M3f/Oq3evMej7rLh17YmlfHVPPtewss/63KWV3/ftv/a7n+K97v7ZO1x3D7373u83/1kzzjqN11/V140lbXdpv1lvzcsj/vtWn8zHjaDzWBAgQIECAAIHbCjxIUp8gcnE0L1iyPS8Wc74XZr3QyYVYXj2edtb9OcDZR5OItW76zcVa+k5bWVq2iUza6Xb7nPuzz7mddnPBl/hbb44x/c39xDLjm21lezpkv3EmviypP+NK+7k47Liynu3P/bSxlp2xXXbw5/9Z47jJ3M1+Z5zzgrl95HxeWRLjHFPLZL36rmNInKmb9Rxr6zbRmm1mu+Nrv3WeMU2blu/59f2S83kfJN6WTTxZ2nbncMbSc20351Ju9j3Lt+1dcU/rtt1+5/7cbvuJYcbR440p7522lX4SY8eYenP+237bW/dbf9c4Uq/n0n/6me/dxHFdPO07626nXttNm91ufB1f+kyduT89cm6t2znrHKX9uZ36637ab2w91/2Un/N5ndks21jTVtub48359Vzjz7mUnfspO/cT95zv9pd1xzHHv1o1plkv23MMaaf/pnIufbadrf3Z1hr/uj/HvvbbthtjxzPHm3ONZcbcGGb76btl1/fZut/61gQIECBAgACB2wo8alLfC6UEOS+GeuGUC6C85gXUvgGljSbVaSMXT3mljSzpr9trO/MiccbSejl/3TL733WBNi/w5vZW2+lzGqXM7GOtM9129d86c7w5Nuu2TNfruTXu6bWWTRvz/Nxu+7O9zE8venu+646pc9h6NcrxbK/lWn/LM+e2Yl592kbX7Tv765jmGLb6TPm+T9vervXa9ix3XdyzbmLa9e9oxtv20/ZMono86y2b6TG3U36r7xnb3G4/W3V6bh33beKZsc16q8E8t89ijSUxzvHM83O7Y5nr9Jn4smyVne3O7bYxzbbOz7Gv4+25/ttJLHPp+Ryb29nf6qt15zjmds9P5x7rerabuvP9uK9e62d9iPHcd16m13TfFduM3zYBAgQIECBA4C4CR5fU98Ind+Lm3bmtwc0Lv1w85WIqF2R55VySxay7ZDuJTttuMtk+00a28zhtLjCvW1KmyVrbThtzmReI82Jvlul2zje2uV6Ts7Q5z6fPXf237dTpeHNsX/n13Br3vovvte1ZtrHM9hL7jKtluk7ZOZ8pn/nJPOXcHPs06XbKrMs6vpxffXIssecO5dpW3y+pk6Uxdrvl53qdw8uK43/SRsvPu6KjyOaczbin9Tw+28h2zrWvud7Vb8qvjrP9nJvn57n2HfMmaYmz/256fsbeY2ucmesst4lnxjbjWt93M6Zs9z3WWLreinOObX1vzTFMo3Uca72cn33N+LZimWV7fo59HW/PbfW7xtaybXerr56b7c3tnp9z0GNdz3ZTt++XnG9beb/uep/Ocn2vtO35nrluPLPsGsfax4y5fc32V/fs99/cvv/utS1rAgQIECBAgMBNBI4uqZ9B5+Louou4lMlFWF+5yMoF+bfffnv5PdC0Ny8IUy5L1vOiKvtpq/WTuF23pGyTk/Zxm4vJtf15Mbiey35ijEcTxNnn3N5Vd453X/n13BrXvJBN2Xnxnb5n/Vm2cc321ovelum65zOfmde03flNO9mf/bXevvVW+fl+SMxN5jufM+a03fL5LvQc/1puXxw5l/KZ087NllfbuEnc/cpB49t6H+9agKIkAAAOe0lEQVQ7177mOuUT51xmG+uY57nWSex1yhj776bn57hTf9f7POVvE8+MbcbV91V9+kFNjqdcXlvLjLPn59i25ijl0m7GlFfbzrquW/VmX9eZzbKNa459HW/PbfWb+jO2lm27W3313Gxvbvd82u17vce6nu2mbt8vPZ9152m+P+b5rT5z/jbjmWW34ph9zJgbx/Ra3Vsm9frfmJS3ECBAgAABAgTuI3DUSX0G1ou4XGhtLbloSpKXVy6UcsGVi8b8sFPOZdm6sFovLlM3F5Gpt6uvtf/WSZ+74pwXeHN7bSv7a0yzTNvvmHJuXlz2/K7Y17Zn3dnP2m7217gz7iaPW+3M83O7/cz2tuam5RpL57NjS/38MFvmKst1Y5/ttc18MDItp0+208dcZsw53nEljpmkzHZm/a3t2K2JS9vNel22rGd/s27G1g9/1nb2nVvLZn/20fPTY27n/Fb7M7a53fZapz8Yl/0u67hvE8+MbdZL+3Pe0lfOz/+WtP+5XmPJuTmerfOz/owh24kvy1a92e7cbns1S92t83Ps63h7bte/nZ5PX3M7+1t9NaY5jrnd83P8Pdb1bDd1138bLZf1Vts5fojx3HdeptfqPseQ7TmH6zn7BAgQIECAAIGbChxdUr9e5MwLva1B5XzueDSB6UVd91NnbTP7udMzL+pbb9+jnWv/6TsXnrnAbD+zfvqZ+/Nib20r+71QzUVll14E//GPf7yMt+cab8aRfrKs45x2bSf1srSv1r08+Of/Wc+tcc92W3ZazvI937g7XymTJf3PujOObG+NM23Ncbedad167Xe225jm2KfP3E699teY17jm8bY9+13baywt2zi6P8fRsln3fMvn2Gx7zsvW+DsvPTfjTpvz38zst+Nvv7OflGu7rbO2v+6v74GOK/20bLazdH/O9xpP4ppmM565nXp9r6VOtxt341qP93zXs53G1/47lrQ/t+dYOrasOwdr2ZSfzo1tLd+2Wr/7a/l1vNNl9Vv3Z9k1rpp03Ti2xp8yiW+X7xxv2plJ/Vov7e96v67xr/tpa9bN+Dp/jXF1njFPj473Ju59r7Rs+ppt1dCaAAECBAgQIHBbgQdL6ntR2Yun9eJlvYBLuVx8ZUnZXMT31eNbg+uFUup0WS8A1zZzgfbll19euZBLmbVeL9h29Z8xzKQ+baRs454Xio1hxplj61K3tjEvJtdzGUPOzzYzhtbNurHfZmzruNP+7GNr7nK+/c6YM75pknO5u9322tdqNV0Se99HOT77X8s1hqxTb2tpn7VJmenT91TbSqxrDK2TMrOdHF/nafWYMU2bGGQ/Y92K/bq4V5eW7zhmHOu56Tvj6zjzPs+rbc0xx6fz2bpbhj2XONNWnrRoe7P+6re+z2OTO+oZT+vvimfGNue445/vu8a8Zd/Yu0677Tvv511Prsz5Tfmtccb+v//3/34573Mccz6vM0tcs6/r/p1Nl7XuNMm5teyMqx5d1zWxzO2en3PQY12v7dY4dTo3NV9jbBtdT4u17NpW/hxn3o/pP0vWqTPnpbGk//nvKOVnX9e5t+2OY7aVdvb9O+zYrAkQIECAAAECq8CDJfVrR6ewn4vH9YI+F1p5WbYFti7ct0s6eqoC+xKxUx3TVtxJ9vo1nq3zjj0/Af99e35zbsQECBAgQOAUBST1f561rQv6HMsdmlzYWbYFXPRuu5zT0eeS1OcuapL6/Lu3EIiA/755HxAgQIAAAQKnICCpH49PrnfpT2ECnzpGF71PPQMP3/9zSOrz4d36mPbDy+rh2AX89+3YZ0h8BAgQIECAQAQk9d4HBAgQIECAAAECBAgQIEDgRAUk9Sc6ccImQIAAAQIECBAgQIAAAQKSeu8BAgQIECBAgAABAgQIECBwogKS+hOdOGETIECAAAECBAgQIECAAAFJvfcAAQIECBAgQIAAAQIECBA4UQFJ/YlOnLAJECBAgAABAgQIECBAgICk3nuAAAECBAgQIECAAAECBAicqICk/kQnTtgECBAgQIAAAQIECBAgQEBS7z1AgAABAgQIECBAgAABAgROVEBSf6ITJ2wCBAgQIECAAAECBAgQICCp9x4gQIAAAQIECBAgQIAAAQInKiCpP9GJEzYBAgQIECBAgAABAgQIEJDUew8QIECAAAECBAgQIECAAIETFZDUn+jECZsAAQIECBAgQIAAAQIECEjqvQcIECBAgAABAgQIECBAgMCJCkjqT3TihE2AAAECBAgQIECAAAECBCT13gMECBAgQIAAAQIECBAgQOBEBST1JzpxwiZAgAABAgQIECBAgAABApJ67wECBAgQIECAAAECBAgQIHCiApL6E504YRMgQIAAAQIECBAgQIAAAUm99wABAgQIECBAgAABAgQIEDhRgQdJ6r/++uuLFy9e7Hx9/vnnF999993Fu+++e7neskuZDz/88OKHH37YOr3z2GPX2xnIOPHJJ59c5HVsS6zuE9c+6+vmd5/FTd4/++o/1bkZ93vvvXfxzTffXLx8+fJO7+OnGoN+CRAgQIAAAQIECBA4LYEHSeonwffff3/x/vvvv5a83yfpm+2fwvZzTOrvMy8zOd76cCgfJhzjknlOEp/3dpasJfXHOFNiIkCAAAECBAgQIHA+Ak+e1H/00Uev7ujPO/PrXeAkTE3wchc0HxZsLYeol2QsH0R88cUXr/pM/03SEseMIX02cW+MSUy79Fz3U77lZhLYD0DSb46nTEz+8Ic/XPaX/Vk+7aVOYml76atL+olv2uj5HMsyY1jdW3ZfXznXtreepohVn8So56effvoqjtln491aN8Gf49o35s5R2p/vrY47faz113GmTPrb5dA+8h7JK+X+yT/5J6/KZz/1W26ONVbZb9vr+yjHG2vrb5WZ768tN8cIECBAgAABAgQIEHgeAk+a1CeZarLWRKsJTdZNhuZ2pmXdn1M1z83t29RrMtXYut/kqolZ2m+7W8lYE6+007bWmFKm7dag4+7+TDpnWz3ffnbF1fNZz7YSS+PqONp39rdi65hrMstfYvz5f3J+JvX75nrWW7cTQ5PknOuYmxR3vcbV41133DXq8a47B+kjJj0+13Xs2HvuH/2jf3TxF3/xF1fqpI2Wq9Guvhtby3dOOvb0k+3Wn7GuXvYJECBAgAABAgQIEHheAk+a1DfpK3mSmSY0M/md2y27az3Lzu1d5Xt8lp0Jac43mUqZLtneirXn51i6nYR066sIOZ/2mrA2eUxbrdt2c65J4oyh5xN7+khbOd+yOb+2P+tfF1v6XZPJtf3GkPU0nNsts46rx9d1+k1Sm/JZup++s3RuGlv6SpLcRLnnb5oYt37bm33WsmXax4xjHmu51mvs3U+9jKPja6ztO2POubxSru3VIvUtBAgQIECAAAECBAg8b4GTSOqbjCa5mUnT1tTNRPOu9ZI8zQ8cmmwlKeuSfppcze15vslbyuXVpKyJ2lynjcY7+0m9nOuSc7Pd2Ua3mxSmXsum/tr+jPu62Na20t6MpfF1PQ3nds/XpPu71ukj40r5LImj45zrvi86jjnu1qlr91t/q2zKdOn813Wrj5ZpHKm7lssY0mfjSJnOSWNImbTx7bffXs5dH/HP+S+//PJVgt/YrAkQIECAAAECBAgQeN4CJ5HUd4qaOCUxaoLVc10nGWuC1GO3rbcmoa0/k7H0MxPNbrfPGUfO5bW227JdN8Gb/aTeTDBzruNru62/rmcMObe2P8dwXWxrW2lvxrL2Pdub2y13Xewtlz4y3ymfJXE0GV/XKZu+khTXaNbJ+bmkzbbRZLz9pZ8unf++57b6aJm2k7prucY+4+icNN72n98DSFupkzjTd8rM9hufNQECBAgQIECAAAECz1fgpJL6TlMToZkc9VySoCZIPdb1TeutSWgTttlfk620vdXnTFq7va//tLN1PnXTfpfE0PFt9dtyWa/n1/ZzPu1nWc/NdrKdfpvU9tzafo9nPQ3ndsvUpPu71ul3JvXdT99by5pIp0zKpo3U3Vp6PuvWn2Ntn3Vvme6nzb5HZtK9llvbmbGt89APG1Kn9XJs9rk1FscIECBAgAABAgQIEHheAieR1CfZmslMkpyZdM0pm2XndsrctF6Ssds+fj+TxrX+TGAT04x9JtNzu2NK3dTpkjHUouXn+TnmuZ36LZ82suR8k8nu74qtSWv7WhPWywbH/0yDud0i06THttaJNbaNs2No0tt1TbbiSsydn131ZzKevtruXNdtq4/6zHbWci0z28z2rBOD9t+5aDspW/8tK8cIECBAgAABAgQIEHh+AieR1K/J0JoEzWlL0tME7671kkTdNqnvd5+bsDUBTGxrAtukbS3bhHOtOxO5nOv40vZM+NLePDctUnZtv3WbPDbWxpX1jKX1czx18ifqZn+p32Uazu2e///ar4MUCIEYCID///WSQyBEEQSbPUx5EcYxyZReepv0+r5X/+pX+/uac/QstVZXn2nOVQ7zLPv9+ax7zG+0/7e7Hv2vzb1P+6rnnr1797x9hq59N2e/406AAAECBAgQIECAwJkC8VB/AusOzyec2RkJECBAgAABAgQIECBA4P8CQv0H30Co/wBRCQIECBAgQIAAAQIECBB4LSDUvya7viDUX02sECBAgAABAgQIECBAgEBeQKjPG+tAgAABAgQIECBAgAABAgQiAkJ9hFVRAgQIECBAgAABAgQIECCQFxDq88Y6ECBAgAABAgQIECBAgACBiIBQH2FVlAABAgQIECBAgAABAgQI5AWE+ryxDgQIECBAgAABAgQIECBAICIg1EdYFSVAgAABAgQIECBAgAABAnkBoT5vrAMBAgQIECBAgAABAgQIEIgICPURVkUJECBAgAABAgQIECBAgEBeQKjPG+tAgAABAgQIECBAgAABAgQiAkJ9hFVRAgQIECBAgAABAgQIECCQF/gBSHWwx2GItXIAAAAASUVORK5CYII=)"
      ]
    },
    {
      "cell_type": "code",
      "metadata": {
        "id": "egZ_nO4i3ZNF"
      },
      "source": [
        "def softmax(y_hat):\n",
        "    y_shat = np.exp(y_hat)/(np.sum(np.exp(y_hat),1)).reshape(-1,1)\n",
        "    return y_shat"
      ],
      "execution_count": 148,
      "outputs": []
    },
    {
      "cell_type": "markdown",
      "metadata": {
        "id": "9MiePf8i3ZNG"
      },
      "source": [
        "check your code against Tensorflow. Your answer must be exactly the same"
      ]
    },
    {
      "cell_type": "code",
      "metadata": {
        "id": "11icoj_73ZNG",
        "colab": {
          "base_uri": "https://localhost:8080/"
        },
        "outputId": "ae9dcd9a-4077-4418-d25f-17edacf25f16"
      },
      "source": [
        "\n",
        "m = np.random.randint(10)+10\n",
        "nc = np.random.randint(5)+5\n",
        "y_hat = np.round(np.random.normal(size=(m,nc)), 2)\n",
        "y_hat"
      ],
      "execution_count": 149,
      "outputs": [
        {
          "output_type": "execute_result",
          "data": {
            "text/plain": [
              "array([[ 1.17, -0.  , -0.25, -1.71,  0.4 ,  0.46,  0.06],\n",
              "       [ 1.35, -0.92,  0.36,  1.66, -0.06, -0.19,  0.7 ],\n",
              "       [-0.71, -2.24,  0.74,  0.37,  0.27,  0.13,  0.49],\n",
              "       [-0.81, -0.6 , -0.74,  0.09, -1.22, -0.73,  1.47],\n",
              "       [ 1.55, -1.52,  1.88,  0.77, -0.63, -2.01, -0.68],\n",
              "       [-0.43, -1.46,  1.58,  0.01,  0.48,  0.84,  0.55],\n",
              "       [ 1.53, -0.15,  1.31,  0.76, -0.73, -0.98,  0.66],\n",
              "       [-0.73, -2.65,  0.2 ,  1.46,  0.43,  0.46,  0.42],\n",
              "       [ 0.28, -0.37,  1.37, -0.52, -0.43, -0.4 ,  0.32],\n",
              "       [-0.85, -0.46,  1.73, -0.35, -0.94, -1.09,  0.4 ],\n",
              "       [ 0.86,  1.21, -0.96, -0.86,  0.  ,  0.53,  0.02],\n",
              "       [-0.77,  1.09,  0.56,  0.73,  1.54, -2.11, -0.04],\n",
              "       [ 1.87, -2.44,  0.98,  1.11,  1.14, -0.32, -1.11],\n",
              "       [ 0.68, -0.42, -0.34, -1.42, -2.72, -2.4 , -1.53],\n",
              "       [-0.69,  0.68,  0.14,  0.31, -2.19, -1.58,  0.9 ],\n",
              "       [ 0.8 , -0.71, -1.32,  0.15,  0.36,  0.13, -0.42],\n",
              "       [ 0.05,  2.15,  0.25,  1.03, -1.17,  0.18,  1.06]])"
            ]
          },
          "metadata": {},
          "execution_count": 149
        }
      ]
    },
    {
      "cell_type": "code",
      "metadata": {
        "id": "FYmzRtmV3ZNI",
        "colab": {
          "base_uri": "https://localhost:8080/"
        },
        "outputId": "b97a0cf0-e24e-4d8a-fbe9-fb15e89dd969"
      },
      "source": [
        "my_output = softmax(y_hat)\n",
        "my_output"
      ],
      "execution_count": 150,
      "outputs": [
        {
          "output_type": "execute_result",
          "data": {
            "text/plain": [
              "array([[0.34572983, 0.10730311, 0.08356775, 0.01940746, 0.16007743,\n",
              "        0.16997606, 0.11393836],\n",
              "       [0.2618566 , 0.02705298, 0.09729981, 0.35702186, 0.06393053,\n",
              "        0.05613711, 0.13670113],\n",
              "       [0.05978977, 0.01294662, 0.25489063, 0.17606171, 0.15930722,\n",
              "        0.13849504, 0.19850902],\n",
              "       [0.05783888, 0.07135456, 0.06203268, 0.1422607 , 0.03838479,\n",
              "        0.06265611, 0.56547228],\n",
              "       [0.31798483, 0.01476122, 0.44230677, 0.14576616, 0.03594549,\n",
              "        0.00904311, 0.03419241],\n",
              "       [0.05240359, 0.01870845, 0.39110461, 0.08136743, 0.13018741,\n",
              "        0.18660145, 0.13962707],\n",
              "       [0.32717416, 0.06097675, 0.26256341, 0.15148591, 0.03414078,\n",
              "        0.02658887, 0.13707012],\n",
              "       [0.04494072, 0.00658862, 0.11390266, 0.40155488, 0.14335789,\n",
              "        0.14772378, 0.14193145],\n",
              "       [0.14316965, 0.07474111, 0.42582577, 0.06433027, 0.07038853,\n",
              "        0.07253218, 0.14901251],\n",
              "       [0.04441732, 0.06560352, 0.58618145, 0.07323177, 0.04059437,\n",
              "        0.0349399 , 0.15503167],\n",
              "       [0.23073609, 0.32743009, 0.03738519, 0.04131702, 0.09763876,\n",
              "        0.16588165, 0.0996112 ],\n",
              "       [0.03558995, 0.22862047, 0.13456714, 0.15950309, 0.35854826,\n",
              "        0.00931907, 0.07385201],\n",
              "       [0.39426358, 0.00529636, 0.16190661, 0.18438384, 0.18999916,\n",
              "        0.0441247 , 0.02002576],\n",
              "       [0.49876416, 0.16602416, 0.17985183, 0.06107688, 0.01664539,\n",
              "        0.02292283, 0.05471475],\n",
              "       [0.06458077, 0.25414797, 0.14810428, 0.17554873, 0.01440992,\n",
              "        0.02652046, 0.31668787],\n",
              "       [0.30175356, 0.06666037, 0.03621997, 0.15752917, 0.19434028,\n",
              "        0.15440989, 0.08908675],\n",
              "       [0.05803262, 0.47390422, 0.0708812 , 0.15462537, 0.01713298,\n",
              "        0.06608919, 0.15933442]])"
            ]
          },
          "metadata": {},
          "execution_count": 150
        }
      ]
    },
    {
      "cell_type": "code",
      "metadata": {
        "id": "7NBJ9TDa3ZNJ",
        "colab": {
          "base_uri": "https://localhost:8080/"
        },
        "outputId": "e0556fba-c8f5-4c7f-b57a-10f95b594d66"
      },
      "source": [
        "tf_output = tf.nn.softmax(y_hat).numpy()\n",
        "tf_output"
      ],
      "execution_count": 151,
      "outputs": [
        {
          "output_type": "execute_result",
          "data": {
            "text/plain": [
              "array([[0.34572983, 0.10730311, 0.08356775, 0.01940746, 0.16007743,\n",
              "        0.16997606, 0.11393836],\n",
              "       [0.2618566 , 0.02705298, 0.09729981, 0.35702186, 0.06393053,\n",
              "        0.05613711, 0.13670113],\n",
              "       [0.05978977, 0.01294662, 0.25489063, 0.17606171, 0.15930722,\n",
              "        0.13849504, 0.19850902],\n",
              "       [0.05783888, 0.07135456, 0.06203268, 0.1422607 , 0.03838479,\n",
              "        0.06265611, 0.56547228],\n",
              "       [0.31798483, 0.01476122, 0.44230677, 0.14576616, 0.03594549,\n",
              "        0.00904311, 0.03419241],\n",
              "       [0.05240359, 0.01870845, 0.39110461, 0.08136743, 0.13018741,\n",
              "        0.18660145, 0.13962707],\n",
              "       [0.32717416, 0.06097675, 0.26256341, 0.15148591, 0.03414078,\n",
              "        0.02658887, 0.13707012],\n",
              "       [0.04494072, 0.00658862, 0.11390266, 0.40155488, 0.14335789,\n",
              "        0.14772378, 0.14193145],\n",
              "       [0.14316965, 0.07474111, 0.42582577, 0.06433027, 0.07038853,\n",
              "        0.07253218, 0.14901251],\n",
              "       [0.04441732, 0.06560352, 0.58618145, 0.07323177, 0.04059437,\n",
              "        0.0349399 , 0.15503167],\n",
              "       [0.23073609, 0.32743009, 0.03738519, 0.04131702, 0.09763876,\n",
              "        0.16588165, 0.0996112 ],\n",
              "       [0.03558995, 0.22862047, 0.13456714, 0.15950309, 0.35854826,\n",
              "        0.00931907, 0.07385201],\n",
              "       [0.39426358, 0.00529636, 0.16190661, 0.18438384, 0.18999916,\n",
              "        0.0441247 , 0.02002576],\n",
              "       [0.49876416, 0.16602416, 0.17985183, 0.06107688, 0.01664539,\n",
              "        0.02292283, 0.05471475],\n",
              "       [0.06458077, 0.25414797, 0.14810428, 0.17554873, 0.01440992,\n",
              "        0.02652046, 0.31668787],\n",
              "       [0.30175356, 0.06666037, 0.03621997, 0.15752917, 0.19434028,\n",
              "        0.15440989, 0.08908675],\n",
              "       [0.05803262, 0.47390422, 0.0708812 , 0.15462537, 0.01713298,\n",
              "        0.06608919, 0.15933442]])"
            ]
          },
          "metadata": {},
          "execution_count": 151
        }
      ]
    },
    {
      "cell_type": "code",
      "metadata": {
        "id": "RbXRqtmX3ZNK",
        "colab": {
          "base_uri": "https://localhost:8080/"
        },
        "outputId": "5d7f91ae-3065-4a69-a2a6-18c9f9f7136e"
      },
      "source": [
        "np.allclose(my_output, my_output)"
      ],
      "execution_count": 152,
      "outputs": [
        {
          "output_type": "execute_result",
          "data": {
            "text/plain": [
              "True"
            ]
          },
          "metadata": {},
          "execution_count": 152
        }
      ]
    },
    {
      "cell_type": "code",
      "metadata": {
        "id": "HeL_BWgJ3ZNK"
      },
      "source": [
        ""
      ],
      "execution_count": null,
      "outputs": []
    },
    {
      "cell_type": "markdown",
      "metadata": {
        "id": "G8YY2jmP3ZNL"
      },
      "source": [
        "**submit your code**"
      ]
    },
    {
      "cell_type": "code",
      "metadata": {
        "scrolled": true,
        "id": "Ya-x5bg13ZNL",
        "colab": {
          "base_uri": "https://localhost:8080/",
          "height": 162
        },
        "outputId": "0fbf1409-1772-4691-e423-d4e47602eeac"
      },
      "source": [
        "student.submit_task(globals(), task_id=\"task_01\");"
      ],
      "execution_count": 70,
      "outputs": [
        {
          "output_type": "display_data",
          "data": {
            "text/html": [
              "\n",
              "                    <b>task_01 submitted.</b> <b><font color=\"blue\">your grade is 5</font></b> \n",
              "                    <p/><pre>----- grader message -------</pre><br/>testing with 100 random calls<br/><br/><b>correct</b><pre>----------------------------</pre>\n",
              "                    <p/><p/>\n",
              "                    <div style=\"font-size:10px\"><b>SUBMISSION CODE</b> 5UDOlT6Yvbw1pl45DyowMvo5JrH42/Ljx9I+HCu9K4J/3FZsmKRc/gdx2VIh616TO/7Sbi+UA3Fw3y4VYCi9h+hKvNPEbmDuIz7P2eZaS/LCmW+qW2kLLcygdIJNRh+dvFb/zRX1WnpiwZdWQMfodQ==</div>\n",
              "                    "
            ],
            "text/plain": [
              "<IPython.core.display.HTML object>"
            ]
          },
          "metadata": {}
        }
      ]
    },
    {
      "cell_type": "code",
      "metadata": {
        "id": "4_TsawcX3ZNM"
      },
      "source": [
        ""
      ],
      "execution_count": null,
      "outputs": []
    },
    {
      "cell_type": "markdown",
      "metadata": {
        "id": "0ciGQO803ZNM"
      },
      "source": [
        "## Task 2: Compute cross entropy\n",
        "\n",
        "you are also given\n",
        "\n",
        "- $\\mathbf{y}$, a vector of $m$ elements, each elemet being an integer between $0$ and $n_c-1$, corresponding to the labels of your dataset.\n",
        "\n",
        "Complete the following function to compute cross entropy as explained in the notes. Observe that you are given:\n",
        "\n",
        "- $\\mathbf{y}$ with the original class labels. You will have to convert it to a one hot encoding.\n",
        "- $\\hat{\\bar{\\mathbf{y}}}$ the softmax activations such as from the output on your previous function\n",
        "\n",
        "**NOTE**: You will not be able to use tensorflow in your solution. The grader will penalize you if you do.\n",
        "\n",
        "**SUGGESTION**: Use `np.log(expression+1e-10)` for any `expression` better than `np.log(expression)` since this will avoid numeric errors if `expression` evaluates to 0. Recall that `1e-10` is $10^{-10}$\n",
        "\n",
        "**CHALLENGE**: Use a single line of Python code"
      ]
    },
    {
      "cell_type": "markdown",
      "metadata": {
        "id": "GCmboeIXTZg0"
      },
      "source": [
        "![image.png](data:image/png;base64,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)"
      ]
    },
    {
      "cell_type": "code",
      "metadata": {
        "id": "t2JHdAov3ZNO"
      },
      "source": [
        "def cross_entropy(y, y_hatb):\n",
        "    loss = -np.sum((np.eye(y_hatb.shape[1])[y].astype(int))*(np.log(y_hatb + 1e-10)),1)\n",
        "    return loss"
      ],
      "execution_count": 153,
      "outputs": []
    },
    {
      "cell_type": "markdown",
      "metadata": {
        "id": "erK6lRPK3ZNO"
      },
      "source": [
        "check your answer against **Tensorflow** corresponding implementation"
      ]
    },
    {
      "cell_type": "code",
      "metadata": {
        "id": "Y3OJZJ603ZNP",
        "colab": {
          "base_uri": "https://localhost:8080/"
        },
        "outputId": "2de99f89-b262-4e92-8eac-10689af3be11"
      },
      "source": [
        "m = np.random.randint(10)+10\n",
        "nc = np.random.randint(5)+5\n",
        "\n",
        "y = np.random.randint(nc, size=m)\n",
        "y_hatb = np.random.random(size=(m, nc))\n",
        "y_hatb /= np.sum(y_hatb, axis=1).reshape(-1,1)\n",
        "\n",
        "print (y)\n",
        "print (y_hatb)\n",
        "print (y_hatb.sum(axis=1))\n",
        "np.eye(y_hatb.shape[1])[y].astype(int)"
      ],
      "execution_count": 154,
      "outputs": [
        {
          "output_type": "stream",
          "name": "stdout",
          "text": [
            "[7 0 7 4 3 0 1 5 2 8 6 7 0 1 4]\n",
            "[[0.13816484 0.06399878 0.04311936 0.21209853 0.0886432  0.00719089\n",
            "  0.04147516 0.13872905 0.26658018]\n",
            " [0.11218998 0.00620005 0.04702021 0.14223257 0.15285605 0.17783056\n",
            "  0.13165554 0.1500836  0.07993144]\n",
            " [0.01199223 0.05685675 0.14018138 0.19267206 0.01159661 0.17939064\n",
            "  0.15292715 0.10943465 0.14494853]\n",
            " [0.06628521 0.03756212 0.2438416  0.1131691  0.10465019 0.11718547\n",
            "  0.02218347 0.11566991 0.17945293]\n",
            " [0.09308775 0.02295289 0.15204958 0.114139   0.1603473  0.16363107\n",
            "  0.15028434 0.08218469 0.06132339]\n",
            " [0.15851577 0.06956638 0.08673598 0.00724219 0.10919513 0.17314797\n",
            "  0.09961505 0.1111114  0.18487012]\n",
            " [0.20780777 0.14118308 0.01431494 0.10350361 0.05973807 0.19293202\n",
            "  0.03619937 0.09180602 0.15251513]\n",
            " [0.02943705 0.07728715 0.21732656 0.07579067 0.04069574 0.20628701\n",
            "  0.11399802 0.17392119 0.06525662]\n",
            " [0.05992193 0.22284661 0.19084963 0.07296732 0.13400767 0.06686943\n",
            "  0.01603599 0.06454661 0.17195482]\n",
            " [0.12679469 0.12988838 0.05271282 0.09681754 0.1364624  0.10274966\n",
            "  0.12995557 0.08823858 0.13638037]\n",
            " [0.09956668 0.14934899 0.16492195 0.12785843 0.04677805 0.01483443\n",
            "  0.16845091 0.15748046 0.07076011]\n",
            " [0.21310476 0.0568403  0.08101365 0.12914979 0.00630631 0.16304144\n",
            "  0.16094174 0.10569979 0.08390223]\n",
            " [0.01380749 0.13840977 0.14075919 0.05566861 0.10932052 0.08996187\n",
            "  0.26555198 0.11192472 0.07459584]\n",
            " [0.02668365 0.11998505 0.13278308 0.11768254 0.15990981 0.13693259\n",
            "  0.04308663 0.19857632 0.06436034]\n",
            " [0.12068539 0.09703691 0.21190437 0.01684791 0.10708847 0.16921428\n",
            "  0.02852746 0.05403453 0.19466066]]\n",
            "[1. 1. 1. 1. 1. 1. 1. 1. 1. 1. 1. 1. 1. 1. 1.]\n"
          ]
        },
        {
          "output_type": "execute_result",
          "data": {
            "text/plain": [
              "array([[0, 0, 0, 0, 0, 0, 0, 1, 0],\n",
              "       [1, 0, 0, 0, 0, 0, 0, 0, 0],\n",
              "       [0, 0, 0, 0, 0, 0, 0, 1, 0],\n",
              "       [0, 0, 0, 0, 1, 0, 0, 0, 0],\n",
              "       [0, 0, 0, 1, 0, 0, 0, 0, 0],\n",
              "       [1, 0, 0, 0, 0, 0, 0, 0, 0],\n",
              "       [0, 1, 0, 0, 0, 0, 0, 0, 0],\n",
              "       [0, 0, 0, 0, 0, 1, 0, 0, 0],\n",
              "       [0, 0, 1, 0, 0, 0, 0, 0, 0],\n",
              "       [0, 0, 0, 0, 0, 0, 0, 0, 1],\n",
              "       [0, 0, 0, 0, 0, 0, 1, 0, 0],\n",
              "       [0, 0, 0, 0, 0, 0, 0, 1, 0],\n",
              "       [1, 0, 0, 0, 0, 0, 0, 0, 0],\n",
              "       [0, 1, 0, 0, 0, 0, 0, 0, 0],\n",
              "       [0, 0, 0, 0, 1, 0, 0, 0, 0]])"
            ]
          },
          "metadata": {},
          "execution_count": 154
        }
      ]
    },
    {
      "cell_type": "code",
      "metadata": {
        "id": "NRzLIFYK3ZNQ",
        "colab": {
          "base_uri": "https://localhost:8080/"
        },
        "outputId": "8372cab5-cdf8-44b1-e1df-3555a17aaac4"
      },
      "source": [
        "cross_entropy(y, y_hatb)"
      ],
      "execution_count": 155,
      "outputs": [
        {
          "output_type": "execute_result",
          "data": {
            "text/plain": [
              "array([1.97523254, 2.18756155, 2.21242772, 2.25713206, 2.17033831,\n",
              "       1.84190119, 1.95769779, 1.57848684, 1.65626945, 1.99230745,\n",
              "       1.78111093, 2.24715235, 4.28254424, 2.12038814, 2.23409993])"
            ]
          },
          "metadata": {},
          "execution_count": 155
        }
      ]
    },
    {
      "cell_type": "code",
      "metadata": {
        "id": "uCg9jgR13ZNR",
        "colab": {
          "base_uri": "https://localhost:8080/"
        },
        "outputId": "4b2207b0-d098-481a-8820-014e0626cca2"
      },
      "source": [
        "tf.keras.losses.sparse_categorical_crossentropy(y, y_hatb).numpy()"
      ],
      "execution_count": 156,
      "outputs": [
        {
          "output_type": "execute_result",
          "data": {
            "text/plain": [
              "array([1.97523254, 2.18756155, 2.21242772, 2.25713206, 2.17033831,\n",
              "       1.84190119, 1.95769779, 1.57848685, 1.65626945, 1.99230745,\n",
              "       1.78111093, 2.24715235, 4.28254424, 2.12038814, 2.23409993])"
            ]
          },
          "metadata": {},
          "execution_count": 156
        }
      ]
    },
    {
      "cell_type": "markdown",
      "metadata": {
        "id": "cmnH0zqW3ZNR"
      },
      "source": [
        "**submit your code**"
      ]
    },
    {
      "cell_type": "code",
      "metadata": {
        "scrolled": false,
        "id": "3V4oW_ib3ZNS",
        "colab": {
          "base_uri": "https://localhost:8080/",
          "height": 162
        },
        "outputId": "ead09279-0e73-4584-d76e-c688afb0422f"
      },
      "source": [
        "student.submit_task(globals(), task_id=\"task_02\");"
      ],
      "execution_count": 142,
      "outputs": [
        {
          "output_type": "display_data",
          "data": {
            "text/html": [
              "\n",
              "                    <b>task_02 submitted.</b> <b><font color=\"blue\">your grade is 5</font></b> \n",
              "                    <p/><pre>----- grader message -------</pre><br/>testing with 100 random calls<br/><br/><b>correct</b><pre>----------------------------</pre>\n",
              "                    <p/><p/>\n",
              "                    <div style=\"font-size:10px\"><b>SUBMISSION CODE</b> xZpua5fZ9pzDvAy28hzhGppsN+gdoFJFC2OnqRkVCy9/TO+dNKafgoogRNn30epkuRCA2RV3eNVSwv4wJxO52syRYBUqONLLcZ3DPiu82478862ujRuTkbcV7JrqEhA+qKFNknpmfszmUNkvh91//A==</div>\n",
              "                    "
            ],
            "text/plain": [
              "<IPython.core.display.HTML object>"
            ]
          },
          "metadata": {}
        }
      ]
    },
    {
      "cell_type": "code",
      "metadata": {
        "id": "1_4SSQfR3ZNT"
      },
      "source": [
        ""
      ],
      "execution_count": null,
      "outputs": []
    },
    {
      "cell_type": "code",
      "metadata": {
        "id": "71uqt8-j3ZNT"
      },
      "source": [
        ""
      ],
      "execution_count": null,
      "outputs": []
    },
    {
      "cell_type": "markdown",
      "metadata": {
        "id": "AzyJWY3J3ZNT"
      },
      "source": [
        "## Task 3: Compute multilayer perceptron network output\n",
        "\n",
        "You have \n",
        "\n",
        "- a dataset of $m$ elements and $n$ columns.\n",
        "- a classification problem with $n_c$ classes. \n",
        "\n",
        "And we build a multilayer perceptron with \n",
        "- two hidden layers with $h_1$ and $h_2$ neurons respectively and **tanh** activation.\n",
        "- one output layer with $n_c$ neurons with **softmax** activation.\n",
        "\n",
        "so that we have the following architecture"
      ]
    },
    {
      "cell_type": "code",
      "metadata": {
        "id": "702De8Ph3ZNU",
        "outputId": "de355283-f97e-4c79-da84-dc2a24707441"
      },
      "source": [
        "\n",
        "Image(\"local/imgs/labmlp.png\", width=500)\n"
      ],
      "execution_count": null,
      "outputs": [
        {
          "data": {
            "image/png": "[encoded data removed]",
            "text/plain": [
              "<IPython.core.display.Image object>"
            ]
          },
          "execution_count": 28,
          "metadata": {
            "image/png": {
              "width": 500
            }
          },
          "output_type": "execute_result"
        }
      ]
    },
    {
      "cell_type": "markdown",
      "metadata": {
        "id": "0_q9jV323ZNU"
      },
      "source": [
        "This way, we have the following set of weights:\n",
        "\n",
        "- $W_0 \\in \\mathbb{R}^{n\\times h_1}$ \n",
        "- $b_0 \\in \\mathbb{R}^{h_1}$ \n",
        "\n",
        "\n",
        "- $W_1 \\in \\mathbb{R}^{h1\\times h_2}$ \n",
        "- $b_1 \\in \\mathbb{R}^{h_2}$ \n",
        "\n",
        "\n",
        "- $W_2 \\in \\mathbb{R}^{h2\\times n_c}$ \n",
        "- $b_2 \\in \\mathbb{R}^{n_c}$ \n",
        "\n",
        "Complete the function below so that it produces the following output:\n",
        "\n",
        "$$\\text{softmax}(\\text{tanh}(\\text{tanh}(\\mathbf{X}\\cdot\\mathbf{W}_0+b_0)\\cdot\\mathbf{W}_1+b_1)\\cdot\\mathbf{W}_0+b_0)$$\n",
        "\n",
        "\n",
        "**NOTE**: You will not be able to use tensorflow in your solution. The grader will penalize you if you do.\n",
        "\n",
        "**CHALLENGE**: Use a single line of Python code (not counting your previous `softmax` function)."
      ]
    },
    {
      "cell_type": "code",
      "metadata": {
        "id": "7w-6Ui_43ZNV"
      },
      "source": [
        "def nn_output(X, W0, b0, W1, b1, W2, b2):\n",
        "    def softmax(y_hat):\n",
        "      y_shat = np.exp(y_hat)/(np.sum(np.exp(y_hat),1)).reshape(-1,1)\n",
        "      return y_shat\n",
        "        \n",
        "    #return softmax(np.dot(np.tanh(np.dot(np.tanh(np.dot(X,W0)+b0),W1) + b1),W0) + b0) # YOUR CODE HERE0\n",
        "    return softmax(np.dot(np.tanh(np.dot(np.tanh(np.dot(X,W0) + b0),W1) + b1),W2) + b2)"
      ],
      "execution_count": 173,
      "outputs": []
    },
    {
      "cell_type": "markdown",
      "metadata": {
        "id": "qsFWrXpi3ZNW"
      },
      "source": [
        "check your code with random input and weights against the implementation in **Tensorflow**"
      ]
    },
    {
      "cell_type": "code",
      "metadata": {
        "id": "VC9ndTRT3ZNW"
      },
      "source": [
        "m = np.random.randint(10)+10\n",
        "n = np.random.randint(3)+3\n",
        "nc = np.random.randint(5)+5\n",
        "\n",
        "m = 10\n",
        "n = 3\n",
        "nc = 4\n",
        "\n",
        "h1 = np.random.randint(5)+5\n",
        "h2 = np.random.randint(5)+5\n",
        "\n",
        "print (m,n,nc)\n",
        "\n",
        "X = np.random.normal(size=(m,n))\n",
        "W0 = np.random.normal(size=(n,h1))\n",
        "b0 = np.random.normal(size=h1)\n",
        "W1 = np.random.normal(size=(h1,h2))\n",
        "b1 = np.random.normal(size=h2)\n",
        "W2 = np.random.normal(size=(h2,nc))\n",
        "b2 = np.random.normal(size=nc)\n"
      ],
      "execution_count": null,
      "outputs": []
    },
    {
      "cell_type": "markdown",
      "metadata": {
        "id": "zE_vkSlu3ZNX"
      },
      "source": [
        "your function output"
      ]
    },
    {
      "cell_type": "code",
      "metadata": {
        "id": "pOkHuage3ZNX",
        "colab": {
          "base_uri": "https://localhost:8080/"
        },
        "outputId": "5ff2ad64-3a6f-43bf-ed68-74c3426f3bb7"
      },
      "source": [
        "nn_output(X, W0, b0, W1, b1, W2, b2)"
      ],
      "execution_count": 175,
      "outputs": [
        {
          "output_type": "execute_result",
          "data": {
            "text/plain": [
              "array([[0.1111816 , 0.60917027, 0.12532102, 0.15432711],\n",
              "       [0.11525175, 0.60714131, 0.12881759, 0.14878934],\n",
              "       [0.19295112, 0.36254509, 0.30697901, 0.13752477],\n",
              "       [0.06810016, 0.59947225, 0.25400973, 0.07841786],\n",
              "       [0.10770138, 0.57833933, 0.14657292, 0.16738637],\n",
              "       [0.11359192, 0.61077298, 0.1261971 , 0.149438  ],\n",
              "       [0.1261452 , 0.54751645, 0.16825657, 0.15808178],\n",
              "       [0.0744016 , 0.55707164, 0.20972391, 0.15880285],\n",
              "       [0.09831137, 0.61509592, 0.13213865, 0.15445407],\n",
              "       [0.04988179, 0.6125352 , 0.17853292, 0.15905009]])"
            ]
          },
          "metadata": {},
          "execution_count": 175
        }
      ]
    },
    {
      "cell_type": "code",
      "metadata": {
        "id": "ZlpnGlJS3ZNY"
      },
      "source": [
        "model = tf.keras.Sequential([\n",
        "    tf.keras.layers.Dense(h1, activation='tanh', dtype=tf.float64),\n",
        "    tf.keras.layers.Dense(h2, activation='tanh', dtype=tf.float64),\n",
        "    tf.keras.layers.Dense(nc, activation='softmax', dtype=tf.float64)\n",
        "])\n",
        "model.build(input_shape=[None, n])\n",
        "model.set_weights([W0, b0, W1, b1, W2, b2])"
      ],
      "execution_count": 176,
      "outputs": []
    },
    {
      "cell_type": "markdown",
      "metadata": {
        "id": "o0LF7AL33ZNY"
      },
      "source": [
        "tensorflow output (must be exactly as yours)"
      ]
    },
    {
      "cell_type": "code",
      "metadata": {
        "id": "4OPXvdHI3ZNY",
        "colab": {
          "base_uri": "https://localhost:8080/"
        },
        "outputId": "7384a670-1860-4a1e-816f-adcf71d12838"
      },
      "source": [
        "model(X).numpy()"
      ],
      "execution_count": 177,
      "outputs": [
        {
          "output_type": "execute_result",
          "data": {
            "text/plain": [
              "array([[0.1111816 , 0.60917027, 0.12532102, 0.15432711],\n",
              "       [0.11525176, 0.60714131, 0.12881759, 0.14878934],\n",
              "       [0.19295112, 0.36254509, 0.30697902, 0.13752477],\n",
              "       [0.06810017, 0.59947225, 0.25400972, 0.07841786],\n",
              "       [0.10770138, 0.57833933, 0.14657292, 0.16738637],\n",
              "       [0.11359192, 0.61077298, 0.1261971 , 0.149438  ],\n",
              "       [0.1261452 , 0.54751645, 0.16825657, 0.15808178],\n",
              "       [0.0744016 , 0.55707163, 0.20972391, 0.15880285],\n",
              "       [0.09831137, 0.61509592, 0.13213865, 0.15445407],\n",
              "       [0.04988179, 0.6125352 , 0.17853292, 0.15905009]])"
            ]
          },
          "metadata": {},
          "execution_count": 177
        }
      ]
    },
    {
      "cell_type": "markdown",
      "metadata": {
        "id": "L56NQbM_3ZNZ"
      },
      "source": [
        "**submit your code**"
      ]
    },
    {
      "cell_type": "code",
      "metadata": {
        "scrolled": false,
        "id": "mEq6G-hv3ZNZ",
        "colab": {
          "base_uri": "https://localhost:8080/",
          "height": 162
        },
        "outputId": "f73304af-0796-4555-eb13-cf906967cb84"
      },
      "source": [
        "student.submit_task(globals(), task_id=\"task_03\");"
      ],
      "execution_count": 178,
      "outputs": [
        {
          "output_type": "display_data",
          "data": {
            "text/html": [
              "\n",
              "                    <b>task_03 submitted.</b> <b><font color=\"blue\">your grade is 5</font></b> \n",
              "                    <p/><pre>----- grader message -------</pre><br/>testing with 100 random calls<br/><br/><b>correct</b><pre>----------------------------</pre>\n",
              "                    <p/><p/>\n",
              "                    <div style=\"font-size:10px\"><b>SUBMISSION CODE</b> LjJGJqz4nfZgfYo8B6aaMacKQG/3b3zHtTWNk66Zv7qma3pbYmHRmkwoD4r4DwXNTUag0akuQzHn1SvWZg+TSQoZ/CVH5k55DaZh8iW16w+Lj4Spuhnt7jNdIIzkc/XydjHzXOV5UFwM0k9kNl2A5g==</div>\n",
              "                    "
            ],
            "text/plain": [
              "<IPython.core.display.HTML object>"
            ]
          },
          "metadata": {}
        }
      ]
    },
    {
      "cell_type": "code",
      "metadata": {
        "id": "V6Oh3t8R3ZNZ"
      },
      "source": [
        ""
      ],
      "execution_count": null,
      "outputs": []
    }
  ]
}