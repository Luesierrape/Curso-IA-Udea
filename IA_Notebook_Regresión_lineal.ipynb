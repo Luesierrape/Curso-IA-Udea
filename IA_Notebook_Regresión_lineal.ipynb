{
  "nbformat": 4,
  "nbformat_minor": 0,
  "metadata": {
    "colab": {
      "name": "IA Notebook - Regresión lineal.ipynb",
      "provenance": [],
      "collapsed_sections": [],
      "authorship_tag": "ABX9TyNZcqc2h2H1uBFhg+P1fGa8",
      "include_colab_link": true
    },
    "kernelspec": {
      "display_name": "Python 3",
      "name": "python3"
    },
    "language_info": {
      "name": "python"
    }
  },
  "cells": [
    {
      "cell_type": "markdown",
      "metadata": {
        "id": "view-in-github",
        "colab_type": "text"
      },
      "source": [
        "<a href=\"https://colab.research.google.com/github/Luesierrape/Curso-IA-Udea/blob/main/IA_Notebook_Regresi%C3%B3n_lineal.ipynb\" target=\"_parent\"><img src=\"https://colab.research.google.com/assets/colab-badge.svg\" alt=\"Open In Colab\"/></a>"
      ]
    },
    {
      "cell_type": "markdown",
      "metadata": {
        "id": "F8B19uUpP1RA"
      },
      "source": [
        "**Objetivo**: Predecir el valor medio de la vivienda (MEDV) en boston a partir del numero medio de habitaciones (RM)\n",
        "\n",
        "**Procedimiento a seguir:** Regresión lineal a través del método de cuadrados mínimos ordinarios."
      ]
    },
    {
      "cell_type": "code",
      "metadata": {
        "id": "iMkyZ--RP1ut"
      },
      "source": [
        "#Importar librerias\n",
        "import numpy as np #Libreria para cálculos numéricos (arrays, matrices, etc)\n",
        "import scipy as sc #Similar a numpy (expandida), funcionalidades para trat de imágenes y datos\n",
        "import matplotlib.pyplot as plt #Libreria de visualización"
      ],
      "execution_count": 2,
      "outputs": []
    },
    {
      "cell_type": "code",
      "metadata": {
        "id": "ljYzv2jdSu1V"
      },
      "source": [
        "#Importar datos \n",
        "#Nota: Ejemplo de las casas de boston en libreria sklearn (Libreria de Machine Learning)\n",
        "from sklearn.datasets import load_boston "
      ],
      "execution_count": 3,
      "outputs": []
    },
    {
      "cell_type": "code",
      "metadata": {
        "colab": {
          "base_uri": "https://localhost:8080/"
        },
        "id": "gNlaAuRoV_yn",
        "outputId": "c734bf16-caaf-4428-d8ed-9cfdbb98dada"
      },
      "source": [
        "#Cargamos la librería\n",
        "boston = load_boston()\n",
        "\n",
        "print(boston.DESCR) #Información del dataSet"
      ],
      "execution_count": 4,
      "outputs": [
        {
          "output_type": "stream",
          "name": "stdout",
          "text": [
            ".. _boston_dataset:\n",
            "\n",
            "Boston house prices dataset\n",
            "---------------------------\n",
            "\n",
            "**Data Set Characteristics:**  \n",
            "\n",
            "    :Number of Instances: 506 \n",
            "\n",
            "    :Number of Attributes: 13 numeric/categorical predictive. Median Value (attribute 14) is usually the target.\n",
            "\n",
            "    :Attribute Information (in order):\n",
            "        - CRIM     per capita crime rate by town\n",
            "        - ZN       proportion of residential land zoned for lots over 25,000 sq.ft.\n",
            "        - INDUS    proportion of non-retail business acres per town\n",
            "        - CHAS     Charles River dummy variable (= 1 if tract bounds river; 0 otherwise)\n",
            "        - NOX      nitric oxides concentration (parts per 10 million)\n",
            "        - RM       average number of rooms per dwelling\n",
            "        - AGE      proportion of owner-occupied units built prior to 1940\n",
            "        - DIS      weighted distances to five Boston employment centres\n",
            "        - RAD      index of accessibility to radial highways\n",
            "        - TAX      full-value property-tax rate per $10,000\n",
            "        - PTRATIO  pupil-teacher ratio by town\n",
            "        - B        1000(Bk - 0.63)^2 where Bk is the proportion of blacks by town\n",
            "        - LSTAT    % lower status of the population\n",
            "        - MEDV     Median value of owner-occupied homes in $1000's\n",
            "\n",
            "    :Missing Attribute Values: None\n",
            "\n",
            "    :Creator: Harrison, D. and Rubinfeld, D.L.\n",
            "\n",
            "This is a copy of UCI ML housing dataset.\n",
            "https://archive.ics.uci.edu/ml/machine-learning-databases/housing/\n",
            "\n",
            "\n",
            "This dataset was taken from the StatLib library which is maintained at Carnegie Mellon University.\n",
            "\n",
            "The Boston house-price data of Harrison, D. and Rubinfeld, D.L. 'Hedonic\n",
            "prices and the demand for clean air', J. Environ. Economics & Management,\n",
            "vol.5, 81-102, 1978.   Used in Belsley, Kuh & Welsch, 'Regression diagnostics\n",
            "...', Wiley, 1980.   N.B. Various transformations are used in the table on\n",
            "pages 244-261 of the latter.\n",
            "\n",
            "The Boston house-price data has been used in many machine learning papers that address regression\n",
            "problems.   \n",
            "     \n",
            ".. topic:: References\n",
            "\n",
            "   - Belsley, Kuh & Welsch, 'Regression diagnostics: Identifying Influential Data and Sources of Collinearity', Wiley, 1980. 244-261.\n",
            "   - Quinlan,R. (1993). Combining Instance-Based and Model-Based Learning. In Proceedings on the Tenth International Conference of Machine Learning, 236-243, University of Massachusetts, Amherst. Morgan Kaufmann.\n",
            "\n"
          ]
        }
      ]
    },
    {
      "cell_type": "markdown",
      "metadata": {
        "id": "JzL87B6JBR9x"
      },
      "source": [
        "Formula para minimizar el error cuadrático medio (MCO): $\\beta = (X^{T}X)^{-1}X^{T}Y $\n"
      ]
    },
    {
      "cell_type": "code",
      "metadata": {
        "colab": {
          "base_uri": "https://localhost:8080/",
          "height": 295
        },
        "id": "7ZOWLLVYYJaa",
        "outputId": "53d6b3f4-137f-449b-a005-59e127ebf094"
      },
      "source": [
        "\n",
        "#Datos de entrada y salida\n",
        "\n",
        "x1 = boston.data[:,5] #RM : Numero medio de habitaciones\n",
        "x2 = boston.data[:,1] #Cr: Grado de criminalidad\n",
        "Y = boston.target #MEDV : Valor medio de vivienda\n",
        "\n",
        "#Crear matriz de entrada y salida\n",
        "X = np.array(x1)\n",
        "#X = np.array([x1,x2])\n",
        "Y = np.array(Y)\n",
        "\n",
        "#Graficamos nuestra nube de puntos\n",
        "fig, ax = plt.subplots()\n",
        "plt.scatter(X,Y,alpha=0.3)\n",
        "#plt.show()\n",
        "\n",
        "#Añadimos columna de 1s a X para termino independiente\n",
        "X = (np.array([np.ones(506),X])).T\n",
        "\n",
        "#Error cuadrático medio\n",
        "B = np.linalg.inv(X.T @ X)@ X.T @ Y #Beta\n",
        "\n",
        "#Y = MX+C -> B[1]X + B[0] \n",
        "\n",
        "regr = \"y = \" + str(round(B[1],2)) + \"X \" + str(round(B[0],2))\n",
        "plt.plot([4,9],[B[0]+ B[1]*4, B[0] + B[1]*9], c=\"red\", label=regr)\n",
        "ax.set_title(\"Regresión lineal\",loc=\"center\")\n",
        "ax.set_xlabel(\"X\")\n",
        "ax.set_ylabel(\"Y\")\n",
        "ax.legend(loc = 'center right')\n",
        "#plt.text(7,25,regr)\n",
        "plt.show()\n",
        "\n",
        "\n"
      ],
      "execution_count": 10,
      "outputs": [
        {
          "output_type": "display_data",
          "data": {
            "image/png": "[encoded data removed]",
            "text/plain": [
              "<Figure size 432x288 with 1 Axes>"
            ]
          },
          "metadata": {
            "needs_background": "light"
          }
        }
      ]
    },
    {
      "cell_type": "code",
      "metadata": {
        "colab": {
          "base_uri": "https://localhost:8080/"
        },
        "id": "Bpx7vv6SFNb0",
        "outputId": "bc650198-d460-4aab-d798-0b4a494177fc"
      },
      "source": [
        "B "
      ],
      "execution_count": null,
      "outputs": [
        {
          "output_type": "execute_result",
          "data": {
            "text/plain": [
              "array([-34.67062078,   9.10210898])"
            ]
          },
          "metadata": {
            "tags": []
          },
          "execution_count": 6
        }
      ]
    }
  ]
}