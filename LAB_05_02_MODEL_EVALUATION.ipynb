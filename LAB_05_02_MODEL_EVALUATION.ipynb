{
  "nbformat": 4,
  "nbformat_minor": 0,
  "metadata": {
    "kernelspec": {
      "display_name": "Python 3",
      "language": "python",
      "name": "python3"
    },
    "language_info": {
      "codemirror_mode": {
        "name": "ipython",
        "version": 3
      },
      "file_extension": ".py",
      "mimetype": "text/x-python",
      "name": "python",
      "nbconvert_exporter": "python",
      "pygments_lexer": "ipython3",
      "version": "3.7.3"
    },
    "colab": {
      "name": "Copia de LAB 05.02 - MODEL EVALUATION.ipynb",
      "provenance": [],
      "collapsed_sections": [
        "Gprh0zHmxY8n",
        "qhitUKqFxY8y",
        "qR1s-f7cxY87",
        "hyEWXGSbxY9C",
        "wIJepwBJxY9G"
      ],
      "include_colab_link": true
    },
    "accelerator": "GPU",
    "widgets": {
      "application/vnd.jupyter.widget-state+json": {
        "ece56ba2c3bf4de4aebd6c1efa19e3f3": {
          "model_module": "@jupyter-widgets/controls",
          "model_name": "HBoxModel",
          "model_module_version": "1.5.0",
          "state": {
            "_view_name": "HBoxView",
            "_dom_classes": [],
            "_model_name": "HBoxModel",
            "_view_module": "@jupyter-widgets/controls",
            "_model_module_version": "1.5.0",
            "_view_count": null,
            "_view_module_version": "1.5.0",
            "box_style": "",
            "layout": "IPY_MODEL_6327cd4c41af47fc9baca359576a5d6a",
            "_model_module": "@jupyter-widgets/controls",
            "children": [
              "IPY_MODEL_bee960bb420a40929cb65c9d56e0331c",
              "IPY_MODEL_583402cc1dcd4eb2b57af89a34b6cda6",
              "IPY_MODEL_4f4885f192574f55a437566bd32c611d",
              "IPY_MODEL_14fb2fd6756041c5ace6540338850fb3"
            ]
          }
        },
        "6327cd4c41af47fc9baca359576a5d6a": {
          "model_module": "@jupyter-widgets/base",
          "model_name": "LayoutModel",
          "model_module_version": "1.2.0",
          "state": {
            "_view_name": "LayoutView",
            "grid_template_rows": null,
            "right": null,
            "justify_content": null,
            "_view_module": "@jupyter-widgets/base",
            "overflow": null,
            "_model_module_version": "1.2.0",
            "_view_count": null,
            "flex_flow": null,
            "width": null,
            "min_width": null,
            "border": null,
            "align_items": null,
            "bottom": null,
            "_model_module": "@jupyter-widgets/base",
            "top": null,
            "grid_column": null,
            "overflow_y": null,
            "overflow_x": null,
            "grid_auto_flow": null,
            "grid_area": null,
            "grid_template_columns": null,
            "flex": null,
            "_model_name": "LayoutModel",
            "justify_items": null,
            "grid_row": null,
            "max_height": null,
            "align_content": null,
            "visibility": null,
            "align_self": null,
            "height": null,
            "min_height": null,
            "padding": null,
            "grid_auto_rows": null,
            "grid_gap": null,
            "max_width": null,
            "order": null,
            "_view_module_version": "1.2.0",
            "grid_template_areas": null,
            "object_position": null,
            "object_fit": null,
            "grid_auto_columns": null,
            "margin": null,
            "display": null,
            "left": null
          }
        },
        "bee960bb420a40929cb65c9d56e0331c": {
          "model_module": "@jupyter-widgets/controls",
          "model_name": "VBoxModel",
          "model_module_version": "1.5.0",
          "state": {
            "_view_name": "VBoxView",
            "_dom_classes": [],
            "_model_name": "VBoxModel",
            "_view_module": "@jupyter-widgets/controls",
            "_model_module_version": "1.5.0",
            "_view_count": null,
            "_view_module_version": "1.5.0",
            "box_style": "",
            "layout": "IPY_MODEL_4e7b428dcd07437f96f606ede29c08ba",
            "_model_module": "@jupyter-widgets/controls",
            "children": [
              "IPY_MODEL_5dda08c9dfd246228e45b2c040998eb0",
              "IPY_MODEL_9b8e4f32f37a4dadbde740a9a3b63f4d"
            ]
          }
        },
        "583402cc1dcd4eb2b57af89a34b6cda6": {
          "model_module": "@jupyter-widgets/controls",
          "model_name": "ButtonModel",
          "model_module_version": "1.5.0",
          "state": {
            "_view_name": "ButtonView",
            "style": "IPY_MODEL_dfc1fb39190d4dd7ab7a51543011fbbf",
            "_dom_classes": [
              "login_button"
            ],
            "description": "Login with email",
            "_model_name": "ButtonModel",
            "button_style": "",
            "_view_module": "@jupyter-widgets/controls",
            "_model_module_version": "1.5.0",
            "tooltip": "",
            "_view_count": null,
            "disabled": false,
            "_view_module_version": "1.5.0",
            "layout": "IPY_MODEL_892a9716a9fd410b8ac0be1a73393c70",
            "_model_module": "@jupyter-widgets/controls",
            "icon": ""
          }
        },
        "4f4885f192574f55a437566bd32c611d": {
          "model_module": "@jupyter-widgets/controls",
          "model_name": "HTMLModel",
          "model_module_version": "1.5.0",
          "state": {
            "_view_name": "HTMLView",
            "style": "IPY_MODEL_b6fd34c4c57449d284447fc9eac34e8e",
            "_dom_classes": [],
            "description": "",
            "_model_name": "HTMLModel",
            "placeholder": "​",
            "_view_module": "@jupyter-widgets/controls",
            "_model_module_version": "1.5.0",
            "value": "<center><big>or</big></center>",
            "_view_count": null,
            "_view_module_version": "1.5.0",
            "description_tooltip": null,
            "_model_module": "@jupyter-widgets/controls",
            "layout": "IPY_MODEL_5b4507b0d57d4cf29520316b80c3db73"
          }
        },
        "14fb2fd6756041c5ace6540338850fb3": {
          "model_module": "@jupyter-widgets/controls",
          "model_name": "ButtonModel",
          "model_module_version": "1.5.0",
          "state": {
            "_view_name": "ButtonView",
            "style": "IPY_MODEL_4f617295ee424ea9909663ad8e57db83",
            "_dom_classes": [
              "google_button"
            ],
            "description": "Login with Google",
            "_model_name": "ButtonModel",
            "button_style": "",
            "_view_module": "@jupyter-widgets/controls",
            "_model_module_version": "1.5.0",
            "tooltip": "",
            "_view_count": null,
            "disabled": false,
            "_view_module_version": "1.5.0",
            "layout": "IPY_MODEL_11f354f9d7dc404bbf89d12ff2faf2f9",
            "_model_module": "@jupyter-widgets/controls",
            "icon": ""
          }
        },
        "4e7b428dcd07437f96f606ede29c08ba": {
          "model_module": "@jupyter-widgets/base",
          "model_name": "LayoutModel",
          "model_module_version": "1.2.0",
          "state": {
            "_view_name": "LayoutView",
            "grid_template_rows": null,
            "right": null,
            "justify_content": null,
            "_view_module": "@jupyter-widgets/base",
            "overflow": null,
            "_model_module_version": "1.2.0",
            "_view_count": null,
            "flex_flow": null,
            "width": null,
            "min_width": null,
            "border": null,
            "align_items": null,
            "bottom": null,
            "_model_module": "@jupyter-widgets/base",
            "top": null,
            "grid_column": null,
            "overflow_y": null,
            "overflow_x": null,
            "grid_auto_flow": null,
            "grid_area": null,
            "grid_template_columns": null,
            "flex": null,
            "_model_name": "LayoutModel",
            "justify_items": null,
            "grid_row": null,
            "max_height": null,
            "align_content": null,
            "visibility": null,
            "align_self": null,
            "height": null,
            "min_height": null,
            "padding": null,
            "grid_auto_rows": null,
            "grid_gap": null,
            "max_width": null,
            "order": null,
            "_view_module_version": "1.2.0",
            "grid_template_areas": null,
            "object_position": null,
            "object_fit": null,
            "grid_auto_columns": null,
            "margin": null,
            "display": null,
            "left": null
          }
        },
        "5dda08c9dfd246228e45b2c040998eb0": {
          "model_module": "@jupyter-widgets/controls",
          "model_name": "TextModel",
          "model_module_version": "1.5.0",
          "state": {
            "_view_name": "TextView",
            "style": "IPY_MODEL_11fc62e037a64c24b0754cb6a14bd7f4",
            "_dom_classes": [],
            "description": "email",
            "_model_name": "TextModel",
            "placeholder": "​",
            "_view_module": "@jupyter-widgets/controls",
            "_model_module_version": "1.5.0",
            "value": "",
            "_view_count": null,
            "disabled": false,
            "_view_module_version": "1.5.0",
            "continuous_update": true,
            "description_tooltip": null,
            "_model_module": "@jupyter-widgets/controls",
            "layout": "IPY_MODEL_17ec3f02354b47289b0add1b929b87dc"
          }
        },
        "9b8e4f32f37a4dadbde740a9a3b63f4d": {
          "model_module": "@jupyter-widgets/controls",
          "model_name": "PasswordModel",
          "model_module_version": "1.5.0",
          "state": {
            "_view_name": "PasswordView",
            "style": "IPY_MODEL_7b90ebbfdecf4f6f907c989164d69b49",
            "_dom_classes": [],
            "description": "password",
            "_model_name": "PasswordModel",
            "placeholder": "​",
            "_view_module": "@jupyter-widgets/controls",
            "_model_module_version": "1.5.0",
            "value": "",
            "_view_count": null,
            "disabled": false,
            "_view_module_version": "1.5.0",
            "continuous_update": true,
            "description_tooltip": null,
            "_model_module": "@jupyter-widgets/controls",
            "layout": "IPY_MODEL_a8d20351e2fa4ebd89a128c7cc06993c"
          }
        },
        "dfc1fb39190d4dd7ab7a51543011fbbf": {
          "model_module": "@jupyter-widgets/controls",
          "model_name": "ButtonStyleModel",
          "model_module_version": "1.5.0",
          "state": {
            "_view_name": "StyleView",
            "_model_name": "ButtonStyleModel",
            "_view_module": "@jupyter-widgets/base",
            "_model_module_version": "1.5.0",
            "_view_count": null,
            "button_color": null,
            "font_weight": "",
            "_view_module_version": "1.2.0",
            "_model_module": "@jupyter-widgets/controls"
          }
        },
        "892a9716a9fd410b8ac0be1a73393c70": {
          "model_module": "@jupyter-widgets/base",
          "model_name": "LayoutModel",
          "model_module_version": "1.2.0",
          "state": {
            "_view_name": "LayoutView",
            "grid_template_rows": null,
            "right": null,
            "justify_content": null,
            "_view_module": "@jupyter-widgets/base",
            "overflow": null,
            "_model_module_version": "1.2.0",
            "_view_count": null,
            "flex_flow": null,
            "width": "150px",
            "min_width": null,
            "border": null,
            "align_items": null,
            "bottom": null,
            "_model_module": "@jupyter-widgets/base",
            "top": null,
            "grid_column": null,
            "overflow_y": null,
            "overflow_x": null,
            "grid_auto_flow": null,
            "grid_area": null,
            "grid_template_columns": null,
            "flex": null,
            "_model_name": "LayoutModel",
            "justify_items": null,
            "grid_row": null,
            "max_height": null,
            "align_content": null,
            "visibility": null,
            "align_self": null,
            "height": "53px",
            "min_height": null,
            "padding": null,
            "grid_auto_rows": null,
            "grid_gap": null,
            "max_width": null,
            "order": null,
            "_view_module_version": "1.2.0",
            "grid_template_areas": null,
            "object_position": null,
            "object_fit": null,
            "grid_auto_columns": null,
            "margin": null,
            "display": null,
            "left": null
          }
        },
        "b6fd34c4c57449d284447fc9eac34e8e": {
          "model_module": "@jupyter-widgets/controls",
          "model_name": "DescriptionStyleModel",
          "model_module_version": "1.5.0",
          "state": {
            "_view_name": "StyleView",
            "_model_name": "DescriptionStyleModel",
            "description_width": "",
            "_view_module": "@jupyter-widgets/base",
            "_model_module_version": "1.5.0",
            "_view_count": null,
            "_view_module_version": "1.2.0",
            "_model_module": "@jupyter-widgets/controls"
          }
        },
        "5b4507b0d57d4cf29520316b80c3db73": {
          "model_module": "@jupyter-widgets/base",
          "model_name": "LayoutModel",
          "model_module_version": "1.2.0",
          "state": {
            "_view_name": "LayoutView",
            "grid_template_rows": null,
            "right": null,
            "justify_content": null,
            "_view_module": "@jupyter-widgets/base",
            "overflow": null,
            "_model_module_version": "1.2.0",
            "_view_count": null,
            "flex_flow": null,
            "width": "100px",
            "min_width": null,
            "border": null,
            "align_items": null,
            "bottom": null,
            "_model_module": "@jupyter-widgets/base",
            "top": null,
            "grid_column": null,
            "overflow_y": null,
            "overflow_x": null,
            "grid_auto_flow": null,
            "grid_area": null,
            "grid_template_columns": null,
            "flex": null,
            "_model_name": "LayoutModel",
            "justify_items": null,
            "grid_row": null,
            "max_height": null,
            "align_content": null,
            "visibility": null,
            "align_self": null,
            "height": null,
            "min_height": null,
            "padding": null,
            "grid_auto_rows": null,
            "grid_gap": null,
            "max_width": null,
            "order": null,
            "_view_module_version": "1.2.0",
            "grid_template_areas": null,
            "object_position": null,
            "object_fit": null,
            "grid_auto_columns": null,
            "margin": null,
            "display": null,
            "left": null
          }
        },
        "4f617295ee424ea9909663ad8e57db83": {
          "model_module": "@jupyter-widgets/controls",
          "model_name": "ButtonStyleModel",
          "model_module_version": "1.5.0",
          "state": {
            "_view_name": "StyleView",
            "_model_name": "ButtonStyleModel",
            "_view_module": "@jupyter-widgets/base",
            "_model_module_version": "1.5.0",
            "_view_count": null,
            "button_color": null,
            "font_weight": "",
            "_view_module_version": "1.2.0",
            "_model_module": "@jupyter-widgets/controls"
          }
        },
        "11f354f9d7dc404bbf89d12ff2faf2f9": {
          "model_module": "@jupyter-widgets/base",
          "model_name": "LayoutModel",
          "model_module_version": "1.2.0",
          "state": {
            "_view_name": "LayoutView",
            "grid_template_rows": null,
            "right": null,
            "justify_content": null,
            "_view_module": "@jupyter-widgets/base",
            "overflow": null,
            "_model_module_version": "1.2.0",
            "_view_count": null,
            "flex_flow": null,
            "width": "200px",
            "min_width": null,
            "border": null,
            "align_items": null,
            "bottom": null,
            "_model_module": "@jupyter-widgets/base",
            "top": null,
            "grid_column": null,
            "overflow_y": null,
            "overflow_x": null,
            "grid_auto_flow": null,
            "grid_area": null,
            "grid_template_columns": null,
            "flex": null,
            "_model_name": "LayoutModel",
            "justify_items": null,
            "grid_row": null,
            "max_height": null,
            "align_content": null,
            "visibility": null,
            "align_self": null,
            "height": "53px",
            "min_height": null,
            "padding": null,
            "grid_auto_rows": null,
            "grid_gap": null,
            "max_width": null,
            "order": null,
            "_view_module_version": "1.2.0",
            "grid_template_areas": null,
            "object_position": null,
            "object_fit": null,
            "grid_auto_columns": null,
            "margin": null,
            "display": null,
            "left": null
          }
        },
        "11fc62e037a64c24b0754cb6a14bd7f4": {
          "model_module": "@jupyter-widgets/controls",
          "model_name": "DescriptionStyleModel",
          "model_module_version": "1.5.0",
          "state": {
            "_view_name": "StyleView",
            "_model_name": "DescriptionStyleModel",
            "description_width": "",
            "_view_module": "@jupyter-widgets/base",
            "_model_module_version": "1.5.0",
            "_view_count": null,
            "_view_module_version": "1.2.0",
            "_model_module": "@jupyter-widgets/controls"
          }
        },
        "17ec3f02354b47289b0add1b929b87dc": {
          "model_module": "@jupyter-widgets/base",
          "model_name": "LayoutModel",
          "model_module_version": "1.2.0",
          "state": {
            "_view_name": "LayoutView",
            "grid_template_rows": null,
            "right": null,
            "justify_content": null,
            "_view_module": "@jupyter-widgets/base",
            "overflow": null,
            "_model_module_version": "1.2.0",
            "_view_count": null,
            "flex_flow": null,
            "width": "300px",
            "min_width": null,
            "border": null,
            "align_items": null,
            "bottom": null,
            "_model_module": "@jupyter-widgets/base",
            "top": null,
            "grid_column": null,
            "overflow_y": null,
            "overflow_x": null,
            "grid_auto_flow": null,
            "grid_area": null,
            "grid_template_columns": null,
            "flex": null,
            "_model_name": "LayoutModel",
            "justify_items": null,
            "grid_row": null,
            "max_height": null,
            "align_content": null,
            "visibility": null,
            "align_self": null,
            "height": "25px",
            "min_height": null,
            "padding": null,
            "grid_auto_rows": null,
            "grid_gap": null,
            "max_width": null,
            "order": null,
            "_view_module_version": "1.2.0",
            "grid_template_areas": null,
            "object_position": null,
            "object_fit": null,
            "grid_auto_columns": null,
            "margin": null,
            "display": null,
            "left": null
          }
        },
        "7b90ebbfdecf4f6f907c989164d69b49": {
          "model_module": "@jupyter-widgets/controls",
          "model_name": "DescriptionStyleModel",
          "model_module_version": "1.5.0",
          "state": {
            "_view_name": "StyleView",
            "_model_name": "DescriptionStyleModel",
            "description_width": "",
            "_view_module": "@jupyter-widgets/base",
            "_model_module_version": "1.5.0",
            "_view_count": null,
            "_view_module_version": "1.2.0",
            "_model_module": "@jupyter-widgets/controls"
          }
        },
        "a8d20351e2fa4ebd89a128c7cc06993c": {
          "model_module": "@jupyter-widgets/base",
          "model_name": "LayoutModel",
          "model_module_version": "1.2.0",
          "state": {
            "_view_name": "LayoutView",
            "grid_template_rows": null,
            "right": null,
            "justify_content": null,
            "_view_module": "@jupyter-widgets/base",
            "overflow": null,
            "_model_module_version": "1.2.0",
            "_view_count": null,
            "flex_flow": null,
            "width": "300px",
            "min_width": null,
            "border": null,
            "align_items": null,
            "bottom": null,
            "_model_module": "@jupyter-widgets/base",
            "top": null,
            "grid_column": null,
            "overflow_y": null,
            "overflow_x": null,
            "grid_auto_flow": null,
            "grid_area": null,
            "grid_template_columns": null,
            "flex": null,
            "_model_name": "LayoutModel",
            "justify_items": null,
            "grid_row": null,
            "max_height": null,
            "align_content": null,
            "visibility": null,
            "align_self": null,
            "height": "24px",
            "min_height": null,
            "padding": null,
            "grid_auto_rows": null,
            "grid_gap": null,
            "max_width": null,
            "order": null,
            "_view_module_version": "1.2.0",
            "grid_template_areas": null,
            "object_position": null,
            "object_fit": null,
            "grid_auto_columns": null,
            "margin": null,
            "display": null,
            "left": null
          }
        }
      }
    }
  },
  "cells": [
    {
      "cell_type": "markdown",
      "metadata": {
        "id": "view-in-github",
        "colab_type": "text"
      },
      "source": [
        "<a href=\"https://colab.research.google.com/github/Luesierrape/Curso-IA-Udea/blob/main/LAB_05_02_MODEL_EVALUATION.ipynb\" target=\"_parent\"><img src=\"https://colab.research.google.com/assets/colab-badge.svg\" alt=\"Open In Colab\"/></a>"
      ]
    },
    {
      "cell_type": "markdown",
      "metadata": {
        "id": "iQf-_20hxY8M"
      },
      "source": [
        "# LAB 05.02 - Model evaluation"
      ]
    },
    {
      "cell_type": "code",
      "metadata": {
        "id": "osXke6UwxY8V",
        "colab": {
          "base_uri": "https://localhost:8080/",
          "height": 75
        },
        "outputId": "1bb07d50-28d4-426b-b3f4-c1ead8cf1497"
      },
      "source": [
        "!wget --no-cache -O init.py -q https://raw.githubusercontent.com/rramosp/ai4eng.v1/main/content/init.py\n",
        "import init; init.init(force_download=False); init.get_weblink()\n"
      ],
      "execution_count": 1,
      "outputs": [
        {
          "output_type": "display_data",
          "data": {
            "text/html": [
              "\n",
              "<meta name=\"google-signin-client_id\"\n",
              "      content=\"461673936472-kdjosv61up3ac1ajeuq6qqu72upilmls.apps.googleusercontent.com\"/>\n",
              "<script src=\"https://apis.google.com/js/client:platform.js?onload=google_button_start\"></script>\n",
              "    "
            ],
            "text/plain": [
              "<IPython.core.display.HTML object>"
            ]
          },
          "metadata": {}
        },
        {
          "output_type": "stream",
          "name": "stdout",
          "text": [
            "replicating local resources\n"
          ]
        },
        {
          "output_type": "execute_result",
          "data": {
            "text/html": [
              "<h3>See <a href='https://m5knaekxo6.execute-api.us-west-2.amazonaws.com/dev-v0001/rlxmooc/web/login' target='_blank'>my courses and progress</a></h2>"
            ],
            "text/plain": [
              "<IPython.core.display.HTML object>"
            ]
          },
          "metadata": {},
          "execution_count": 1
        }
      ]
    },
    {
      "cell_type": "code",
      "metadata": {
        "id": "q_JOM4CIxY8Z",
        "colab": {
          "base_uri": "https://localhost:8080/",
          "height": 137,
          "referenced_widgets": [
            "ece56ba2c3bf4de4aebd6c1efa19e3f3",
            "6327cd4c41af47fc9baca359576a5d6a",
            "bee960bb420a40929cb65c9d56e0331c",
            "583402cc1dcd4eb2b57af89a34b6cda6",
            "4f4885f192574f55a437566bd32c611d",
            "14fb2fd6756041c5ace6540338850fb3",
            "4e7b428dcd07437f96f606ede29c08ba",
            "5dda08c9dfd246228e45b2c040998eb0",
            "9b8e4f32f37a4dadbde740a9a3b63f4d",
            "dfc1fb39190d4dd7ab7a51543011fbbf",
            "892a9716a9fd410b8ac0be1a73393c70",
            "b6fd34c4c57449d284447fc9eac34e8e",
            "5b4507b0d57d4cf29520316b80c3db73",
            "4f617295ee424ea9909663ad8e57db83",
            "11f354f9d7dc404bbf89d12ff2faf2f9",
            "11fc62e037a64c24b0754cb6a14bd7f4",
            "17ec3f02354b47289b0add1b929b87dc",
            "7b90ebbfdecf4f6f907c989164d69b49",
            "a8d20351e2fa4ebd89a128c7cc06993c"
          ]
        },
        "outputId": "d84c8283-848d-4329-939e-75cde2a84ced"
      },
      "source": [
        "from local.lib.rlxmoocapi import submit, session\n",
        "session.LoginSequence(endpoint=init.endpoint, course_id=init.course_id, lab_id=\"L05.02\", varname=\"student\");"
      ],
      "execution_count": 58,
      "outputs": [
        {
          "output_type": "stream",
          "name": "stdout",
          "text": [
            "logging in as luesierrape@unal.edu.co... please wait\n",
            "using course session ai4eng.v1::open\n",
            "success!! you are logged in\n"
          ]
        }
      ]
    },
    {
      "cell_type": "markdown",
      "metadata": {
        "id": "LcjXSUmRxY8a"
      },
      "source": [
        "## Task 1: Partition randomly `numpy` arrays\n",
        "\n",
        "observe we can select specific rows and/or columns on a numpy array"
      ]
    },
    {
      "cell_type": "code",
      "metadata": {
        "id": "q-FH1S49xY8b",
        "colab": {
          "base_uri": "https://localhost:8080/"
        },
        "outputId": "30e45cf8-6363-4e91-a938-1bdda1f6e301"
      },
      "source": [
        "import numpy as np\n",
        "\n",
        "x = np.random.randint(100, size=(20,5))\n",
        "x[:,0] = range(len(x))\n",
        "x[0,:] = range(x.shape[1])\n",
        "x"
      ],
      "execution_count": 6,
      "outputs": [
        {
          "output_type": "execute_result",
          "data": {
            "text/plain": [
              "array([[ 0,  1,  2,  3,  4],\n",
              "       [ 1, 47, 86, 93, 45],\n",
              "       [ 2, 21, 70, 80, 16],\n",
              "       [ 3, 38, 71, 67, 74],\n",
              "       [ 4, 18, 96,  9, 24],\n",
              "       [ 5, 27, 26, 91, 94],\n",
              "       [ 6, 80,  3, 17, 65],\n",
              "       [ 7, 21, 54, 93, 69],\n",
              "       [ 8, 94, 37, 13,  0],\n",
              "       [ 9, 39, 16, 26,  0],\n",
              "       [10,  0,  5, 41, 41],\n",
              "       [11, 25, 53, 59, 77],\n",
              "       [12, 32,  4, 77, 41],\n",
              "       [13, 91,  2, 63, 61],\n",
              "       [14, 18, 13, 56, 94],\n",
              "       [15, 28, 69,  5, 53],\n",
              "       [16, 64, 59, 46, 82],\n",
              "       [17, 29,  7, 15, 39],\n",
              "       [18, 12, 23, 70, 58],\n",
              "       [19,  6, 23, 37, 79]])"
            ]
          },
          "metadata": {},
          "execution_count": 6
        }
      ]
    },
    {
      "cell_type": "code",
      "metadata": {
        "id": "4VaDReHPxY8c",
        "colab": {
          "base_uri": "https://localhost:8080/"
        },
        "outputId": "db952f3d-bab4-42de-abbb-b2f219daebc3"
      },
      "source": [
        "ridxs = np.r_[2,4,5]\n",
        "x[ridxs]"
      ],
      "execution_count": null,
      "outputs": [
        {
          "output_type": "execute_result",
          "data": {
            "text/plain": [
              "array([[ 2, 94, 88, 25, 34],\n",
              "       [ 4,  3, 42,  6, 67],\n",
              "       [ 5,  3,  1, 84, 39]])"
            ]
          },
          "metadata": {},
          "execution_count": 20
        }
      ]
    },
    {
      "cell_type": "code",
      "metadata": {
        "id": "1P83H5CbxY8c",
        "colab": {
          "base_uri": "https://localhost:8080/"
        },
        "outputId": "549ef950-2aaf-4004-a168-a0f2a4457fc8"
      },
      "source": [
        "cidxs = np.r_[1,3]\n",
        "x[:,cidxs]"
      ],
      "execution_count": null,
      "outputs": [
        {
          "output_type": "execute_result",
          "data": {
            "text/plain": [
              "array([[ 1,  3],\n",
              "       [22, 85],\n",
              "       [94, 25],\n",
              "       [26, 21],\n",
              "       [ 3,  6],\n",
              "       [ 3, 84],\n",
              "       [ 4, 98],\n",
              "       [28,  3],\n",
              "       [77, 74],\n",
              "       [21, 72],\n",
              "       [58, 35],\n",
              "       [ 1, 95],\n",
              "       [84, 60],\n",
              "       [25, 84],\n",
              "       [42, 97],\n",
              "       [94, 49],\n",
              "       [84, 67],\n",
              "       [91, 48],\n",
              "       [44, 71],\n",
              "       [13, 42]])"
            ]
          },
          "metadata": {},
          "execution_count": 11
        }
      ]
    },
    {
      "cell_type": "code",
      "metadata": {
        "id": "0KrYXpxOxY8d",
        "colab": {
          "base_uri": "https://localhost:8080/"
        },
        "outputId": "66d1c26c-ca9d-4e6b-d20f-e55cd0d19bab"
      },
      "source": [
        "x[ridxs][:, cidxs]"
      ],
      "execution_count": null,
      "outputs": [
        {
          "output_type": "execute_result",
          "data": {
            "text/plain": [
              "array([[94, 25],\n",
              "       [ 3,  6],\n",
              "       [ 3, 84]])"
            ]
          },
          "metadata": {},
          "execution_count": 12
        }
      ]
    },
    {
      "cell_type": "markdown",
      "metadata": {
        "id": "i_iNrqBOxY8d"
      },
      "source": [
        "and the dimensions of the array are accessible through `len` and `shape`"
      ]
    },
    {
      "cell_type": "code",
      "metadata": {
        "id": "b45GBVJkxY8e",
        "colab": {
          "base_uri": "https://localhost:8080/"
        },
        "outputId": "633865ca-187d-45c6-b1c5-9019146d68be"
      },
      "source": [
        "len(x), x.shape"
      ],
      "execution_count": null,
      "outputs": [
        {
          "output_type": "execute_result",
          "data": {
            "text/plain": [
              "(20, (20, 5))"
            ]
          },
          "metadata": {},
          "execution_count": 21
        }
      ]
    },
    {
      "cell_type": "markdown",
      "metadata": {
        "id": "YXFN1RkPxY8e"
      },
      "source": [
        "observe also how we can partition it"
      ]
    },
    {
      "cell_type": "code",
      "metadata": {
        "id": "iI6ueicYxY8f",
        "colab": {
          "base_uri": "https://localhost:8080/"
        },
        "outputId": "1da1e452-1315-4aaf-b3be-55d274046552"
      },
      "source": [
        "x[:3]"
      ],
      "execution_count": null,
      "outputs": [
        {
          "output_type": "execute_result",
          "data": {
            "text/plain": [
              "array([[ 0,  1,  2,  3,  4],\n",
              "       [ 1, 22, 43, 85, 11],\n",
              "       [ 2, 94, 88, 25, 34]])"
            ]
          },
          "metadata": {},
          "execution_count": 25
        }
      ]
    },
    {
      "cell_type": "code",
      "metadata": {
        "id": "8EfcK2LTxY8g",
        "colab": {
          "base_uri": "https://localhost:8080/"
        },
        "outputId": "37eb923a-24ac-48e2-d7d8-30ab2344d090"
      },
      "source": [
        "x[3:]"
      ],
      "execution_count": null,
      "outputs": [
        {
          "output_type": "execute_result",
          "data": {
            "text/plain": [
              "array([[ 3, 26, 72, 21, 90],\n",
              "       [ 4,  3, 42,  6, 67],\n",
              "       [ 5,  3,  1, 84, 39],\n",
              "       [ 6,  4, 85, 98, 33],\n",
              "       [ 7, 28, 91,  3,  8],\n",
              "       [ 8, 77, 13, 74, 98],\n",
              "       [ 9, 21, 71, 72, 19],\n",
              "       [10, 58, 37, 35, 61],\n",
              "       [11,  1, 47, 95, 44],\n",
              "       [12, 84, 42, 60, 25],\n",
              "       [13, 25,  4, 84, 82],\n",
              "       [14, 42, 45, 97, 35],\n",
              "       [15, 94, 82, 49, 66],\n",
              "       [16, 84, 77, 67, 94],\n",
              "       [17, 91, 78, 48, 12],\n",
              "       [18, 44, 45, 71, 86],\n",
              "       [19, 13, 26, 42, 47]])"
            ]
          },
          "metadata": {},
          "execution_count": 26
        }
      ]
    },
    {
      "cell_type": "markdown",
      "metadata": {
        "id": "f-QHWyClxY8g"
      },
      "source": [
        "we can do the same thing with vectors"
      ]
    },
    {
      "cell_type": "code",
      "metadata": {
        "id": "K7K9vl_cxY8g",
        "colab": {
          "base_uri": "https://localhost:8080/"
        },
        "outputId": "4f2a86fc-a738-4be1-d080-40ddefe30e74"
      },
      "source": [
        "v = np.arange(100,120)\n",
        "v"
      ],
      "execution_count": null,
      "outputs": [
        {
          "output_type": "execute_result",
          "data": {
            "text/plain": [
              "array([100, 101, 102, 103, 104, 105, 106, 107, 108, 109, 110, 111, 112,\n",
              "       113, 114, 115, 116, 117, 118, 119])"
            ]
          },
          "metadata": {},
          "execution_count": 27
        }
      ]
    },
    {
      "cell_type": "code",
      "metadata": {
        "id": "nou0-V0vxY8h",
        "colab": {
          "base_uri": "https://localhost:8080/"
        },
        "outputId": "54774c19-b01a-4d9b-927a-4654353b44e3"
      },
      "source": [
        "v[:5], v[5:]"
      ],
      "execution_count": null,
      "outputs": [
        {
          "output_type": "execute_result",
          "data": {
            "text/plain": [
              "(array([100, 101, 102, 103, 104]),\n",
              " array([105, 106, 107, 108, 109, 110, 111, 112, 113, 114, 115, 116, 117,\n",
              "        118, 119]))"
            ]
          },
          "metadata": {},
          "execution_count": 28
        }
      ]
    },
    {
      "cell_type": "markdown",
      "metadata": {
        "id": "Sd_hSqOoxY8h"
      },
      "source": [
        "finally, observe how we can create a random permutation of a specific vector"
      ]
    },
    {
      "cell_type": "code",
      "metadata": {
        "id": "LHw55sIwxY8i",
        "colab": {
          "base_uri": "https://localhost:8080/"
        },
        "outputId": "08763645-ec08-46d9-e07e-8fc9efdd76f3"
      },
      "source": [
        "np.random.permutation(v)"
      ],
      "execution_count": null,
      "outputs": [
        {
          "output_type": "execute_result",
          "data": {
            "text/plain": [
              "array([102, 117, 109, 113, 106, 111, 104, 115, 118, 119, 114, 101, 108,\n",
              "       116, 103, 112, 100, 105, 107, 110])"
            ]
          },
          "metadata": {},
          "execution_count": 33
        }
      ]
    },
    {
      "cell_type": "markdown",
      "metadata": {
        "id": "8VYcY26ExY8i"
      },
      "source": [
        "or the first natural numbers"
      ]
    },
    {
      "cell_type": "code",
      "metadata": {
        "id": "rDulYckbxY8i",
        "colab": {
          "base_uri": "https://localhost:8080/"
        },
        "outputId": "8b283c3c-9401-4706-f32f-8b100e0144b3"
      },
      "source": [
        "p = np.random.permutation(20)\n",
        "p"
      ],
      "execution_count": null,
      "outputs": [
        {
          "output_type": "execute_result",
          "data": {
            "text/plain": [
              "array([ 0,  7, 16,  9,  5,  8, 14, 17,  3,  1, 15, 12, 10, 13, 11, 19,  6,\n",
              "       18,  2,  4])"
            ]
          },
          "metadata": {},
          "execution_count": 34
        }
      ]
    },
    {
      "cell_type": "markdown",
      "metadata": {
        "id": "lPT34PfwxY8j"
      },
      "source": [
        "how do you interpret this?"
      ]
    },
    {
      "cell_type": "code",
      "metadata": {
        "id": "jgbj7sibxY8k",
        "colab": {
          "base_uri": "https://localhost:8080/"
        },
        "outputId": "37159547-8b05-403b-cd7b-f3d44899a0ba"
      },
      "source": [
        "v[p[5:]]"
      ],
      "execution_count": null,
      "outputs": [
        {
          "output_type": "execute_result",
          "data": {
            "text/plain": [
              "array([108, 114, 117, 103, 101, 115, 112, 110, 113, 111, 119, 106, 118,\n",
              "       102, 104])"
            ]
          },
          "metadata": {},
          "execution_count": 35
        }
      ]
    },
    {
      "cell_type": "code",
      "metadata": {
        "id": "QabLGJBYxY8l",
        "colab": {
          "base_uri": "https://localhost:8080/"
        },
        "outputId": "ff8a37a7-de30-48dd-c689-9dc43dc6b685"
      },
      "source": [
        "x[p[:5]]"
      ],
      "execution_count": null,
      "outputs": [
        {
          "output_type": "execute_result",
          "data": {
            "text/plain": [
              "array([[ 0,  1,  2,  3,  4],\n",
              "       [ 7, 28, 91,  3,  8],\n",
              "       [16, 84, 77, 67, 94],\n",
              "       [ 9, 21, 71, 72, 19],\n",
              "       [ 5,  3,  1, 84, 39]])"
            ]
          },
          "metadata": {},
          "execution_count": 36
        }
      ]
    },
    {
      "cell_type": "code",
      "metadata": {
        "id": "-55SlEE2xY8m"
      },
      "source": [
        ""
      ],
      "execution_count": null,
      "outputs": []
    },
    {
      "cell_type": "code",
      "metadata": {
        "id": "F5-R3dNZxY8m"
      },
      "source": [
        ""
      ],
      "execution_count": null,
      "outputs": []
    },
    {
      "cell_type": "markdown",
      "metadata": {
        "id": "Gprh0zHmxY8n"
      },
      "source": [
        "### assignment\n",
        "\n",
        "in this task you will have to complete the function  `split_data` below so that:\n",
        "\n",
        "- it accepts two arguments `X` and `y`, either of which can be any numpy array (1D, 2D, etc.) of the **same** size $n$ (observe the  `assert` statement), and a `pct` \n",
        "- creates a random permutation of the natural number from $0$ to $n-1$\n",
        "- partitions the permutations so that the first partition contains the first `n1_elements` $=$ `int(n * pct)` numbers, and the second partition the rest\n",
        "- interpret the permutation partitions components as indexes to `X` and `y` so that they are partitioned into `X1`, `X2` and `y1`, `y2` respectively\n",
        "\n",
        "note that **indexes to array** must be of type `int`. do the following to convert a float to int"
      ]
    },
    {
      "cell_type": "code",
      "metadata": {
        "id": "qM0Iy_zExY8o",
        "colab": {
          "base_uri": "https://localhost:8080/"
        },
        "outputId": "f121b952-c735-473d-cda2-e7137e8c5989"
      },
      "source": [
        "a,b = 10,.3\n",
        "c = a*b\n",
        "print (c)\n",
        "c = int(c)\n",
        "print(c)"
      ],
      "execution_count": 4,
      "outputs": [
        {
          "output_type": "stream",
          "name": "stdout",
          "text": [
            "3.0\n",
            "3\n"
          ]
        }
      ]
    },
    {
      "cell_type": "code",
      "metadata": {
        "colab": {
          "base_uri": "https://localhost:8080/"
        },
        "id": "8WIwuhms6nOS",
        "outputId": "692d7f4f-4d7d-472d-b6ea-694c44c02c0c"
      },
      "source": [
        "permutation = np.random.permutation(range(len(x)))\n",
        "permutation"
      ],
      "execution_count": 7,
      "outputs": [
        {
          "output_type": "execute_result",
          "data": {
            "text/plain": [
              "array([15,  8,  3, 11, 17, 13,  1,  2, 12,  6,  7,  0, 10,  9, 19,  4, 16,\n",
              "       18,  5, 14])"
            ]
          },
          "metadata": {},
          "execution_count": 7
        }
      ]
    },
    {
      "cell_type": "code",
      "metadata": {
        "id": "L-w7bdbJxY8p"
      },
      "source": [
        "def split_data(X, y, pct):\n",
        "    \n",
        "    assert len(X)==len(y), \"X and y must have the same length\"\n",
        "    assert pct>0 and pct<1, \"pct must be in the (0,1) iterval\"\n",
        "    \n",
        "    permutation = np.random.permutation(range(len(X)))\n",
        "    n1_elements = int(len(X)*pct)\n",
        "    permutation_partition_1 = permutation[:n1_elements]\n",
        "    permutation_partition_2 = permutation[n1_elements:]\n",
        "    X1 = X[permutation_partition_1]\n",
        "    X2 = X[permutation_partition_2]\n",
        "    y1 = y[permutation_partition_1]\n",
        "    y2 = y[permutation_partition_2]\n",
        "    return X1, X2, y1, y2"
      ],
      "execution_count": 8,
      "outputs": []
    },
    {
      "cell_type": "markdown",
      "metadata": {
        "id": "Ai3CMS07xY8q"
      },
      "source": [
        "check your solution manually with the following code"
      ]
    },
    {
      "cell_type": "code",
      "metadata": {
        "id": "QCOE3-spxY8q",
        "colab": {
          "base_uri": "https://localhost:8080/"
        },
        "outputId": "ac3fc8dd-c7be-474c-8cdb-098482477f63"
      },
      "source": [
        "XX = np.random.randint(100, size=(20,8))\n",
        "yy = np.arange(100,100+len(XX))\n",
        "XX[:,0] = range(len(XX))\n",
        "XX[0,:] = range(XX.shape[1])\n",
        "print (XX)\n",
        "print (yy)"
      ],
      "execution_count": 9,
      "outputs": [
        {
          "output_type": "stream",
          "name": "stdout",
          "text": [
            "[[ 0  1  2  3  4  5  6  7]\n",
            " [ 1 44 43 59 77 81 97 88]\n",
            " [ 2 54 44  0 64 33 22 62]\n",
            " [ 3 28 69 33 65 58  1 63]\n",
            " [ 4 46 12 39 34 13 73 39]\n",
            " [ 5 57 97 34 20 39 14 93]\n",
            " [ 6 68 64 86 45 46 45  4]\n",
            " [ 7 40  6  0 61 10 83 96]\n",
            " [ 8 43 34 17 68 65 23 45]\n",
            " [ 9 69 69 20  1 73 50 73]\n",
            " [10 30 57 14 19 39 92 11]\n",
            " [11 32 89 93 69 79 35  2]\n",
            " [12 65 44 69 73 83 38 40]\n",
            " [13  0 76 15 37 86 86 24]\n",
            " [14 38  0 97 52 54  5 27]\n",
            " [15 58 55 17 89 51 99 92]\n",
            " [16 20 16  1 30 72 61 25]\n",
            " [17 30 35 77 56 78 81 16]\n",
            " [18 44 64  1 11 68 91  3]\n",
            " [19 86 84 32  1 84 74 55]]\n",
            "[100 101 102 103 104 105 106 107 108 109 110 111 112 113 114 115 116 117\n",
            " 118 119]\n"
          ]
        }
      ]
    },
    {
      "cell_type": "code",
      "metadata": {
        "id": "dKItofBWxY8r"
      },
      "source": [
        "Xtr, Xts, ytr, yts = split_data(XX, yy, pct=.7)"
      ],
      "execution_count": 15,
      "outputs": []
    },
    {
      "cell_type": "code",
      "metadata": {
        "id": "TrjQLJeqxY8s",
        "colab": {
          "base_uri": "https://localhost:8080/"
        },
        "outputId": "37b80088-b30a-4c25-b052-46082f94bee4"
      },
      "source": [
        "# check partition ok\n",
        "np.sum(XX), np.sum(Xtr) + np.sum(Xts), np.sum(yy), np.sum(ytr)+np.sum(yts)"
      ],
      "execution_count": 11,
      "outputs": [
        {
          "output_type": "execute_result",
          "data": {
            "text/plain": [
              "(6644, 6644, 2190, 2190)"
            ]
          },
          "metadata": {},
          "execution_count": 11
        }
      ]
    },
    {
      "cell_type": "code",
      "metadata": {
        "id": "dznjxMtMxY8u",
        "colab": {
          "base_uri": "https://localhost:8080/"
        },
        "outputId": "118576e9-a1e1-4ee6-c125-ea56fbd80901"
      },
      "source": [
        "print (Xtr, \"\\n--\")\n",
        "print (Xts, \"\\n--\")\n",
        "print (ytr, \"\\n--\")\n",
        "print (yts, \"\\n--\")\n",
        "Xts.shape"
      ],
      "execution_count": 16,
      "outputs": [
        {
          "output_type": "stream",
          "name": "stdout",
          "text": [
            "[[16 20 16  1 30 72 61 25]\n",
            " [11 32 89 93 69 79 35  2]\n",
            " [ 8 43 34 17 68 65 23 45]\n",
            " [12 65 44 69 73 83 38 40]\n",
            " [19 86 84 32  1 84 74 55]\n",
            " [ 9 69 69 20  1 73 50 73]\n",
            " [17 30 35 77 56 78 81 16]\n",
            " [10 30 57 14 19 39 92 11]\n",
            " [ 7 40  6  0 61 10 83 96]\n",
            " [14 38  0 97 52 54  5 27]] \n",
            "--\n",
            "[[ 0  1  2  3  4  5  6  7]\n",
            " [ 6 68 64 86 45 46 45  4]\n",
            " [ 1 44 43 59 77 81 97 88]\n",
            " [15 58 55 17 89 51 99 92]\n",
            " [ 5 57 97 34 20 39 14 93]\n",
            " [18 44 64  1 11 68 91  3]\n",
            " [ 2 54 44  0 64 33 22 62]\n",
            " [ 3 28 69 33 65 58  1 63]\n",
            " [ 4 46 12 39 34 13 73 39]\n",
            " [13  0 76 15 37 86 86 24]] \n",
            "--\n",
            "[116 111 108 112 119 109 117 110 107 114] \n",
            "--\n",
            "[100 106 101 115 105 118 102 103 104 113] \n",
            "--\n"
          ]
        },
        {
          "output_type": "execute_result",
          "data": {
            "text/plain": [
              "(10, 8)"
            ]
          },
          "metadata": {},
          "execution_count": 16
        }
      ]
    },
    {
      "cell_type": "code",
      "metadata": {
        "id": "5Tf3tyMnxY8v",
        "colab": {
          "base_uri": "https://localhost:8080/"
        },
        "outputId": "eee2690d-d16d-4b7a-dc95-8db28e947daf"
      },
      "source": [
        "Xts"
      ],
      "execution_count": 17,
      "outputs": [
        {
          "output_type": "execute_result",
          "data": {
            "text/plain": [
              "array([[ 0,  1,  2,  3,  4,  5,  6,  7],\n",
              "       [ 6, 68, 64, 86, 45, 46, 45,  4],\n",
              "       [ 1, 44, 43, 59, 77, 81, 97, 88],\n",
              "       [15, 58, 55, 17, 89, 51, 99, 92],\n",
              "       [ 5, 57, 97, 34, 20, 39, 14, 93],\n",
              "       [18, 44, 64,  1, 11, 68, 91,  3],\n",
              "       [ 2, 54, 44,  0, 64, 33, 22, 62],\n",
              "       [ 3, 28, 69, 33, 65, 58,  1, 63],\n",
              "       [ 4, 46, 12, 39, 34, 13, 73, 39],\n",
              "       [13,  0, 76, 15, 37, 86, 86, 24]])"
            ]
          },
          "metadata": {},
          "execution_count": 17
        }
      ]
    },
    {
      "cell_type": "code",
      "metadata": {
        "id": "M9L8FgUHxY8v"
      },
      "source": [
        ""
      ],
      "execution_count": null,
      "outputs": []
    },
    {
      "cell_type": "markdown",
      "metadata": {
        "id": "X0A3_fR8xY8w"
      },
      "source": [
        "**submit your code**"
      ]
    },
    {
      "cell_type": "code",
      "metadata": {
        "scrolled": true,
        "id": "b5rmQp59xY8x",
        "colab": {
          "base_uri": "https://localhost:8080/",
          "height": 127
        },
        "outputId": "e09f8697-a6b6-49cd-d62f-476b20c53af5"
      },
      "source": [
        "student.submit_task(globals(), task_id=\"task_01\");\n"
      ],
      "execution_count": 18,
      "outputs": [
        {
          "output_type": "display_data",
          "data": {
            "text/html": [
              "\n",
              "                    <b>task_01 submitted.</b> <b><font color=\"blue\">your grade is 5</font></b> \n",
              "                    <p/><pre>----- grader message -------</pre>testing with 100 random calls<br/><b>correct</b><pre>----------------------------</pre>\n",
              "                    <p/><p/>\n",
              "                    <div style=\"font-size:10px\"><b>SUBMISSION CODE</b> 5KQprZ0gtsdgiYlNxgRaLkjYg/EAiBttAdzqTCawYiPfqzDKbJjPY360EXlycwOVj2YUG2d0m/6lj63lXvQOPp+PtahPcJLThMo9jgruF2+++CSHeAl3IOz+VwUnGe5w1FKAYsqDx8r9t7b3u+FGKQ==</div>\n",
              "                    "
            ],
            "text/plain": [
              "<IPython.core.display.HTML object>"
            ]
          },
          "metadata": {}
        }
      ]
    },
    {
      "cell_type": "code",
      "metadata": {
        "id": "XPlL1FZlxY8x"
      },
      "source": [
        ""
      ],
      "execution_count": null,
      "outputs": []
    },
    {
      "cell_type": "markdown",
      "metadata": {
        "id": "qhitUKqFxY8y"
      },
      "source": [
        "## Task 2: Fit a model and make predictions"
      ]
    },
    {
      "cell_type": "markdown",
      "metadata": {
        "id": "zdvGCpinxY8y"
      },
      "source": [
        "observe how we create new data from synthetic datasets available in `sklearn`"
      ]
    },
    {
      "cell_type": "code",
      "metadata": {
        "id": "XaGrd86fxY8y"
      },
      "source": [
        "from sklearn.datasets import make_moons\n",
        "import matplotlib.pyplot as plt\n",
        "from local.lib import mlutils\n",
        "%matplotlib inline"
      ],
      "execution_count": 31,
      "outputs": []
    },
    {
      "cell_type": "code",
      "metadata": {
        "id": "wCuO67E9xY8z",
        "colab": {
          "base_uri": "https://localhost:8080/"
        },
        "outputId": "c5fde77e-a453-4b9a-ac82-c27340ae25c2"
      },
      "source": [
        "X, y = make_moons(200, noise=0.2)\n",
        "X.shape, y.shape"
      ],
      "execution_count": 32,
      "outputs": [
        {
          "output_type": "execute_result",
          "data": {
            "text/plain": [
              "((200, 2), (200,))"
            ]
          },
          "metadata": {},
          "execution_count": 32
        }
      ]
    },
    {
      "cell_type": "code",
      "metadata": {
        "id": "Mu36bd1mxY8z",
        "colab": {
          "base_uri": "https://localhost:8080/",
          "height": 265
        },
        "outputId": "dd243903-224c-43d1-9ce6-b1e76e66d68c"
      },
      "source": [
        "mlutils.plot_2Ddata(X,y); plt.grid();"
      ],
      "execution_count": 33,
      "outputs": [
        {
          "output_type": "display_data",
          "data": {
            "image/png": "[encoded data removed]",
            "text/plain": [
              "<Figure size 432x288 with 1 Axes>"
            ]
          },
          "metadata": {
            "needs_background": "light"
          }
        }
      ]
    },
    {
      "cell_type": "markdown",
      "metadata": {
        "id": "t60S996lxY80"
      },
      "source": [
        "observe also how we create an algorithm instance and fit a model"
      ]
    },
    {
      "cell_type": "code",
      "metadata": {
        "id": "z5XoPkNxxY80",
        "colab": {
          "base_uri": "https://localhost:8080/",
          "height": 283
        },
        "outputId": "6dacc94b-b013-4ef9-f420-d3ea2c1653e6"
      },
      "source": [
        "from sklearn.svm import SVC\n",
        "estimator = SVC(gamma=1)\n",
        "estimator.fit(X,y)\n",
        "mlutils.plot_2Ddata_with_boundary(estimator.predict, X, y)"
      ],
      "execution_count": 34,
      "outputs": [
        {
          "output_type": "execute_result",
          "data": {
            "text/plain": [
              "(0.4725, 0.5275)"
            ]
          },
          "metadata": {},
          "execution_count": 34
        },
        {
          "output_type": "display_data",
          "data": {
            "image/png": "[encoded data removed]",
            "text/plain": [
              "<Figure size 432x288 with 1 Axes>"
            ]
          },
          "metadata": {
            "needs_background": "light"
          }
        }
      ]
    },
    {
      "cell_type": "markdown",
      "metadata": {
        "id": "JAxXv3BfxY81"
      },
      "source": [
        "and how we make predictions"
      ]
    },
    {
      "cell_type": "code",
      "metadata": {
        "id": "kK38VsbkxY82",
        "colab": {
          "base_uri": "https://localhost:8080/"
        },
        "outputId": "60318b59-22c2-40e0-f732-a496c55104d1"
      },
      "source": [
        "preds = estimator.predict(X)\n",
        "print (preds.shape)\n",
        "preds"
      ],
      "execution_count": 35,
      "outputs": [
        {
          "output_type": "stream",
          "name": "stdout",
          "text": [
            "(200,)\n"
          ]
        },
        {
          "output_type": "execute_result",
          "data": {
            "text/plain": [
              "array([0, 0, 1, 1, 1, 1, 0, 0, 1, 0, 0, 0, 1, 1, 1, 0, 0, 0, 1, 0, 0, 0,\n",
              "       0, 0, 0, 0, 0, 1, 1, 0, 1, 1, 0, 1, 1, 0, 0, 0, 0, 0, 1, 0, 1, 1,\n",
              "       0, 1, 1, 1, 1, 1, 0, 0, 1, 1, 0, 0, 0, 1, 0, 1, 0, 0, 1, 1, 0, 1,\n",
              "       0, 1, 1, 0, 1, 0, 1, 0, 1, 0, 1, 1, 0, 1, 0, 0, 0, 0, 0, 0, 0, 1,\n",
              "       1, 1, 1, 0, 0, 0, 0, 0, 0, 0, 1, 0, 0, 0, 0, 1, 0, 1, 1, 0, 1, 1,\n",
              "       1, 1, 1, 1, 0, 0, 0, 1, 1, 1, 0, 0, 1, 1, 1, 1, 1, 0, 1, 1, 0, 1,\n",
              "       0, 1, 0, 1, 1, 1, 1, 1, 1, 0, 0, 0, 1, 0, 0, 0, 1, 1, 0, 1, 0, 1,\n",
              "       1, 1, 1, 0, 1, 0, 1, 0, 0, 1, 0, 1, 0, 0, 1, 0, 0, 0, 0, 0, 1, 0,\n",
              "       0, 0, 0, 1, 0, 1, 0, 1, 1, 1, 1, 1, 0, 1, 0, 0, 1, 1, 0, 1, 1, 0,\n",
              "       0, 0])"
            ]
          },
          "metadata": {},
          "execution_count": 35
        }
      ]
    },
    {
      "cell_type": "markdown",
      "metadata": {
        "id": "8vE7RNgtxY82"
      },
      "source": [
        "in this task you have to complete the following function so that:\n",
        "\n",
        "- it makes two non-random partitions of `X` and `y`. One containing the first half of the data and one containing the second part. If the number of elements of `X` is odd, then the second half will contain one more element than the first half.\n",
        "- it fits the model with the first part of the data\n",
        "- it makes predictions on the second half of the data\n",
        "- returns the estimator fitted, and the predictions on the second half of the data."
      ]
    },
    {
      "cell_type": "code",
      "metadata": {
        "id": "UvK9TtbKxY83"
      },
      "source": [
        "def fit_and_predict(estimator, X, y):\n",
        "    assert len(X)==len(y), \"X and y must have the same length\"\n",
        "    \n",
        "    X1 = X[:len(X)//2]\n",
        "    X2 = X[len(X)//2:]\n",
        "    y1 = y[:len(y)//2]\n",
        "    y2 = y[len(y)//2:]\n",
        "\n",
        "    estimator = estimator.fit(X1,y1)\n",
        "    predictions = estimator.predict(X2)\n",
        "    \n",
        "    return estimator, predictions"
      ],
      "execution_count": 42,
      "outputs": []
    },
    {
      "cell_type": "markdown",
      "metadata": {
        "id": "-M8Df-yxxY84"
      },
      "source": [
        "check your code. your predictions should be similar to\n",
        "\n",
        "    preds\n",
        "    >> array([0, 0, 0, 0, 1, 0, 1, 1, 1, 0])"
      ]
    },
    {
      "cell_type": "code",
      "metadata": {
        "id": "Eu1NijrdxY84",
        "colab": {
          "base_uri": "https://localhost:8080/"
        },
        "outputId": "a3a83130-4f62-4683-f1a6-94255f2c7837"
      },
      "source": [
        "X = np.array([[ 0.74799424, -0.5867667 ],\n",
        "       [-0.64457753,  1.25127894],\n",
        "       [ 0.53682593,  0.10931563],\n",
        "       [-0.88825294, -0.06987509],\n",
        "       [ 0.99612638, -0.52295157],\n",
        "       [ 1.20586692,  0.01930477],\n",
        "       [-0.19368482,  0.65121567],\n",
        "       [ 0.1973759 ,  0.82250723],\n",
        "       [ 0.94859234, -0.5457241 ],\n",
        "       [ 1.87967948, -0.22740261],\n",
        "       [ 0.58766146,  0.3982837 ],\n",
        "       [ 0.27731571,  1.14369568],\n",
        "       [-0.67421956,  0.12785382],\n",
        "       [ 0.56957459,  1.05330376],\n",
        "       [ 1.52435938, -0.29864338],\n",
        "       [-0.15973608,  0.21790711],\n",
        "       [ 1.59037406, -0.56875485],\n",
        "       [ 0.43257507, -0.48900315],\n",
        "       [ 1.09440413, -0.73789029],\n",
        "       [-0.32940869,  0.74671384]])\n",
        "y = np.array([1, 0, 1, 0, 1, 0, 0, 0, 1, 1, 0, 0, 0, 0, 1, 1, 1, 1, 1, 0])\n",
        "X.shape, y.shape"
      ],
      "execution_count": 43,
      "outputs": [
        {
          "output_type": "execute_result",
          "data": {
            "text/plain": [
              "((20, 2), (20,))"
            ]
          },
          "metadata": {},
          "execution_count": 43
        }
      ]
    },
    {
      "cell_type": "code",
      "metadata": {
        "id": "sGWnP35axY85",
        "colab": {
          "base_uri": "https://localhost:8080/"
        },
        "outputId": "49a5ff77-9da2-4f2f-b8b7-f7f88b90e7ee"
      },
      "source": [
        "from sklearn.linear_model import LogisticRegression\n",
        "estimator = LogisticRegression()\n",
        "estimator, preds = fit_and_predict(estimator, X, y)\n",
        "preds"
      ],
      "execution_count": 44,
      "outputs": [
        {
          "output_type": "execute_result",
          "data": {
            "text/plain": [
              "array([0, 0, 0, 0, 1, 0, 1, 1, 1, 0])"
            ]
          },
          "metadata": {},
          "execution_count": 44
        }
      ]
    },
    {
      "cell_type": "code",
      "metadata": {
        "id": "VBKZbKPyxY85"
      },
      "source": [
        "\n"
      ],
      "execution_count": 26,
      "outputs": []
    },
    {
      "cell_type": "markdown",
      "metadata": {
        "id": "lWvDN22oxY86"
      },
      "source": [
        "**submit your code**"
      ]
    },
    {
      "cell_type": "code",
      "metadata": {
        "id": "dL0o7oicxY86",
        "colab": {
          "base_uri": "https://localhost:8080/",
          "height": 127
        },
        "outputId": "18801996-f277-44ae-e98f-de9cf7c15001"
      },
      "source": [
        "student.submit_task(globals(), task_id=\"task_02\");\n"
      ],
      "execution_count": 45,
      "outputs": [
        {
          "output_type": "display_data",
          "data": {
            "text/html": [
              "\n",
              "                    <b>task_02 submitted.</b> <b><font color=\"blue\">your grade is 5</font></b> \n",
              "                    <p/><pre>----- grader message -------</pre>testing with 100 random calls<br/><b>correct</b><pre>----------------------------</pre>\n",
              "                    <p/><p/>\n",
              "                    <div style=\"font-size:10px\"><b>SUBMISSION CODE</b> gYIXtr8L9x2UTS9I7yxUExnHXDk/HtsJnpCrTFDxwZH3dy6/tCTL9q13ePXTTL9Q7FJBxpIaL7Ktvhn3/U92fcRz/kWfU39GD51spLUuTzsM6JRCDOW6YWZxr5Mjb5PUPffELbehuRy7JUG89M9CbQ==</div>\n",
              "                    "
            ],
            "text/plain": [
              "<IPython.core.display.HTML object>"
            ]
          },
          "metadata": {}
        }
      ]
    },
    {
      "cell_type": "code",
      "metadata": {
        "id": "IewGUpM5xY86"
      },
      "source": [
        ""
      ],
      "execution_count": null,
      "outputs": []
    },
    {
      "cell_type": "markdown",
      "metadata": {
        "id": "qR1s-f7cxY87"
      },
      "source": [
        "## Task 3: Select data with indices\n",
        "\n",
        "Observe how we can create a vector or matrix of `True/False` (boolean) by applying a condition to any matrix or vector"
      ]
    },
    {
      "cell_type": "code",
      "metadata": {
        "id": "ZUMGyodQxY87",
        "colab": {
          "base_uri": "https://localhost:8080/"
        },
        "outputId": "4218b2a5-67b3-478e-ef95-f8f1d11d2e7a"
      },
      "source": [
        "import numpy as np\n",
        "y = np.random.randint(10, size=15)\n",
        "print (y)"
      ],
      "execution_count": 46,
      "outputs": [
        {
          "output_type": "stream",
          "name": "stdout",
          "text": [
            "[7 7 0 0 1 0 5 8 2 3 9 2 1 8 7]\n"
          ]
        }
      ]
    },
    {
      "cell_type": "code",
      "metadata": {
        "id": "QnbmrvO2xY87",
        "colab": {
          "base_uri": "https://localhost:8080/"
        },
        "outputId": "07deb697-9162-449d-eeec-7684f820808f"
      },
      "source": [
        "y_less_than_5 = y<5\n",
        "print (y_less_than_5)"
      ],
      "execution_count": 49,
      "outputs": [
        {
          "output_type": "stream",
          "name": "stdout",
          "text": [
            "[False False  True  True  True  True False False  True  True False  True\n",
            "  True False False]\n"
          ]
        }
      ]
    },
    {
      "cell_type": "markdown",
      "metadata": {
        "id": "Ii-lSu0kxY88"
      },
      "source": [
        "and how we can select elements of a vector using a boolean vector of the same length"
      ]
    },
    {
      "cell_type": "code",
      "metadata": {
        "id": "St5_qEVKxY88",
        "colab": {
          "base_uri": "https://localhost:8080/"
        },
        "outputId": "c67b60b2-854f-4bf2-d3d3-187e20783fc8"
      },
      "source": [
        "y[y_less_than_5]"
      ],
      "execution_count": 50,
      "outputs": [
        {
          "output_type": "execute_result",
          "data": {
            "text/plain": [
              "array([0, 0, 1, 0, 2, 3, 2, 1])"
            ]
          },
          "metadata": {},
          "execution_count": 50
        }
      ]
    },
    {
      "cell_type": "code",
      "metadata": {
        "id": "k5GrnzFexY89",
        "colab": {
          "base_uri": "https://localhost:8080/"
        },
        "outputId": "53de3803-80f7-4c3e-c4cb-a133d4daf033"
      },
      "source": [
        "y[y<5]"
      ],
      "execution_count": 51,
      "outputs": [
        {
          "output_type": "execute_result",
          "data": {
            "text/plain": [
              "array([0, 0, 1, 0, 2, 3, 2, 1])"
            ]
          },
          "metadata": {},
          "execution_count": 51
        }
      ]
    },
    {
      "cell_type": "markdown",
      "metadata": {
        "id": "ouq29vtpxY89"
      },
      "source": [
        "python doesn't really care how you construct the vector of booleans to index any other vector or array"
      ]
    },
    {
      "cell_type": "code",
      "metadata": {
        "id": "dyLcNErCxY8-",
        "colab": {
          "base_uri": "https://localhost:8080/"
        },
        "outputId": "a18cfb10-2b85-4bab-cbb4-0be5d6049f2f"
      },
      "source": [
        "v = np.random.randint(20, size=15)\n",
        "v"
      ],
      "execution_count": 52,
      "outputs": [
        {
          "output_type": "execute_result",
          "data": {
            "text/plain": [
              "array([19, 10, 10, 19,  9, 13,  9, 14,  2,  6,  1, 11, 10,  9,  4])"
            ]
          },
          "metadata": {},
          "execution_count": 52
        }
      ]
    },
    {
      "cell_type": "code",
      "metadata": {
        "id": "gcAdXt-ixY8-",
        "colab": {
          "base_uri": "https://localhost:8080/"
        },
        "outputId": "d988ef90-0826-4eef-96bb-2c2a7b9f3b45"
      },
      "source": [
        "v[y<5]"
      ],
      "execution_count": 53,
      "outputs": [
        {
          "output_type": "execute_result",
          "data": {
            "text/plain": [
              "array([10, 19,  9, 13,  2,  6, 11, 10])"
            ]
          },
          "metadata": {},
          "execution_count": 53
        }
      ]
    },
    {
      "cell_type": "markdown",
      "metadata": {
        "id": "FAooZjobxY8-"
      },
      "source": [
        "in this task you will complete the function `select_per_class` such that:\n",
        "\n",
        "- receives an array of data `X` and a vector of labels `y`, of the same length\n",
        "- the labels `y` are binary, they can only have values `0` or `1`\n",
        "- makes two partitions of `X`, one corresponding to the places where y is 0, and another where y is 1\n",
        "- returns the two partitions\n",
        "\n",
        "For instance, for the following X and y\n",
        "\n",
        "    X = np.array([[8, 8, 5, 2, 0, 0],\n",
        "                  [4, 4, 8, 1, 3, 7],\n",
        "                  [4, 5, 3, 6, 9, 6],\n",
        "                  [0, 3, 5, 3, 5, 3],\n",
        "                  [0, 7, 2, 7, 1, 7],\n",
        "                  [5, 7, 7, 1, 8, 5],\n",
        "                  [2, 5, 7, 3, 8, 0],\n",
        "                  [7, 2, 5, 9, 8, 7],\n",
        "                  [1, 6, 6, 1, 6, 0],\n",
        "                  [0, 7, 6, 5, 3, 4]])\n",
        "\n",
        "    y = np.array([0, 0, 0, 0, 1, 1, 0, 0, 1, 1])\n",
        "\n",
        "your function must return the following two matrices:\n",
        "\n",
        "    [[8 8 5 2 0 0]\n",
        "     [4 4 8 1 3 7]\n",
        "     [4 5 3 6 9 6]\n",
        "     [0 3 5 3 5 3]\n",
        "     [2 5 7 3 8 0]\n",
        "     [7 2 5 9 8 7]]\n",
        "     \n",
        "    [[0 7 2 7 1 7]\n",
        "     [5 7 7 1 8 5]\n",
        "     [1 6 6 1 6 0]\n",
        "     [0 7 6 5 3 4]]\n"
      ]
    },
    {
      "cell_type": "code",
      "metadata": {
        "id": "25kVrsmbxY8_"
      },
      "source": [
        "def select_per_class(X, y):\n",
        "    X1 = X[y==0]\n",
        "    X2 = X[y==1]\n",
        "    return X1, X2"
      ],
      "execution_count": 54,
      "outputs": []
    },
    {
      "cell_type": "markdown",
      "metadata": {
        "id": "ocAkE8R2xY8_"
      },
      "source": [
        "check manually your code"
      ]
    },
    {
      "cell_type": "code",
      "metadata": {
        "id": "Joo8qMOxxY8_"
      },
      "source": [
        "X = np.array([[8, 8, 5, 2, 0, 0],\n",
        "              [4, 4, 8, 1, 3, 7],\n",
        "              [4, 5, 3, 6, 9, 6],\n",
        "              [0, 3, 5, 3, 5, 3],\n",
        "              [0, 7, 2, 7, 1, 7],\n",
        "              [5, 7, 7, 1, 8, 5],\n",
        "              [2, 5, 7, 3, 8, 0],\n",
        "              [7, 2, 5, 9, 8, 7],\n",
        "              [1, 6, 6, 1, 6, 0],\n",
        "              [0, 7, 6, 5, 3, 4]])\n",
        "\n",
        "y = np.array([0, 0, 0, 0, 1, 1, 0, 0, 1, 1])"
      ],
      "execution_count": 55,
      "outputs": []
    },
    {
      "cell_type": "code",
      "metadata": {
        "id": "vzW3JOx4xY9A",
        "colab": {
          "base_uri": "https://localhost:8080/"
        },
        "outputId": "d906ed69-1669-45c0-d889-68b1912a0102"
      },
      "source": [
        "a,b = select_per_class(X, y)\n",
        "print (a)\n",
        "print (b)"
      ],
      "execution_count": 56,
      "outputs": [
        {
          "output_type": "stream",
          "name": "stdout",
          "text": [
            "[[8 8 5 2 0 0]\n",
            " [4 4 8 1 3 7]\n",
            " [4 5 3 6 9 6]\n",
            " [0 3 5 3 5 3]\n",
            " [2 5 7 3 8 0]\n",
            " [7 2 5 9 8 7]]\n",
            "[[0 7 2 7 1 7]\n",
            " [5 7 7 1 8 5]\n",
            " [1 6 6 1 6 0]\n",
            " [0 7 6 5 3 4]]\n"
          ]
        }
      ]
    },
    {
      "cell_type": "code",
      "metadata": {
        "id": "hdN15pmTxY9B"
      },
      "source": [
        ""
      ],
      "execution_count": null,
      "outputs": []
    },
    {
      "cell_type": "markdown",
      "metadata": {
        "id": "GTsG5y1SxY9B"
      },
      "source": [
        "**submit your code**"
      ]
    },
    {
      "cell_type": "code",
      "metadata": {
        "scrolled": true,
        "id": "QnfBAtlmxY9C",
        "colab": {
          "base_uri": "https://localhost:8080/",
          "height": 127
        },
        "outputId": "9e9f80a3-fc34-4d1d-f0f5-d9823c5ed37c"
      },
      "source": [
        "student.submit_task(globals(), task_id=\"task_03\");\n"
      ],
      "execution_count": 59,
      "outputs": [
        {
          "output_type": "display_data",
          "data": {
            "text/html": [
              "\n",
              "                    <b>task_03 submitted.</b> <b><font color=\"blue\">your grade is 5</font></b> \n",
              "                    <p/><pre>----- grader message -------</pre>testing with 100 random calls<br/><b>correct</b><pre>----------------------------</pre>\n",
              "                    <p/><p/>\n",
              "                    <div style=\"font-size:10px\"><b>SUBMISSION CODE</b> lV8n1VS4Q9rAJ8fnIM4sXcc8c1zXn0U4mR2wBsHaWCgosRtPXh88AOZp1QLgekgHWvX658NWlgCklxa1mMnNllEYrUYEEIIzLG4uuh+zLlmlHeXheNv730REQnB7Ua0bNGQ1VLYxk76FuHovHX++IQ==</div>\n",
              "                    "
            ],
            "text/plain": [
              "<IPython.core.display.HTML object>"
            ]
          },
          "metadata": {}
        }
      ]
    },
    {
      "cell_type": "code",
      "metadata": {
        "id": "hZtL7mKWxY9C"
      },
      "source": [
        ""
      ],
      "execution_count": null,
      "outputs": []
    },
    {
      "cell_type": "markdown",
      "metadata": {
        "id": "hyEWXGSbxY9C"
      },
      "source": [
        "## Task 4: Measure accuracy\n",
        "\n",
        "complete the following function such that:\n",
        "\n",
        "- it receives to binary vectors (composed of 0's and 1's) of the same length\n",
        "- returns the percentage of elements that are the same in both vectors\n",
        "\n",
        "recall that\n",
        "\n",
        "- if `a` and `b` are vectors of the same length a==b   returns a vector of booleans in which positions in True signal that elements in those position are the same\n",
        "- if `k` is a vector of booleans, `sum(k)` returns the number of `True` elements.\n",
        "\n",
        "\n",
        "for the following two vectors you should get 0.375\n",
        "\n",
        "    a = np.array([1,0,0,0,1,1,0,0])\n",
        "    b = np.array([1,1,1,1,0,1,0,1])\n",
        "    accuracy(a, b)\n",
        "    >>> 0.375\n"
      ]
    },
    {
      "cell_type": "code",
      "metadata": {
        "id": "E7GI06IAxY9D"
      },
      "source": [
        "def accuracy(y_true, y_pred):\n",
        "    k = y_true == y_pred\n",
        "    result = k.mean()\n",
        "    return result"
      ],
      "execution_count": 70,
      "outputs": []
    },
    {
      "cell_type": "code",
      "metadata": {
        "id": "blAeX3ShxY9D",
        "colab": {
          "base_uri": "https://localhost:8080/"
        },
        "outputId": "78989071-3d0c-4278-a90b-aa81d87ea8e4"
      },
      "source": [
        "a = np.array([1,0,0,0,1,1,0,0])\n",
        "b = np.array([1,1,1,1,0,1,0,1])\n",
        "accuracy(a,b)"
      ],
      "execution_count": 71,
      "outputs": [
        {
          "output_type": "execute_result",
          "data": {
            "text/plain": [
              "0.375"
            ]
          },
          "metadata": {},
          "execution_count": 71
        }
      ]
    },
    {
      "cell_type": "code",
      "metadata": {
        "id": "NlRJGKspxY9E"
      },
      "source": [
        ""
      ],
      "execution_count": null,
      "outputs": []
    },
    {
      "cell_type": "code",
      "metadata": {
        "id": "4XGTP4j_xY9E"
      },
      "source": [
        ""
      ],
      "execution_count": null,
      "outputs": []
    },
    {
      "cell_type": "markdown",
      "metadata": {
        "id": "pSYLKdrbxY9F"
      },
      "source": [
        "**submit your code**"
      ]
    },
    {
      "cell_type": "code",
      "metadata": {
        "scrolled": false,
        "id": "uoEcZ7CaxY9F",
        "colab": {
          "base_uri": "https://localhost:8080/",
          "height": 127
        },
        "outputId": "8f991ffa-3da2-4e29-eb25-b497501970b3"
      },
      "source": [
        "student.submit_task(globals(), task_id=\"task_04\");\n"
      ],
      "execution_count": 72,
      "outputs": [
        {
          "output_type": "display_data",
          "data": {
            "text/html": [
              "\n",
              "                    <b>task_04 submitted.</b> <b><font color=\"blue\">your grade is 5</font></b> \n",
              "                    <p/><pre>----- grader message -------</pre>testing with 100 random calls<br/><b>correct</b><pre>----------------------------</pre>\n",
              "                    <p/><p/>\n",
              "                    <div style=\"font-size:10px\"><b>SUBMISSION CODE</b> VGyUP3gpXSa5Qqo1fOEHxRIiolQ7DSDO/3Ov3/0mJoywmKilwpw3tBr+s8CUIkFCP8IiEhHlqytp6lqntadx2tgtVNuuRW2bbvS0lITdlfw31SeQlDZ7Cup67EbW+hHwi2tUvq+f/Iq2BQjGzL+jWA==</div>\n",
              "                    "
            ],
            "text/plain": [
              "<IPython.core.display.HTML object>"
            ]
          },
          "metadata": {}
        }
      ]
    },
    {
      "cell_type": "code",
      "metadata": {
        "id": "iODd3pIDxY9G"
      },
      "source": [
        ""
      ],
      "execution_count": null,
      "outputs": []
    },
    {
      "cell_type": "markdown",
      "metadata": {
        "id": "wIJepwBJxY9G"
      },
      "source": [
        "## Task 5: Random split, fit and predict\n",
        "\n",
        "complete the following function so that:\n",
        "\n",
        "- fits the estimator with a random sample of size `train_pct` of the data `X` and binary labels `y`. You can use the `split_data` function developed previously\n",
        "- makes predictions on the test part of the data\n",
        "- measures accuracy of those predictions. you may use the function created previously\n",
        "- returns the estimator fitted, the test part of `X` and `y`, and the accuracy measured\n",
        "\n",
        "\n",
        "the execution below should return something with the following structure (the actual numbers will change)\n",
        "\n",
        "\n",
        "    (LogisticRegression(C=1.0, class_weight=None, dual=False, fit_intercept=True,\n",
        "                        intercept_scaling=1, l1_ratio=None, max_iter=100,\n",
        "                        multi_class='warn', n_jobs=None, penalty='l2',\n",
        "                        random_state=None, solver='lbfgs', tol=0.0001, verbose=0,\n",
        "                        warm_start=False), array([[-0.76329684,  0.2572069 ],\n",
        "            [ 1.02356829,  0.37629873],\n",
        "            [ 0.32099415,  0.82244488],\n",
        "            [ 1.08858315, -0.61299904],\n",
        "            [ 0.58470767,  0.58510559],\n",
        "            [ 1.60827644, -0.15477173],\n",
        "            [ 1.53121784,  0.78121504],\n",
        "            [-0.42734156,  0.87585237],\n",
        "            [-0.36368682,  0.72152586],\n",
        "            [ 1.05312619,  0.19835526]]), array([0, 0, 1, 1, 0, 1, 1, 0, 0, 0]), 0.6)"
      ]
    },
    {
      "cell_type": "code",
      "metadata": {
        "id": "kVBn3KndxY9H"
      },
      "source": [
        "\n",
        "def split_fit_predict(estimator, X, y, train_pct):\n",
        "    \n",
        "    def split_data(X, y, pct):\n",
        "      assert len(X)==len(y), \"X and y must have the same length\"\n",
        "      assert pct>0 and pct<1, \"pct must be in the (0,1) iterval\"\n",
        "    \n",
        "      permutation = np.random.permutation(range(len(X)))\n",
        "      n1_elements = int(len(X)*pct)\n",
        "      permutation_partition_1 = permutation[:n1_elements]\n",
        "      permutation_partition_2 = permutation[n1_elements:]\n",
        "      X1 = X[permutation_partition_1]\n",
        "      X2 = X[permutation_partition_2]\n",
        "      y1 = y[permutation_partition_1]\n",
        "      y2 = y[permutation_partition_2]\n",
        "      return X1, X2, y1, y2\n",
        "\n",
        "    \n",
        "    def accuracy(y_true, y_pred):\n",
        "      k = y_true == y_pred\n",
        "      result = k.mean()\n",
        "      return result\n",
        "\n",
        "    Xtr, Xts, ytr, yts = split_data(X,y,train_pct)\n",
        "    estimator = estimator.fit(Xtr,ytr)\n",
        "    preds_ts = estimator.predict(Xts) \n",
        "    return estimator, Xts, yts, accuracy(yts, preds_ts)\n",
        "        \n",
        "        "
      ],
      "execution_count": 76,
      "outputs": []
    },
    {
      "cell_type": "code",
      "metadata": {
        "id": "3-Orm0SQxY9I",
        "colab": {
          "base_uri": "https://localhost:8080/"
        },
        "outputId": "1d6a5374-038b-485d-d421-5b982fcfe5a1"
      },
      "source": [
        "from sklearn.linear_model import LogisticRegression\n",
        "\n",
        "X, y = make_moons(100, noise=0.2)\n",
        "estimator = LogisticRegression(solver=\"lbfgs\")\n",
        "split_fit_predict(estimator, X, y, train_pct=0.9)\n"
      ],
      "execution_count": 77,
      "outputs": [
        {
          "output_type": "execute_result",
          "data": {
            "text/plain": [
              "(LogisticRegression(C=1.0, class_weight=None, dual=False, fit_intercept=True,\n",
              "                    intercept_scaling=1, l1_ratio=None, max_iter=100,\n",
              "                    multi_class='auto', n_jobs=None, penalty='l2',\n",
              "                    random_state=None, solver='lbfgs', tol=0.0001, verbose=0,\n",
              "                    warm_start=False), array([[-0.14954179,  0.67350676],\n",
              "        [-0.23651769,  0.09970753],\n",
              "        [-0.09253945,  1.12036508],\n",
              "        [-0.10336594,  0.87630892],\n",
              "        [-0.67560142,  0.80828841],\n",
              "        [ 2.19973531,  0.1977077 ],\n",
              "        [ 1.41355305, -0.44017883],\n",
              "        [-0.92055444, -0.09006182],\n",
              "        [ 1.97705548, -0.25946746],\n",
              "        [ 1.91960564, -0.10854506]]), array([0, 1, 0, 0, 0, 1, 1, 0, 1, 1]), 0.9)"
            ]
          },
          "metadata": {},
          "execution_count": 77
        }
      ]
    },
    {
      "cell_type": "code",
      "metadata": {
        "id": "0d25uShwxY9I"
      },
      "source": [
        ""
      ],
      "execution_count": null,
      "outputs": []
    },
    {
      "cell_type": "code",
      "metadata": {
        "id": "pLnpVU3nxY9I"
      },
      "source": [
        ""
      ],
      "execution_count": null,
      "outputs": []
    },
    {
      "cell_type": "markdown",
      "metadata": {
        "id": "TAHQm695xY9J"
      },
      "source": [
        "**submit your code**"
      ]
    },
    {
      "cell_type": "code",
      "metadata": {
        "scrolled": false,
        "id": "KiKbPx4bxY9K",
        "colab": {
          "base_uri": "https://localhost:8080/",
          "height": 127
        },
        "outputId": "3bcbd8d4-037d-4936-a13e-edc4fec20d9b"
      },
      "source": [
        "student.submit_task(globals(), task_id=\"task_05\");\n"
      ],
      "execution_count": 78,
      "outputs": [
        {
          "output_type": "display_data",
          "data": {
            "text/html": [
              "\n",
              "                    <b>task_05 submitted.</b> <b><font color=\"blue\">your grade is 5</font></b> \n",
              "                    <p/><pre>----- grader message -------</pre>testing with 100 random calls<br/><b>correct</b><pre>----------------------------</pre>\n",
              "                    <p/><p/>\n",
              "                    <div style=\"font-size:10px\"><b>SUBMISSION CODE</b> J2ij8Hq1IFkQ5jpAhEk9/MlITHIuQ+VkkdwPHBlIhHjqrE2q93NtmmFi/bYbrGCj6mJRbnouTQn2zv7DrrvPsCGLMAgl1qol9Ir3qeM0k9xyxeWguGxjgBnNUiJNmTnNZQIOtpZM755J1Ol4mSS6OQ==</div>\n",
              "                    "
            ],
            "text/plain": [
              "<IPython.core.display.HTML object>"
            ]
          },
          "metadata": {}
        }
      ]
    },
    {
      "cell_type": "code",
      "metadata": {
        "id": "ph3-DRwLxY9K"
      },
      "source": [
        ""
      ],
      "execution_count": null,
      "outputs": []
    }
  ]
}