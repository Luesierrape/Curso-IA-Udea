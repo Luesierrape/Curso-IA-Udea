{
  "nbformat": 4,
  "nbformat_minor": 0,
  "metadata": {
    "kernelspec": {
      "display_name": "Python 3",
      "language": "python",
      "name": "python3"
    },
    "language_info": {
      "codemirror_mode": {
        "name": "ipython",
        "version": 3
      },
      "file_extension": ".py",
      "mimetype": "text/x-python",
      "name": "python",
      "nbconvert_exporter": "python",
      "pygments_lexer": "ipython3",
      "version": "3.7.3"
    },
    "colab": {
      "name": "Copia de LAB 04.02 - BUILDING DATASETS.ipynb",
      "provenance": [],
      "collapsed_sections": [],
      "include_colab_link": true
    },
    "widgets": {
      "application/vnd.jupyter.widget-state+json": {
        "8861b653c9d341dab9dc632827e3df3d": {
          "model_module": "@jupyter-widgets/controls",
          "model_name": "HBoxModel",
          "model_module_version": "1.5.0",
          "state": {
            "_view_name": "HBoxView",
            "_dom_classes": [],
            "_model_name": "HBoxModel",
            "_view_module": "@jupyter-widgets/controls",
            "_model_module_version": "1.5.0",
            "_view_count": null,
            "_view_module_version": "1.5.0",
            "box_style": "",
            "layout": "IPY_MODEL_b0261bcc4856456dac62adbf7b307dad",
            "_model_module": "@jupyter-widgets/controls",
            "children": [
              "IPY_MODEL_0305fbfa0337460496ee68625776053c",
              "IPY_MODEL_66f658fe99ca4400be82ac8f28ec3110",
              "IPY_MODEL_caf4f885888a4e8d9bdfdca9d8c38f83",
              "IPY_MODEL_8add166f502c4e82a8dde5d7156f690b"
            ]
          }
        },
        "b0261bcc4856456dac62adbf7b307dad": {
          "model_module": "@jupyter-widgets/base",
          "model_name": "LayoutModel",
          "model_module_version": "1.2.0",
          "state": {
            "_view_name": "LayoutView",
            "grid_template_rows": null,
            "right": null,
            "justify_content": null,
            "_view_module": "@jupyter-widgets/base",
            "overflow": null,
            "_model_module_version": "1.2.0",
            "_view_count": null,
            "flex_flow": null,
            "width": null,
            "min_width": null,
            "border": null,
            "align_items": null,
            "bottom": null,
            "_model_module": "@jupyter-widgets/base",
            "top": null,
            "grid_column": null,
            "overflow_y": null,
            "overflow_x": null,
            "grid_auto_flow": null,
            "grid_area": null,
            "grid_template_columns": null,
            "flex": null,
            "_model_name": "LayoutModel",
            "justify_items": null,
            "grid_row": null,
            "max_height": null,
            "align_content": null,
            "visibility": null,
            "align_self": null,
            "height": null,
            "min_height": null,
            "padding": null,
            "grid_auto_rows": null,
            "grid_gap": null,
            "max_width": null,
            "order": null,
            "_view_module_version": "1.2.0",
            "grid_template_areas": null,
            "object_position": null,
            "object_fit": null,
            "grid_auto_columns": null,
            "margin": null,
            "display": null,
            "left": null
          }
        },
        "0305fbfa0337460496ee68625776053c": {
          "model_module": "@jupyter-widgets/controls",
          "model_name": "VBoxModel",
          "model_module_version": "1.5.0",
          "state": {
            "_view_name": "VBoxView",
            "_dom_classes": [],
            "_model_name": "VBoxModel",
            "_view_module": "@jupyter-widgets/controls",
            "_model_module_version": "1.5.0",
            "_view_count": null,
            "_view_module_version": "1.5.0",
            "box_style": "",
            "layout": "IPY_MODEL_df0238cf290744aeb5ee6be33e55d632",
            "_model_module": "@jupyter-widgets/controls",
            "children": [
              "IPY_MODEL_8bf7b2c2a4254fd2b7575ed2e6e9ac51",
              "IPY_MODEL_8702e9e35f384f29ae3bc2862754629b"
            ]
          }
        },
        "66f658fe99ca4400be82ac8f28ec3110": {
          "model_module": "@jupyter-widgets/controls",
          "model_name": "ButtonModel",
          "model_module_version": "1.5.0",
          "state": {
            "_view_name": "ButtonView",
            "style": "IPY_MODEL_7f4095602978480a89d7d218b949cfef",
            "_dom_classes": [
              "login_button"
            ],
            "description": "Login with email",
            "_model_name": "ButtonModel",
            "button_style": "",
            "_view_module": "@jupyter-widgets/controls",
            "_model_module_version": "1.5.0",
            "tooltip": "",
            "_view_count": null,
            "disabled": false,
            "_view_module_version": "1.5.0",
            "layout": "IPY_MODEL_b0b6cce277ae47d7857e0381880e9b22",
            "_model_module": "@jupyter-widgets/controls",
            "icon": ""
          }
        },
        "caf4f885888a4e8d9bdfdca9d8c38f83": {
          "model_module": "@jupyter-widgets/controls",
          "model_name": "HTMLModel",
          "model_module_version": "1.5.0",
          "state": {
            "_view_name": "HTMLView",
            "style": "IPY_MODEL_9a60a58401c34469858b903405c45104",
            "_dom_classes": [],
            "description": "",
            "_model_name": "HTMLModel",
            "placeholder": "​",
            "_view_module": "@jupyter-widgets/controls",
            "_model_module_version": "1.5.0",
            "value": "<center><big>or</big></center>",
            "_view_count": null,
            "_view_module_version": "1.5.0",
            "description_tooltip": null,
            "_model_module": "@jupyter-widgets/controls",
            "layout": "IPY_MODEL_baad9574c1e64b19b79965888e876173"
          }
        },
        "8add166f502c4e82a8dde5d7156f690b": {
          "model_module": "@jupyter-widgets/controls",
          "model_name": "ButtonModel",
          "model_module_version": "1.5.0",
          "state": {
            "_view_name": "ButtonView",
            "style": "IPY_MODEL_be44eb245fe64bc1b68d2b148d5c7ab2",
            "_dom_classes": [
              "google_button"
            ],
            "description": "Login with Google",
            "_model_name": "ButtonModel",
            "button_style": "",
            "_view_module": "@jupyter-widgets/controls",
            "_model_module_version": "1.5.0",
            "tooltip": "",
            "_view_count": null,
            "disabled": false,
            "_view_module_version": "1.5.0",
            "layout": "IPY_MODEL_dcdc5100e3404b54bd76444a5095e034",
            "_model_module": "@jupyter-widgets/controls",
            "icon": ""
          }
        },
        "df0238cf290744aeb5ee6be33e55d632": {
          "model_module": "@jupyter-widgets/base",
          "model_name": "LayoutModel",
          "model_module_version": "1.2.0",
          "state": {
            "_view_name": "LayoutView",
            "grid_template_rows": null,
            "right": null,
            "justify_content": null,
            "_view_module": "@jupyter-widgets/base",
            "overflow": null,
            "_model_module_version": "1.2.0",
            "_view_count": null,
            "flex_flow": null,
            "width": null,
            "min_width": null,
            "border": null,
            "align_items": null,
            "bottom": null,
            "_model_module": "@jupyter-widgets/base",
            "top": null,
            "grid_column": null,
            "overflow_y": null,
            "overflow_x": null,
            "grid_auto_flow": null,
            "grid_area": null,
            "grid_template_columns": null,
            "flex": null,
            "_model_name": "LayoutModel",
            "justify_items": null,
            "grid_row": null,
            "max_height": null,
            "align_content": null,
            "visibility": null,
            "align_self": null,
            "height": null,
            "min_height": null,
            "padding": null,
            "grid_auto_rows": null,
            "grid_gap": null,
            "max_width": null,
            "order": null,
            "_view_module_version": "1.2.0",
            "grid_template_areas": null,
            "object_position": null,
            "object_fit": null,
            "grid_auto_columns": null,
            "margin": null,
            "display": null,
            "left": null
          }
        },
        "8bf7b2c2a4254fd2b7575ed2e6e9ac51": {
          "model_module": "@jupyter-widgets/controls",
          "model_name": "TextModel",
          "model_module_version": "1.5.0",
          "state": {
            "_view_name": "TextView",
            "style": "IPY_MODEL_4f0cddcf1b8c4fb2877f3bacb67be270",
            "_dom_classes": [],
            "description": "email",
            "_model_name": "TextModel",
            "placeholder": "​",
            "_view_module": "@jupyter-widgets/controls",
            "_model_module_version": "1.5.0",
            "value": "",
            "_view_count": null,
            "disabled": false,
            "_view_module_version": "1.5.0",
            "continuous_update": true,
            "description_tooltip": null,
            "_model_module": "@jupyter-widgets/controls",
            "layout": "IPY_MODEL_b8cc58b44da24952a16d73aaa0c8a720"
          }
        },
        "8702e9e35f384f29ae3bc2862754629b": {
          "model_module": "@jupyter-widgets/controls",
          "model_name": "PasswordModel",
          "model_module_version": "1.5.0",
          "state": {
            "_view_name": "PasswordView",
            "style": "IPY_MODEL_3534107d5a81430f95c0f5b3dc08a782",
            "_dom_classes": [],
            "description": "password",
            "_model_name": "PasswordModel",
            "placeholder": "​",
            "_view_module": "@jupyter-widgets/controls",
            "_model_module_version": "1.5.0",
            "value": "",
            "_view_count": null,
            "disabled": false,
            "_view_module_version": "1.5.0",
            "continuous_update": true,
            "description_tooltip": null,
            "_model_module": "@jupyter-widgets/controls",
            "layout": "IPY_MODEL_6cf60f1d47a84ae39297a902c113cfd7"
          }
        },
        "7f4095602978480a89d7d218b949cfef": {
          "model_module": "@jupyter-widgets/controls",
          "model_name": "ButtonStyleModel",
          "model_module_version": "1.5.0",
          "state": {
            "_view_name": "StyleView",
            "_model_name": "ButtonStyleModel",
            "_view_module": "@jupyter-widgets/base",
            "_model_module_version": "1.5.0",
            "_view_count": null,
            "button_color": null,
            "font_weight": "",
            "_view_module_version": "1.2.0",
            "_model_module": "@jupyter-widgets/controls"
          }
        },
        "b0b6cce277ae47d7857e0381880e9b22": {
          "model_module": "@jupyter-widgets/base",
          "model_name": "LayoutModel",
          "model_module_version": "1.2.0",
          "state": {
            "_view_name": "LayoutView",
            "grid_template_rows": null,
            "right": null,
            "justify_content": null,
            "_view_module": "@jupyter-widgets/base",
            "overflow": null,
            "_model_module_version": "1.2.0",
            "_view_count": null,
            "flex_flow": null,
            "width": "150px",
            "min_width": null,
            "border": null,
            "align_items": null,
            "bottom": null,
            "_model_module": "@jupyter-widgets/base",
            "top": null,
            "grid_column": null,
            "overflow_y": null,
            "overflow_x": null,
            "grid_auto_flow": null,
            "grid_area": null,
            "grid_template_columns": null,
            "flex": null,
            "_model_name": "LayoutModel",
            "justify_items": null,
            "grid_row": null,
            "max_height": null,
            "align_content": null,
            "visibility": null,
            "align_self": null,
            "height": "53px",
            "min_height": null,
            "padding": null,
            "grid_auto_rows": null,
            "grid_gap": null,
            "max_width": null,
            "order": null,
            "_view_module_version": "1.2.0",
            "grid_template_areas": null,
            "object_position": null,
            "object_fit": null,
            "grid_auto_columns": null,
            "margin": null,
            "display": null,
            "left": null
          }
        },
        "9a60a58401c34469858b903405c45104": {
          "model_module": "@jupyter-widgets/controls",
          "model_name": "DescriptionStyleModel",
          "model_module_version": "1.5.0",
          "state": {
            "_view_name": "StyleView",
            "_model_name": "DescriptionStyleModel",
            "description_width": "",
            "_view_module": "@jupyter-widgets/base",
            "_model_module_version": "1.5.0",
            "_view_count": null,
            "_view_module_version": "1.2.0",
            "_model_module": "@jupyter-widgets/controls"
          }
        },
        "baad9574c1e64b19b79965888e876173": {
          "model_module": "@jupyter-widgets/base",
          "model_name": "LayoutModel",
          "model_module_version": "1.2.0",
          "state": {
            "_view_name": "LayoutView",
            "grid_template_rows": null,
            "right": null,
            "justify_content": null,
            "_view_module": "@jupyter-widgets/base",
            "overflow": null,
            "_model_module_version": "1.2.0",
            "_view_count": null,
            "flex_flow": null,
            "width": "100px",
            "min_width": null,
            "border": null,
            "align_items": null,
            "bottom": null,
            "_model_module": "@jupyter-widgets/base",
            "top": null,
            "grid_column": null,
            "overflow_y": null,
            "overflow_x": null,
            "grid_auto_flow": null,
            "grid_area": null,
            "grid_template_columns": null,
            "flex": null,
            "_model_name": "LayoutModel",
            "justify_items": null,
            "grid_row": null,
            "max_height": null,
            "align_content": null,
            "visibility": null,
            "align_self": null,
            "height": null,
            "min_height": null,
            "padding": null,
            "grid_auto_rows": null,
            "grid_gap": null,
            "max_width": null,
            "order": null,
            "_view_module_version": "1.2.0",
            "grid_template_areas": null,
            "object_position": null,
            "object_fit": null,
            "grid_auto_columns": null,
            "margin": null,
            "display": null,
            "left": null
          }
        },
        "be44eb245fe64bc1b68d2b148d5c7ab2": {
          "model_module": "@jupyter-widgets/controls",
          "model_name": "ButtonStyleModel",
          "model_module_version": "1.5.0",
          "state": {
            "_view_name": "StyleView",
            "_model_name": "ButtonStyleModel",
            "_view_module": "@jupyter-widgets/base",
            "_model_module_version": "1.5.0",
            "_view_count": null,
            "button_color": null,
            "font_weight": "",
            "_view_module_version": "1.2.0",
            "_model_module": "@jupyter-widgets/controls"
          }
        },
        "dcdc5100e3404b54bd76444a5095e034": {
          "model_module": "@jupyter-widgets/base",
          "model_name": "LayoutModel",
          "model_module_version": "1.2.0",
          "state": {
            "_view_name": "LayoutView",
            "grid_template_rows": null,
            "right": null,
            "justify_content": null,
            "_view_module": "@jupyter-widgets/base",
            "overflow": null,
            "_model_module_version": "1.2.0",
            "_view_count": null,
            "flex_flow": null,
            "width": "200px",
            "min_width": null,
            "border": null,
            "align_items": null,
            "bottom": null,
            "_model_module": "@jupyter-widgets/base",
            "top": null,
            "grid_column": null,
            "overflow_y": null,
            "overflow_x": null,
            "grid_auto_flow": null,
            "grid_area": null,
            "grid_template_columns": null,
            "flex": null,
            "_model_name": "LayoutModel",
            "justify_items": null,
            "grid_row": null,
            "max_height": null,
            "align_content": null,
            "visibility": null,
            "align_self": null,
            "height": "53px",
            "min_height": null,
            "padding": null,
            "grid_auto_rows": null,
            "grid_gap": null,
            "max_width": null,
            "order": null,
            "_view_module_version": "1.2.0",
            "grid_template_areas": null,
            "object_position": null,
            "object_fit": null,
            "grid_auto_columns": null,
            "margin": null,
            "display": null,
            "left": null
          }
        },
        "4f0cddcf1b8c4fb2877f3bacb67be270": {
          "model_module": "@jupyter-widgets/controls",
          "model_name": "DescriptionStyleModel",
          "model_module_version": "1.5.0",
          "state": {
            "_view_name": "StyleView",
            "_model_name": "DescriptionStyleModel",
            "description_width": "",
            "_view_module": "@jupyter-widgets/base",
            "_model_module_version": "1.5.0",
            "_view_count": null,
            "_view_module_version": "1.2.0",
            "_model_module": "@jupyter-widgets/controls"
          }
        },
        "b8cc58b44da24952a16d73aaa0c8a720": {
          "model_module": "@jupyter-widgets/base",
          "model_name": "LayoutModel",
          "model_module_version": "1.2.0",
          "state": {
            "_view_name": "LayoutView",
            "grid_template_rows": null,
            "right": null,
            "justify_content": null,
            "_view_module": "@jupyter-widgets/base",
            "overflow": null,
            "_model_module_version": "1.2.0",
            "_view_count": null,
            "flex_flow": null,
            "width": "300px",
            "min_width": null,
            "border": null,
            "align_items": null,
            "bottom": null,
            "_model_module": "@jupyter-widgets/base",
            "top": null,
            "grid_column": null,
            "overflow_y": null,
            "overflow_x": null,
            "grid_auto_flow": null,
            "grid_area": null,
            "grid_template_columns": null,
            "flex": null,
            "_model_name": "LayoutModel",
            "justify_items": null,
            "grid_row": null,
            "max_height": null,
            "align_content": null,
            "visibility": null,
            "align_self": null,
            "height": "25px",
            "min_height": null,
            "padding": null,
            "grid_auto_rows": null,
            "grid_gap": null,
            "max_width": null,
            "order": null,
            "_view_module_version": "1.2.0",
            "grid_template_areas": null,
            "object_position": null,
            "object_fit": null,
            "grid_auto_columns": null,
            "margin": null,
            "display": null,
            "left": null
          }
        },
        "3534107d5a81430f95c0f5b3dc08a782": {
          "model_module": "@jupyter-widgets/controls",
          "model_name": "DescriptionStyleModel",
          "model_module_version": "1.5.0",
          "state": {
            "_view_name": "StyleView",
            "_model_name": "DescriptionStyleModel",
            "description_width": "",
            "_view_module": "@jupyter-widgets/base",
            "_model_module_version": "1.5.0",
            "_view_count": null,
            "_view_module_version": "1.2.0",
            "_model_module": "@jupyter-widgets/controls"
          }
        },
        "6cf60f1d47a84ae39297a902c113cfd7": {
          "model_module": "@jupyter-widgets/base",
          "model_name": "LayoutModel",
          "model_module_version": "1.2.0",
          "state": {
            "_view_name": "LayoutView",
            "grid_template_rows": null,
            "right": null,
            "justify_content": null,
            "_view_module": "@jupyter-widgets/base",
            "overflow": null,
            "_model_module_version": "1.2.0",
            "_view_count": null,
            "flex_flow": null,
            "width": "300px",
            "min_width": null,
            "border": null,
            "align_items": null,
            "bottom": null,
            "_model_module": "@jupyter-widgets/base",
            "top": null,
            "grid_column": null,
            "overflow_y": null,
            "overflow_x": null,
            "grid_auto_flow": null,
            "grid_area": null,
            "grid_template_columns": null,
            "flex": null,
            "_model_name": "LayoutModel",
            "justify_items": null,
            "grid_row": null,
            "max_height": null,
            "align_content": null,
            "visibility": null,
            "align_self": null,
            "height": "24px",
            "min_height": null,
            "padding": null,
            "grid_auto_rows": null,
            "grid_gap": null,
            "max_width": null,
            "order": null,
            "_view_module_version": "1.2.0",
            "grid_template_areas": null,
            "object_position": null,
            "object_fit": null,
            "grid_auto_columns": null,
            "margin": null,
            "display": null,
            "left": null
          }
        }
      }
    }
  },
  "cells": [
    {
      "cell_type": "markdown",
      "metadata": {
        "id": "view-in-github",
        "colab_type": "text"
      },
      "source": [
        "<a href=\"https://colab.research.google.com/github/Luesierrape/Curso-IA-Udea/blob/main/LAB_04_02_BUILDING_DATASETS.ipynb\" target=\"_parent\"><img src=\"https://colab.research.google.com/assets/colab-badge.svg\" alt=\"Open In Colab\"/></a>"
      ]
    },
    {
      "cell_type": "markdown",
      "metadata": {
        "id": "TYyE7dp7b8Fp"
      },
      "source": [
        "# LAB 04.02 - Buiding Datasets"
      ]
    },
    {
      "cell_type": "code",
      "metadata": {
        "id": "noJfflYGb8Fs",
        "colab": {
          "base_uri": "https://localhost:8080/",
          "height": 35
        },
        "outputId": "b897ee00-1cde-4061-cc49-37ad37a4b512"
      },
      "source": [
        "!wget --no-cache -O init.py -q https://raw.githubusercontent.com/rramosp/ai4eng.v1/main/content/init.py\n",
        "import init; init.init(force_download=False); init.get_weblink()\n",
        "init.endpoint"
      ],
      "execution_count": null,
      "outputs": [
        {
          "output_type": "display_data",
          "data": {
            "text/html": [
              "\n",
              "<meta name=\"google-signin-client_id\"\n",
              "      content=\"461673936472-kdjosv61up3ac1ajeuq6qqu72upilmls.apps.googleusercontent.com\"/>\n",
              "<script src=\"https://apis.google.com/js/client:platform.js?onload=google_button_start\"></script>\n",
              "    "
            ],
            "text/plain": [
              "<IPython.core.display.HTML object>"
            ]
          },
          "metadata": {}
        },
        {
          "output_type": "execute_result",
          "data": {
            "application/vnd.google.colaboratory.intrinsic+json": {
              "type": "string"
            },
            "text/plain": [
              "'https://m5knaekxo6.execute-api.us-west-2.amazonaws.com/dev-v0001/rlxmooc'"
            ]
          },
          "metadata": {},
          "execution_count": 149
        }
      ]
    },
    {
      "cell_type": "code",
      "metadata": {
        "id": "zpti3VUSb8Fu",
        "colab": {
          "base_uri": "https://localhost:8080/",
          "height": 136,
          "referenced_widgets": [
            "8861b653c9d341dab9dc632827e3df3d",
            "b0261bcc4856456dac62adbf7b307dad",
            "0305fbfa0337460496ee68625776053c",
            "66f658fe99ca4400be82ac8f28ec3110",
            "caf4f885888a4e8d9bdfdca9d8c38f83",
            "8add166f502c4e82a8dde5d7156f690b",
            "df0238cf290744aeb5ee6be33e55d632",
            "8bf7b2c2a4254fd2b7575ed2e6e9ac51",
            "8702e9e35f384f29ae3bc2862754629b",
            "7f4095602978480a89d7d218b949cfef",
            "b0b6cce277ae47d7857e0381880e9b22",
            "9a60a58401c34469858b903405c45104",
            "baad9574c1e64b19b79965888e876173",
            "be44eb245fe64bc1b68d2b148d5c7ab2",
            "dcdc5100e3404b54bd76444a5095e034",
            "4f0cddcf1b8c4fb2877f3bacb67be270",
            "b8cc58b44da24952a16d73aaa0c8a720",
            "3534107d5a81430f95c0f5b3dc08a782",
            "6cf60f1d47a84ae39297a902c113cfd7"
          ]
        },
        "outputId": "483fec9c-bdff-4e7e-dc1a-e1f7a78b0f8e"
      },
      "source": [
        "from local.lib.rlxmoocapi import submit, session\n",
        "session.LoginSequence(endpoint=init.endpoint, course_id=init.course_id, lab_id=\"L04.02\", varname=\"student\");"
      ],
      "execution_count": null,
      "outputs": [
        {
          "output_type": "stream",
          "name": "stdout",
          "text": [
            "logging in as luesierrape@unal.edu.co... please wait\n",
            "using course session ai4eng.v1::open\n",
            "success!! you are logged in\n"
          ]
        }
      ]
    },
    {
      "cell_type": "markdown",
      "metadata": {
        "id": "aTAHankzb8Fu"
      },
      "source": [
        "## Understand the ASHRAE Energy Prediction in Kaggle\n",
        "\n",
        "Follow this link: [https://www.kaggle.com/c/ashrae-energy-prediction](https://www.kaggle.com/c/ashrae-energy-prediction), register for the task and download the data.\n",
        "\n",
        "In particular, understand:\n",
        "\n",
        "- The machine learning task they define (what they want to predict)\n",
        "- How the data is provided\n",
        "- The structure and relation between the files `train.csv`, `weather_train.csv` and `building_metadata.csv`"
      ]
    },
    {
      "cell_type": "markdown",
      "metadata": {
        "id": "bBrcfbWDb8Fv"
      },
      "source": [
        "## Task 1: Build a training dataset\n",
        "\n",
        "Execute the cell below and you will be given a **building_id** and a **date**. You will have to:\n",
        "\n",
        "1. Build a table containing one row per hour and the following columns **only for that building_id and date**: \n",
        "       'meter_reading', 'site_id', 'air_temperature', 'cloud_coverage',\n",
        "       'dew_temperature', 'precip_depth_1_hr', 'sea_level_pressure',\n",
        "       'wind_direction', 'wind_speed', 'square_feet', 'year_built'\n",
        "   Note that you will have to gather this information from the different csv sources.\n",
        "   \n",
        "1. use only measures with `meter`=0\n",
        "1. Fill any missing values with zero.\n",
        "1. Extract the column of the target variable and sum all values.\n",
        "1. Sum all the values of the rest of the columns.\n",
        "1. Fill in those values in the variables below.\n",
        "1. Submit your answer.\n",
        "\n",
        "Observe that, with this dataset, we could train a model to make predictions of the target variable, taking the rest of the variables as input.\n",
        "\n",
        "For instance, for building number 900, on 2016-02-01:\n",
        "- there are 24 records\n",
        "- the sum of all values of the target variable is 4941 (cropping decimals)\n",
        "- the sum of all values of the rest of the variables is 2705422 (cropping decimals)"
      ]
    },
    {
      "cell_type": "code",
      "metadata": {
        "id": "S4tjQ0b3b8Fw",
        "colab": {
          "base_uri": "https://localhost:8080/"
        },
        "outputId": "f3fb37da-5414-489c-b484-2e53240b774a"
      },
      "source": [
        "from IPython.display import Image\n",
        "from local.lib import labutils\n",
        "import numpy as np\n",
        "bid, date = labutils.biddate_for_student(student.user_id)\n",
        "print (\"your building_id\", bid)\n",
        "print (\"your date       \", date)\n",
        "\n"
      ],
      "execution_count": null,
      "outputs": [
        {
          "output_type": "stream",
          "name": "stdout",
          "text": [
            "your building_id 906\n",
            "your date        2016-02-12\n"
          ]
        }
      ]
    },
    {
      "cell_type": "markdown",
      "metadata": {
        "id": "_qdF7rlwb8Fx"
      },
      "source": [
        "#### provide your answer here, drop the decimals"
      ]
    },
    {
      "cell_type": "code",
      "metadata": {
        "colab": {
          "base_uri": "https://localhost:8080/"
        },
        "id": "K7UX-81URCCm",
        "outputId": "ba8049a7-e63e-4164-bad5-e3d412328a69"
      },
      "source": [
        "import pandas as pd\n",
        "\n",
        "# Me mejora la presentacion de las tablas, deja ver todos los elementos  \n",
        "%load_ext google.colab.data_table\n",
        "\n",
        "#################### Lectura de dataframes #########################################\n",
        "building_metadata=pd.read_csv(\"building_metadata.csv\") # 'square_feet', 'year_built'\n",
        "sample_submission=pd.read_csv(\"sample_submission.csv\") # 'meter_reading'\n",
        "test=pd.read_csv(\"test.csv\")\n",
        "train=pd.read_csv(\"train.csv\")\n",
        "weather_test=pd.read_csv(\"weather_test.csv\") \n",
        "\n",
        "# Casi todas las columnas están en este dataset: \n",
        "weather_train=pd.read_csv(\"weather_train.csv\") \n",
        "# 'site_id', 'air_temperature', 'cloud_coverage','dew_temperature', 'precip_depth_1_hr', 'sea_level_pressure','wind_direction', 'wind_speed'"
      ],
      "execution_count": null,
      "outputs": [
        {
          "output_type": "stream",
          "name": "stdout",
          "text": [
            "The google.colab.data_table extension is already loaded. To reload it, use:\n",
            "  %reload_ext google.colab.data_table\n"
          ]
        }
      ]
    },
    {
      "cell_type": "code",
      "metadata": {
        "id": "G1mrejGTP_Fm"
      },
      "source": [
        "###################### Filtrado ####################################################\n",
        "# Transformamos la columna de fechas a el indice del daraframe\n",
        "weather_train.index = pd.to_datetime(weather_train.timestamp)\n",
        "\n",
        "# Se filtran aquellos que cumplen con la fecha\n",
        "weather_train=weather_train.loc[date]\n",
        "\n",
        "# No tenemos el building id en el weather, así que toca buscarlo con el side_id que le corresponda a dicho building_id\n",
        "# Primero se encuentra el side_id\n",
        "siteid=np.array(building_metadata[building_metadata.building_id==bid].site_id)\n",
        "\n",
        "# se filtra la tabla para obtener solo los que cumplen con ese side_id\n",
        "weather_train=weather_train[weather_train.site_id==siteid[0]]"
      ],
      "execution_count": null,
      "outputs": []
    },
    {
      "cell_type": "code",
      "metadata": {
        "id": "fUkadCrwRNOl"
      },
      "source": [
        "# Haciendo el mismo filtro para el dataframe de train\n",
        "\n",
        "train=pd.read_csv(\"train.csv\")\n",
        "train.index = pd.to_datetime(train.timestamp)\n",
        "train=train.loc[date]  # Filtra por fecha\n",
        "train=train[(train.meter==0) & (train.building_id==bid)] # Condicion del meter y del building_id\n",
        "\n",
        "# Esto me borra la fila repetida \n",
        "train=train.set_index('timestamp')"
      ],
      "execution_count": null,
      "outputs": []
    },
    {
      "cell_type": "code",
      "metadata": {
        "colab": {
          "base_uri": "https://localhost:8080/",
          "height": 623
        },
        "id": "pBVZjo0jRG9t",
        "outputId": "d4e76649-a6b2-4f88-e964-ae91d7d6bd1a"
      },
      "source": [
        "################## Construccion del dataframe ######################################\n",
        "\n",
        "tabla = pd.DataFrame()\n",
        "  \n",
        "tabla['meter_reading']=train['meter_reading']\n",
        "\n",
        "tabla['site_id']=weather_train['site_id']\n",
        "tabla['air_temperature']=weather_train['air_temperature']\n",
        "tabla['cloud_coverage']=weather_train['cloud_coverage']\n",
        "tabla['dew_temperature']=weather_train['dew_temperature']\n",
        "tabla['precip_depth_1_hr']=weather_train['precip_depth_1_hr']\n",
        "tabla['sea_level_pressure']=weather_train['sea_level_pressure']\n",
        "tabla['wind_direction']=weather_train['wind_direction']\n",
        "tabla['wind_speed']=weather_train['wind_speed']\n",
        "\n",
        "# Se agregan las otras columnas faltantes\n",
        "bm=building_metadata[building_metadata.building_id==bid]\n",
        "\n",
        "tabla['square_feet']=np.array(bm['square_feet'])[0] # esto en realidad es una tabla de una fila, necesito un unico valor \n",
        "tabla['year_built']=np.array(bm['year_built'])[0]\n",
        "\n",
        "tabla"
      ],
      "execution_count": null,
      "outputs": [
        {
          "output_type": "execute_result",
          "data": {
            "application/vnd.google.colaboratory.module+javascript": "\n      import \"https://ssl.gstatic.com/colaboratory/data_table/a6224c040fa35dcf/data_table.js\";\n\n      window.createDataTable({\n        data: [[\"2016-02-12 00:00:00\",\n{\n            'v': 65.0,\n            'f': \"65.0\",\n        },\n{\n            'v': 9,\n            'f': \"9\",\n        },\n{\n            'v': 24.4,\n            'f': \"24.4\",\n        },\n{\n            'v': 0.0,\n            'f': \"0.0\",\n        },\n{\n            'v': 1.7,\n            'f': \"1.7\",\n        },\n{\n            'v': 0.0,\n            'f': \"0.0\",\n        },\n{\n            'v': 1018.4,\n            'f': \"1018.4\",\n        },\n{\n            'v': 190.0,\n            'f': \"190.0\",\n        },\n{\n            'v': 3.1,\n            'f': \"3.1\",\n        },\n{\n            'v': 39649,\n            'f': \"39649\",\n        },\n{\n            'v': NaN,\n            'f': \"NaN\",\n        }],\n [\"2016-02-12 01:00:00\",\n{\n            'v': 61.0,\n            'f': \"61.0\",\n        },\n{\n            'v': 9,\n            'f': \"9\",\n        },\n{\n            'v': 21.7,\n            'f': \"21.7\",\n        },\n{\n            'v': 0.0,\n            'f': \"0.0\",\n        },\n{\n            'v': 2.2,\n            'f': \"2.2\",\n        },\n{\n            'v': 0.0,\n            'f': \"0.0\",\n        },\n{\n            'v': 1019.0,\n            'f': \"1019.0\",\n        },\n{\n            'v': 170.0,\n            'f': \"170.0\",\n        },\n{\n            'v': 2.1,\n            'f': \"2.1\",\n        },\n{\n            'v': 39649,\n            'f': \"39649\",\n        },\n{\n            'v': NaN,\n            'f': \"NaN\",\n        }],\n [\"2016-02-12 02:00:00\",\n{\n            'v': 61.0,\n            'f': \"61.0\",\n        },\n{\n            'v': 9,\n            'f': \"9\",\n        },\n{\n            'v': 19.4,\n            'f': \"19.4\",\n        },\n{\n            'v': 0.0,\n            'f': \"0.0\",\n        },\n{\n            'v': 2.8,\n            'f': \"2.8\",\n        },\n{\n            'v': 0.0,\n            'f': \"0.0\",\n        },\n{\n            'v': 1019.5,\n            'f': \"1019.5\",\n        },\n{\n            'v': 180.0,\n            'f': \"180.0\",\n        },\n{\n            'v': 1.5,\n            'f': \"1.5\",\n        },\n{\n            'v': 39649,\n            'f': \"39649\",\n        },\n{\n            'v': NaN,\n            'f': \"NaN\",\n        }],\n [\"2016-02-12 03:00:00\",\n{\n            'v': 56.0,\n            'f': \"56.0\",\n        },\n{\n            'v': 9,\n            'f': \"9\",\n        },\n{\n            'v': 19.4,\n            'f': \"19.4\",\n        },\n{\n            'v': 0.0,\n            'f': \"0.0\",\n        },\n{\n            'v': 2.2,\n            'f': \"2.2\",\n        },\n{\n            'v': 0.0,\n            'f': \"0.0\",\n        },\n{\n            'v': 1019.7,\n            'f': \"1019.7\",\n        },\n{\n            'v': 0.0,\n            'f': \"0.0\",\n        },\n{\n            'v': 0.0,\n            'f': \"0.0\",\n        },\n{\n            'v': 39649,\n            'f': \"39649\",\n        },\n{\n            'v': NaN,\n            'f': \"NaN\",\n        }],\n [\"2016-02-12 04:00:00\",\n{\n            'v': 56.0,\n            'f': \"56.0\",\n        },\n{\n            'v': 9,\n            'f': \"9\",\n        },\n{\n            'v': 18.3,\n            'f': \"18.3\",\n        },\n{\n            'v': 0.0,\n            'f': \"0.0\",\n        },\n{\n            'v': 4.4,\n            'f': \"4.4\",\n        },\n{\n            'v': 0.0,\n            'f': \"0.0\",\n        },\n{\n            'v': 1020.1,\n            'f': \"1020.1\",\n        },\n{\n            'v': NaN,\n            'f': \"NaN\",\n        },\n{\n            'v': 3.1,\n            'f': \"3.1\",\n        },\n{\n            'v': 39649,\n            'f': \"39649\",\n        },\n{\n            'v': NaN,\n            'f': \"NaN\",\n        }],\n [\"2016-02-12 05:00:00\",\n{\n            'v': 53.0,\n            'f': \"53.0\",\n        },\n{\n            'v': 9,\n            'f': \"9\",\n        },\n{\n            'v': 16.7,\n            'f': \"16.7\",\n        },\n{\n            'v': 0.0,\n            'f': \"0.0\",\n        },\n{\n            'v': 7.2,\n            'f': \"7.2\",\n        },\n{\n            'v': 0.0,\n            'f': \"0.0\",\n        },\n{\n            'v': 1020.3,\n            'f': \"1020.3\",\n        },\n{\n            'v': 190.0,\n            'f': \"190.0\",\n        },\n{\n            'v': 2.1,\n            'f': \"2.1\",\n        },\n{\n            'v': 39649,\n            'f': \"39649\",\n        },\n{\n            'v': NaN,\n            'f': \"NaN\",\n        }],\n [\"2016-02-12 06:00:00\",\n{\n            'v': 52.0,\n            'f': \"52.0\",\n        },\n{\n            'v': 9,\n            'f': \"9\",\n        },\n{\n            'v': 15.0,\n            'f': \"15.0\",\n        },\n{\n            'v': 0.0,\n            'f': \"0.0\",\n        },\n{\n            'v': 8.3,\n            'f': \"8.3\",\n        },\n{\n            'v': 0.0,\n            'f': \"0.0\",\n        },\n{\n            'v': 1020.1,\n            'f': \"1020.1\",\n        },\n{\n            'v': NaN,\n            'f': \"NaN\",\n        },\n{\n            'v': 1.5,\n            'f': \"1.5\",\n        },\n{\n            'v': 39649,\n            'f': \"39649\",\n        },\n{\n            'v': NaN,\n            'f': \"NaN\",\n        }],\n [\"2016-02-12 07:00:00\",\n{\n            'v': 52.0,\n            'f': \"52.0\",\n        },\n{\n            'v': 9,\n            'f': \"9\",\n        },\n{\n            'v': 14.4,\n            'f': \"14.4\",\n        },\n{\n            'v': 0.0,\n            'f': \"0.0\",\n        },\n{\n            'v': 8.3,\n            'f': \"8.3\",\n        },\n{\n            'v': 0.0,\n            'f': \"0.0\",\n        },\n{\n            'v': 1020.1,\n            'f': \"1020.1\",\n        },\n{\n            'v': 190.0,\n            'f': \"190.0\",\n        },\n{\n            'v': 2.1,\n            'f': \"2.1\",\n        },\n{\n            'v': 39649,\n            'f': \"39649\",\n        },\n{\n            'v': NaN,\n            'f': \"NaN\",\n        }],\n [\"2016-02-12 08:00:00\",\n{\n            'v': 55.0,\n            'f': \"55.0\",\n        },\n{\n            'v': 9,\n            'f': \"9\",\n        },\n{\n            'v': 13.9,\n            'f': \"13.9\",\n        },\n{\n            'v': 0.0,\n            'f': \"0.0\",\n        },\n{\n            'v': 8.9,\n            'f': \"8.9\",\n        },\n{\n            'v': 0.0,\n            'f': \"0.0\",\n        },\n{\n            'v': 1020.3,\n            'f': \"1020.3\",\n        },\n{\n            'v': 0.0,\n            'f': \"0.0\",\n        },\n{\n            'v': 0.0,\n            'f': \"0.0\",\n        },\n{\n            'v': 39649,\n            'f': \"39649\",\n        },\n{\n            'v': NaN,\n            'f': \"NaN\",\n        }],\n [\"2016-02-12 09:00:00\",\n{\n            'v': 52.0,\n            'f': \"52.0\",\n        },\n{\n            'v': 9,\n            'f': \"9\",\n        },\n{\n            'v': 12.2,\n            'f': \"12.2\",\n        },\n{\n            'v': 0.0,\n            'f': \"0.0\",\n        },\n{\n            'v': 8.3,\n            'f': \"8.3\",\n        },\n{\n            'v': 0.0,\n            'f': \"0.0\",\n        },\n{\n            'v': 1020.3,\n            'f': \"1020.3\",\n        },\n{\n            'v': 0.0,\n            'f': \"0.0\",\n        },\n{\n            'v': 0.0,\n            'f': \"0.0\",\n        },\n{\n            'v': 39649,\n            'f': \"39649\",\n        },\n{\n            'v': NaN,\n            'f': \"NaN\",\n        }],\n [\"2016-02-12 10:00:00\",\n{\n            'v': 53.0,\n            'f': \"53.0\",\n        },\n{\n            'v': 9,\n            'f': \"9\",\n        },\n{\n            'v': 11.7,\n            'f': \"11.7\",\n        },\n{\n            'v': 0.0,\n            'f': \"0.0\",\n        },\n{\n            'v': 8.3,\n            'f': \"8.3\",\n        },\n{\n            'v': 0.0,\n            'f': \"0.0\",\n        },\n{\n            'v': 1020.3,\n            'f': \"1020.3\",\n        },\n{\n            'v': 0.0,\n            'f': \"0.0\",\n        },\n{\n            'v': 0.0,\n            'f': \"0.0\",\n        },\n{\n            'v': 39649,\n            'f': \"39649\",\n        },\n{\n            'v': NaN,\n            'f': \"NaN\",\n        }],\n [\"2016-02-12 11:00:00\",\n{\n            'v': 55.0,\n            'f': \"55.0\",\n        },\n{\n            'v': 9,\n            'f': \"9\",\n        },\n{\n            'v': 10.6,\n            'f': \"10.6\",\n        },\n{\n            'v': 0.0,\n            'f': \"0.0\",\n        },\n{\n            'v': 8.3,\n            'f': \"8.3\",\n        },\n{\n            'v': 0.0,\n            'f': \"0.0\",\n        },\n{\n            'v': 1020.9,\n            'f': \"1020.9\",\n        },\n{\n            'v': 0.0,\n            'f': \"0.0\",\n        },\n{\n            'v': 0.0,\n            'f': \"0.0\",\n        },\n{\n            'v': 39649,\n            'f': \"39649\",\n        },\n{\n            'v': NaN,\n            'f': \"NaN\",\n        }],\n [\"2016-02-12 12:00:00\",\n{\n            'v': 59.0,\n            'f': \"59.0\",\n        },\n{\n            'v': 9,\n            'f': \"9\",\n        },\n{\n            'v': 10.0,\n            'f': \"10.0\",\n        },\n{\n            'v': 0.0,\n            'f': \"0.0\",\n        },\n{\n            'v': 7.8,\n            'f': \"7.8\",\n        },\n{\n            'v': 0.0,\n            'f': \"0.0\",\n        },\n{\n            'v': 1021.6,\n            'f': \"1021.6\",\n        },\n{\n            'v': 0.0,\n            'f': \"0.0\",\n        },\n{\n            'v': 0.0,\n            'f': \"0.0\",\n        },\n{\n            'v': 39649,\n            'f': \"39649\",\n        },\n{\n            'v': NaN,\n            'f': \"NaN\",\n        }],\n [\"2016-02-12 13:00:00\",\n{\n            'v': 65.0,\n            'f': \"65.0\",\n        },\n{\n            'v': 9,\n            'f': \"9\",\n        },\n{\n            'v': 9.4,\n            'f': \"9.4\",\n        },\n{\n            'v': 0.0,\n            'f': \"0.0\",\n        },\n{\n            'v': 7.8,\n            'f': \"7.8\",\n        },\n{\n            'v': 0.0,\n            'f': \"0.0\",\n        },\n{\n            'v': 1022.5,\n            'f': \"1022.5\",\n        },\n{\n            'v': 0.0,\n            'f': \"0.0\",\n        },\n{\n            'v': 0.0,\n            'f': \"0.0\",\n        },\n{\n            'v': 39649,\n            'f': \"39649\",\n        },\n{\n            'v': NaN,\n            'f': \"NaN\",\n        }],\n [\"2016-02-12 14:00:00\",\n{\n            'v': 71.0,\n            'f': \"71.0\",\n        },\n{\n            'v': 9,\n            'f': \"9\",\n        },\n{\n            'v': 9.4,\n            'f': \"9.4\",\n        },\n{\n            'v': 0.0,\n            'f': \"0.0\",\n        },\n{\n            'v': 7.8,\n            'f': \"7.8\",\n        },\n{\n            'v': 0.0,\n            'f': \"0.0\",\n        },\n{\n            'v': 1023.1,\n            'f': \"1023.1\",\n        },\n{\n            'v': 0.0,\n            'f': \"0.0\",\n        },\n{\n            'v': 0.0,\n            'f': \"0.0\",\n        },\n{\n            'v': 39649,\n            'f': \"39649\",\n        },\n{\n            'v': NaN,\n            'f': \"NaN\",\n        }],\n [\"2016-02-12 15:00:00\",\n{\n            'v': 67.0,\n            'f': \"67.0\",\n        },\n{\n            'v': 9,\n            'f': \"9\",\n        },\n{\n            'v': 12.2,\n            'f': \"12.2\",\n        },\n{\n            'v': 0.0,\n            'f': \"0.0\",\n        },\n{\n            'v': 8.3,\n            'f': \"8.3\",\n        },\n{\n            'v': 0.0,\n            'f': \"0.0\",\n        },\n{\n            'v': 1023.6,\n            'f': \"1023.6\",\n        },\n{\n            'v': 0.0,\n            'f': \"0.0\",\n        },\n{\n            'v': 0.0,\n            'f': \"0.0\",\n        },\n{\n            'v': 39649,\n            'f': \"39649\",\n        },\n{\n            'v': NaN,\n            'f': \"NaN\",\n        }],\n [\"2016-02-12 16:00:00\",\n{\n            'v': 68.0,\n            'f': \"68.0\",\n        },\n{\n            'v': 9,\n            'f': \"9\",\n        },\n{\n            'v': 17.2,\n            'f': \"17.2\",\n        },\n{\n            'v': 0.0,\n            'f': \"0.0\",\n        },\n{\n            'v': 7.2,\n            'f': \"7.2\",\n        },\n{\n            'v': 0.0,\n            'f': \"0.0\",\n        },\n{\n            'v': 1023.9,\n            'f': \"1023.9\",\n        },\n{\n            'v': 280.0,\n            'f': \"280.0\",\n        },\n{\n            'v': 1.5,\n            'f': \"1.5\",\n        },\n{\n            'v': 39649,\n            'f': \"39649\",\n        },\n{\n            'v': NaN,\n            'f': \"NaN\",\n        }],\n [\"2016-02-12 17:00:00\",\n{\n            'v': 75.0,\n            'f': \"75.0\",\n        },\n{\n            'v': 9,\n            'f': \"9\",\n        },\n{\n            'v': 21.1,\n            'f': \"21.1\",\n        },\n{\n            'v': 0.0,\n            'f': \"0.0\",\n        },\n{\n            'v': 5.0,\n            'f': \"5.0\",\n        },\n{\n            'v': 0.0,\n            'f': \"0.0\",\n        },\n{\n            'v': 1024.1,\n            'f': \"1024.1\",\n        },\n{\n            'v': 0.0,\n            'f': \"0.0\",\n        },\n{\n            'v': 0.0,\n            'f': \"0.0\",\n        },\n{\n            'v': 39649,\n            'f': \"39649\",\n        },\n{\n            'v': NaN,\n            'f': \"NaN\",\n        }],\n [\"2016-02-12 18:00:00\",\n{\n            'v': 69.0,\n            'f': \"69.0\",\n        },\n{\n            'v': 9,\n            'f': \"9\",\n        },\n{\n            'v': 23.3,\n            'f': \"23.3\",\n        },\n{\n            'v': 0.0,\n            'f': \"0.0\",\n        },\n{\n            'v': 5.0,\n            'f': \"5.0\",\n        },\n{\n            'v': 0.0,\n            'f': \"0.0\",\n        },\n{\n            'v': 1024.1,\n            'f': \"1024.1\",\n        },\n{\n            'v': 20.0,\n            'f': \"20.0\",\n        },\n{\n            'v': 4.1,\n            'f': \"4.1\",\n        },\n{\n            'v': 39649,\n            'f': \"39649\",\n        },\n{\n            'v': NaN,\n            'f': \"NaN\",\n        }],\n [\"2016-02-12 19:00:00\",\n{\n            'v': 72.0,\n            'f': \"72.0\",\n        },\n{\n            'v': 9,\n            'f': \"9\",\n        },\n{\n            'v': 23.9,\n            'f': \"23.9\",\n        },\n{\n            'v': 0.0,\n            'f': \"0.0\",\n        },\n{\n            'v': 5.6,\n            'f': \"5.6\",\n        },\n{\n            'v': 0.0,\n            'f': \"0.0\",\n        },\n{\n            'v': 1023.4,\n            'f': \"1023.4\",\n        },\n{\n            'v': 360.0,\n            'f': \"360.0\",\n        },\n{\n            'v': 2.6,\n            'f': \"2.6\",\n        },\n{\n            'v': 39649,\n            'f': \"39649\",\n        },\n{\n            'v': NaN,\n            'f': \"NaN\",\n        }],\n [\"2016-02-12 20:00:00\",\n{\n            'v': 64.0,\n            'f': \"64.0\",\n        },\n{\n            'v': 9,\n            'f': \"9\",\n        },\n{\n            'v': 25.0,\n            'f': \"25.0\",\n        },\n{\n            'v': 0.0,\n            'f': \"0.0\",\n        },\n{\n            'v': 5.6,\n            'f': \"5.6\",\n        },\n{\n            'v': 0.0,\n            'f': \"0.0\",\n        },\n{\n            'v': 1022.3,\n            'f': \"1022.3\",\n        },\n{\n            'v': 350.0,\n            'f': \"350.0\",\n        },\n{\n            'v': 2.6,\n            'f': \"2.6\",\n        },\n{\n            'v': 39649,\n            'f': \"39649\",\n        },\n{\n            'v': NaN,\n            'f': \"NaN\",\n        }],\n [\"2016-02-12 21:00:00\",\n{\n            'v': 63.0,\n            'f': \"63.0\",\n        },\n{\n            'v': 9,\n            'f': \"9\",\n        },\n{\n            'v': 26.1,\n            'f': \"26.1\",\n        },\n{\n            'v': 0.0,\n            'f': \"0.0\",\n        },\n{\n            'v': 5.6,\n            'f': \"5.6\",\n        },\n{\n            'v': 0.0,\n            'f': \"0.0\",\n        },\n{\n            'v': 1021.9,\n            'f': \"1021.9\",\n        },\n{\n            'v': NaN,\n            'f': \"NaN\",\n        },\n{\n            'v': 2.1,\n            'f': \"2.1\",\n        },\n{\n            'v': 39649,\n            'f': \"39649\",\n        },\n{\n            'v': NaN,\n            'f': \"NaN\",\n        }],\n [\"2016-02-12 22:00:00\",\n{\n            'v': 65.0,\n            'f': \"65.0\",\n        },\n{\n            'v': 9,\n            'f': \"9\",\n        },\n{\n            'v': 26.1,\n            'f': \"26.1\",\n        },\n{\n            'v': 0.0,\n            'f': \"0.0\",\n        },\n{\n            'v': 5.0,\n            'f': \"5.0\",\n        },\n{\n            'v': 0.0,\n            'f': \"0.0\",\n        },\n{\n            'v': 1021.8,\n            'f': \"1021.8\",\n        },\n{\n            'v': 30.0,\n            'f': \"30.0\",\n        },\n{\n            'v': 3.1,\n            'f': \"3.1\",\n        },\n{\n            'v': 39649,\n            'f': \"39649\",\n        },\n{\n            'v': NaN,\n            'f': \"NaN\",\n        }],\n [\"2016-02-12 23:00:00\",\n{\n            'v': 63.0,\n            'f': \"63.0\",\n        },\n{\n            'v': 9,\n            'f': \"9\",\n        },\n{\n            'v': 25.0,\n            'f': \"25.0\",\n        },\n{\n            'v': 0.0,\n            'f': \"0.0\",\n        },\n{\n            'v': 5.0,\n            'f': \"5.0\",\n        },\n{\n            'v': 0.0,\n            'f': \"0.0\",\n        },\n{\n            'v': 1022.2,\n            'f': \"1022.2\",\n        },\n{\n            'v': NaN,\n            'f': \"NaN\",\n        },\n{\n            'v': 1.5,\n            'f': \"1.5\",\n        },\n{\n            'v': 39649,\n            'f': \"39649\",\n        },\n{\n            'v': NaN,\n            'f': \"NaN\",\n        }]],\n        columns: [[\"string\", \"timestamp\"], [\"number\", \"meter_reading\"], [\"number\", \"site_id\"], [\"number\", \"air_temperature\"], [\"number\", \"cloud_coverage\"], [\"number\", \"dew_temperature\"], [\"number\", \"precip_depth_1_hr\"], [\"number\", \"sea_level_pressure\"], [\"number\", \"wind_direction\"], [\"number\", \"wind_speed\"], [\"number\", \"square_feet\"], [\"number\", \"year_built\"]],\n        columnOptions: [{\"width\": \"1px\", \"className\": \"index_column\"}],\n        rowsPerPage: 25,\n        helpUrl: \"https://colab.research.google.com/notebooks/data_table.ipynb\",\n        suppressOutputScrolling: true,\n        minimumWidth: undefined,\n      });\n    ",
            "text/html": [
              "<div>\n",
              "<style scoped>\n",
              "    .dataframe tbody tr th:only-of-type {\n",
              "        vertical-align: middle;\n",
              "    }\n",
              "\n",
              "    .dataframe tbody tr th {\n",
              "        vertical-align: top;\n",
              "    }\n",
              "\n",
              "    .dataframe thead th {\n",
              "        text-align: right;\n",
              "    }\n",
              "</style>\n",
              "<table border=\"1\" class=\"dataframe\">\n",
              "  <thead>\n",
              "    <tr style=\"text-align: right;\">\n",
              "      <th></th>\n",
              "      <th>meter_reading</th>\n",
              "      <th>site_id</th>\n",
              "      <th>air_temperature</th>\n",
              "      <th>cloud_coverage</th>\n",
              "      <th>dew_temperature</th>\n",
              "      <th>precip_depth_1_hr</th>\n",
              "      <th>sea_level_pressure</th>\n",
              "      <th>wind_direction</th>\n",
              "      <th>wind_speed</th>\n",
              "      <th>square_feet</th>\n",
              "      <th>year_built</th>\n",
              "    </tr>\n",
              "    <tr>\n",
              "      <th>timestamp</th>\n",
              "      <th></th>\n",
              "      <th></th>\n",
              "      <th></th>\n",
              "      <th></th>\n",
              "      <th></th>\n",
              "      <th></th>\n",
              "      <th></th>\n",
              "      <th></th>\n",
              "      <th></th>\n",
              "      <th></th>\n",
              "      <th></th>\n",
              "    </tr>\n",
              "  </thead>\n",
              "  <tbody>\n",
              "    <tr>\n",
              "      <th>2016-02-12 00:00:00</th>\n",
              "      <td>65.0</td>\n",
              "      <td>9</td>\n",
              "      <td>24.4</td>\n",
              "      <td>0.0</td>\n",
              "      <td>1.7</td>\n",
              "      <td>0.0</td>\n",
              "      <td>1018.4</td>\n",
              "      <td>190.0</td>\n",
              "      <td>3.1</td>\n",
              "      <td>39649</td>\n",
              "      <td>NaN</td>\n",
              "    </tr>\n",
              "    <tr>\n",
              "      <th>2016-02-12 01:00:00</th>\n",
              "      <td>61.0</td>\n",
              "      <td>9</td>\n",
              "      <td>21.7</td>\n",
              "      <td>0.0</td>\n",
              "      <td>2.2</td>\n",
              "      <td>0.0</td>\n",
              "      <td>1019.0</td>\n",
              "      <td>170.0</td>\n",
              "      <td>2.1</td>\n",
              "      <td>39649</td>\n",
              "      <td>NaN</td>\n",
              "    </tr>\n",
              "    <tr>\n",
              "      <th>2016-02-12 02:00:00</th>\n",
              "      <td>61.0</td>\n",
              "      <td>9</td>\n",
              "      <td>19.4</td>\n",
              "      <td>0.0</td>\n",
              "      <td>2.8</td>\n",
              "      <td>0.0</td>\n",
              "      <td>1019.5</td>\n",
              "      <td>180.0</td>\n",
              "      <td>1.5</td>\n",
              "      <td>39649</td>\n",
              "      <td>NaN</td>\n",
              "    </tr>\n",
              "    <tr>\n",
              "      <th>2016-02-12 03:00:00</th>\n",
              "      <td>56.0</td>\n",
              "      <td>9</td>\n",
              "      <td>19.4</td>\n",
              "      <td>0.0</td>\n",
              "      <td>2.2</td>\n",
              "      <td>0.0</td>\n",
              "      <td>1019.7</td>\n",
              "      <td>0.0</td>\n",
              "      <td>0.0</td>\n",
              "      <td>39649</td>\n",
              "      <td>NaN</td>\n",
              "    </tr>\n",
              "    <tr>\n",
              "      <th>2016-02-12 04:00:00</th>\n",
              "      <td>56.0</td>\n",
              "      <td>9</td>\n",
              "      <td>18.3</td>\n",
              "      <td>0.0</td>\n",
              "      <td>4.4</td>\n",
              "      <td>0.0</td>\n",
              "      <td>1020.1</td>\n",
              "      <td>NaN</td>\n",
              "      <td>3.1</td>\n",
              "      <td>39649</td>\n",
              "      <td>NaN</td>\n",
              "    </tr>\n",
              "    <tr>\n",
              "      <th>2016-02-12 05:00:00</th>\n",
              "      <td>53.0</td>\n",
              "      <td>9</td>\n",
              "      <td>16.7</td>\n",
              "      <td>0.0</td>\n",
              "      <td>7.2</td>\n",
              "      <td>0.0</td>\n",
              "      <td>1020.3</td>\n",
              "      <td>190.0</td>\n",
              "      <td>2.1</td>\n",
              "      <td>39649</td>\n",
              "      <td>NaN</td>\n",
              "    </tr>\n",
              "    <tr>\n",
              "      <th>2016-02-12 06:00:00</th>\n",
              "      <td>52.0</td>\n",
              "      <td>9</td>\n",
              "      <td>15.0</td>\n",
              "      <td>0.0</td>\n",
              "      <td>8.3</td>\n",
              "      <td>0.0</td>\n",
              "      <td>1020.1</td>\n",
              "      <td>NaN</td>\n",
              "      <td>1.5</td>\n",
              "      <td>39649</td>\n",
              "      <td>NaN</td>\n",
              "    </tr>\n",
              "    <tr>\n",
              "      <th>2016-02-12 07:00:00</th>\n",
              "      <td>52.0</td>\n",
              "      <td>9</td>\n",
              "      <td>14.4</td>\n",
              "      <td>0.0</td>\n",
              "      <td>8.3</td>\n",
              "      <td>0.0</td>\n",
              "      <td>1020.1</td>\n",
              "      <td>190.0</td>\n",
              "      <td>2.1</td>\n",
              "      <td>39649</td>\n",
              "      <td>NaN</td>\n",
              "    </tr>\n",
              "    <tr>\n",
              "      <th>2016-02-12 08:00:00</th>\n",
              "      <td>55.0</td>\n",
              "      <td>9</td>\n",
              "      <td>13.9</td>\n",
              "      <td>0.0</td>\n",
              "      <td>8.9</td>\n",
              "      <td>0.0</td>\n",
              "      <td>1020.3</td>\n",
              "      <td>0.0</td>\n",
              "      <td>0.0</td>\n",
              "      <td>39649</td>\n",
              "      <td>NaN</td>\n",
              "    </tr>\n",
              "    <tr>\n",
              "      <th>2016-02-12 09:00:00</th>\n",
              "      <td>52.0</td>\n",
              "      <td>9</td>\n",
              "      <td>12.2</td>\n",
              "      <td>0.0</td>\n",
              "      <td>8.3</td>\n",
              "      <td>0.0</td>\n",
              "      <td>1020.3</td>\n",
              "      <td>0.0</td>\n",
              "      <td>0.0</td>\n",
              "      <td>39649</td>\n",
              "      <td>NaN</td>\n",
              "    </tr>\n",
              "    <tr>\n",
              "      <th>2016-02-12 10:00:00</th>\n",
              "      <td>53.0</td>\n",
              "      <td>9</td>\n",
              "      <td>11.7</td>\n",
              "      <td>0.0</td>\n",
              "      <td>8.3</td>\n",
              "      <td>0.0</td>\n",
              "      <td>1020.3</td>\n",
              "      <td>0.0</td>\n",
              "      <td>0.0</td>\n",
              "      <td>39649</td>\n",
              "      <td>NaN</td>\n",
              "    </tr>\n",
              "    <tr>\n",
              "      <th>2016-02-12 11:00:00</th>\n",
              "      <td>55.0</td>\n",
              "      <td>9</td>\n",
              "      <td>10.6</td>\n",
              "      <td>0.0</td>\n",
              "      <td>8.3</td>\n",
              "      <td>0.0</td>\n",
              "      <td>1020.9</td>\n",
              "      <td>0.0</td>\n",
              "      <td>0.0</td>\n",
              "      <td>39649</td>\n",
              "      <td>NaN</td>\n",
              "    </tr>\n",
              "    <tr>\n",
              "      <th>2016-02-12 12:00:00</th>\n",
              "      <td>59.0</td>\n",
              "      <td>9</td>\n",
              "      <td>10.0</td>\n",
              "      <td>0.0</td>\n",
              "      <td>7.8</td>\n",
              "      <td>0.0</td>\n",
              "      <td>1021.6</td>\n",
              "      <td>0.0</td>\n",
              "      <td>0.0</td>\n",
              "      <td>39649</td>\n",
              "      <td>NaN</td>\n",
              "    </tr>\n",
              "    <tr>\n",
              "      <th>2016-02-12 13:00:00</th>\n",
              "      <td>65.0</td>\n",
              "      <td>9</td>\n",
              "      <td>9.4</td>\n",
              "      <td>0.0</td>\n",
              "      <td>7.8</td>\n",
              "      <td>0.0</td>\n",
              "      <td>1022.5</td>\n",
              "      <td>0.0</td>\n",
              "      <td>0.0</td>\n",
              "      <td>39649</td>\n",
              "      <td>NaN</td>\n",
              "    </tr>\n",
              "    <tr>\n",
              "      <th>2016-02-12 14:00:00</th>\n",
              "      <td>71.0</td>\n",
              "      <td>9</td>\n",
              "      <td>9.4</td>\n",
              "      <td>0.0</td>\n",
              "      <td>7.8</td>\n",
              "      <td>0.0</td>\n",
              "      <td>1023.1</td>\n",
              "      <td>0.0</td>\n",
              "      <td>0.0</td>\n",
              "      <td>39649</td>\n",
              "      <td>NaN</td>\n",
              "    </tr>\n",
              "    <tr>\n",
              "      <th>2016-02-12 15:00:00</th>\n",
              "      <td>67.0</td>\n",
              "      <td>9</td>\n",
              "      <td>12.2</td>\n",
              "      <td>0.0</td>\n",
              "      <td>8.3</td>\n",
              "      <td>0.0</td>\n",
              "      <td>1023.6</td>\n",
              "      <td>0.0</td>\n",
              "      <td>0.0</td>\n",
              "      <td>39649</td>\n",
              "      <td>NaN</td>\n",
              "    </tr>\n",
              "    <tr>\n",
              "      <th>2016-02-12 16:00:00</th>\n",
              "      <td>68.0</td>\n",
              "      <td>9</td>\n",
              "      <td>17.2</td>\n",
              "      <td>0.0</td>\n",
              "      <td>7.2</td>\n",
              "      <td>0.0</td>\n",
              "      <td>1023.9</td>\n",
              "      <td>280.0</td>\n",
              "      <td>1.5</td>\n",
              "      <td>39649</td>\n",
              "      <td>NaN</td>\n",
              "    </tr>\n",
              "    <tr>\n",
              "      <th>2016-02-12 17:00:00</th>\n",
              "      <td>75.0</td>\n",
              "      <td>9</td>\n",
              "      <td>21.1</td>\n",
              "      <td>0.0</td>\n",
              "      <td>5.0</td>\n",
              "      <td>0.0</td>\n",
              "      <td>1024.1</td>\n",
              "      <td>0.0</td>\n",
              "      <td>0.0</td>\n",
              "      <td>39649</td>\n",
              "      <td>NaN</td>\n",
              "    </tr>\n",
              "    <tr>\n",
              "      <th>2016-02-12 18:00:00</th>\n",
              "      <td>69.0</td>\n",
              "      <td>9</td>\n",
              "      <td>23.3</td>\n",
              "      <td>0.0</td>\n",
              "      <td>5.0</td>\n",
              "      <td>0.0</td>\n",
              "      <td>1024.1</td>\n",
              "      <td>20.0</td>\n",
              "      <td>4.1</td>\n",
              "      <td>39649</td>\n",
              "      <td>NaN</td>\n",
              "    </tr>\n",
              "    <tr>\n",
              "      <th>2016-02-12 19:00:00</th>\n",
              "      <td>72.0</td>\n",
              "      <td>9</td>\n",
              "      <td>23.9</td>\n",
              "      <td>0.0</td>\n",
              "      <td>5.6</td>\n",
              "      <td>0.0</td>\n",
              "      <td>1023.4</td>\n",
              "      <td>360.0</td>\n",
              "      <td>2.6</td>\n",
              "      <td>39649</td>\n",
              "      <td>NaN</td>\n",
              "    </tr>\n",
              "    <tr>\n",
              "      <th>2016-02-12 20:00:00</th>\n",
              "      <td>64.0</td>\n",
              "      <td>9</td>\n",
              "      <td>25.0</td>\n",
              "      <td>0.0</td>\n",
              "      <td>5.6</td>\n",
              "      <td>0.0</td>\n",
              "      <td>1022.3</td>\n",
              "      <td>350.0</td>\n",
              "      <td>2.6</td>\n",
              "      <td>39649</td>\n",
              "      <td>NaN</td>\n",
              "    </tr>\n",
              "    <tr>\n",
              "      <th>2016-02-12 21:00:00</th>\n",
              "      <td>63.0</td>\n",
              "      <td>9</td>\n",
              "      <td>26.1</td>\n",
              "      <td>0.0</td>\n",
              "      <td>5.6</td>\n",
              "      <td>0.0</td>\n",
              "      <td>1021.9</td>\n",
              "      <td>NaN</td>\n",
              "      <td>2.1</td>\n",
              "      <td>39649</td>\n",
              "      <td>NaN</td>\n",
              "    </tr>\n",
              "    <tr>\n",
              "      <th>2016-02-12 22:00:00</th>\n",
              "      <td>65.0</td>\n",
              "      <td>9</td>\n",
              "      <td>26.1</td>\n",
              "      <td>0.0</td>\n",
              "      <td>5.0</td>\n",
              "      <td>0.0</td>\n",
              "      <td>1021.8</td>\n",
              "      <td>30.0</td>\n",
              "      <td>3.1</td>\n",
              "      <td>39649</td>\n",
              "      <td>NaN</td>\n",
              "    </tr>\n",
              "    <tr>\n",
              "      <th>2016-02-12 23:00:00</th>\n",
              "      <td>63.0</td>\n",
              "      <td>9</td>\n",
              "      <td>25.0</td>\n",
              "      <td>0.0</td>\n",
              "      <td>5.0</td>\n",
              "      <td>0.0</td>\n",
              "      <td>1022.2</td>\n",
              "      <td>NaN</td>\n",
              "      <td>1.5</td>\n",
              "      <td>39649</td>\n",
              "      <td>NaN</td>\n",
              "    </tr>\n",
              "  </tbody>\n",
              "</table>\n",
              "</div>"
            ],
            "text/plain": [
              "                     meter_reading  site_id  ...  square_feet  year_built\n",
              "timestamp                                    ...                         \n",
              "2016-02-12 00:00:00           65.0        9  ...        39649         NaN\n",
              "2016-02-12 01:00:00           61.0        9  ...        39649         NaN\n",
              "2016-02-12 02:00:00           61.0        9  ...        39649         NaN\n",
              "2016-02-12 03:00:00           56.0        9  ...        39649         NaN\n",
              "2016-02-12 04:00:00           56.0        9  ...        39649         NaN\n",
              "2016-02-12 05:00:00           53.0        9  ...        39649         NaN\n",
              "2016-02-12 06:00:00           52.0        9  ...        39649         NaN\n",
              "2016-02-12 07:00:00           52.0        9  ...        39649         NaN\n",
              "2016-02-12 08:00:00           55.0        9  ...        39649         NaN\n",
              "2016-02-12 09:00:00           52.0        9  ...        39649         NaN\n",
              "2016-02-12 10:00:00           53.0        9  ...        39649         NaN\n",
              "2016-02-12 11:00:00           55.0        9  ...        39649         NaN\n",
              "2016-02-12 12:00:00           59.0        9  ...        39649         NaN\n",
              "2016-02-12 13:00:00           65.0        9  ...        39649         NaN\n",
              "2016-02-12 14:00:00           71.0        9  ...        39649         NaN\n",
              "2016-02-12 15:00:00           67.0        9  ...        39649         NaN\n",
              "2016-02-12 16:00:00           68.0        9  ...        39649         NaN\n",
              "2016-02-12 17:00:00           75.0        9  ...        39649         NaN\n",
              "2016-02-12 18:00:00           69.0        9  ...        39649         NaN\n",
              "2016-02-12 19:00:00           72.0        9  ...        39649         NaN\n",
              "2016-02-12 20:00:00           64.0        9  ...        39649         NaN\n",
              "2016-02-12 21:00:00           63.0        9  ...        39649         NaN\n",
              "2016-02-12 22:00:00           65.0        9  ...        39649         NaN\n",
              "2016-02-12 23:00:00           63.0        9  ...        39649         NaN\n",
              "\n",
              "[24 rows x 11 columns]"
            ]
          },
          "metadata": {},
          "execution_count": 155
        }
      ]
    },
    {
      "cell_type": "markdown",
      "metadata": {
        "id": "rwcmPVx4ZPo_"
      },
      "source": [
        "how to otake every column excep one in pandas?\n",
        "df.loc[:, df.columns != 'b']"
      ]
    },
    {
      "cell_type": "code",
      "metadata": {
        "id": "HKXq5qhob8Fy",
        "colab": {
          "base_uri": "https://localhost:8080/"
        },
        "outputId": "3bfa6faf-97f4-4cfc-9a71-a538fdd6c55f"
      },
      "source": [
        "# target variable sum\n",
        "sumY = tabla['meter_reading'].sum()\n",
        "\n",
        "# input variables sum\n",
        "tabla=tabla.loc[:, tabla.columns != 'meter_reading']\n",
        "sumX = tabla.sum().sum()\n",
        "\n",
        "sumX, sumY"
      ],
      "execution_count": null,
      "outputs": [
        {
          "output_type": "execute_result",
          "data": {
            "text/plain": [
              "(978871.5, 1472.0)"
            ]
          },
          "metadata": {},
          "execution_count": 156
        }
      ]
    },
    {
      "cell_type": "markdown",
      "metadata": {
        "id": "oVGm9sAqVOd2"
      },
      "source": [
        "IMPORTANTE\n",
        "Creación de un dataframe como  diccionario: \n",
        "\n",
        "\n",
        "output=pd.DataFrame({\n",
        "    \n",
        "                      'primera salida': df['A'],\n",
        "                      'segunda salida': df['B'],\n",
        "                      'tercera salida': df['C'],\n",
        "                      'cuarta  salida': df['D'],\n",
        "                      \n",
        "                      'quinta  salida': df2['E'],\n",
        "                      'sexta   salida': df2['F'],\n",
        "                      # 'septima salida': df2['G'],\n",
        "                      # 'octava  salida': df2['H'],\n",
        "                     \n",
        "                     })"
      ]
    },
    {
      "cell_type": "markdown",
      "metadata": {
        "id": "4aCq9LZ6VFy-"
      },
      "source": [
        ""
      ]
    },
    {
      "cell_type": "code",
      "metadata": {
        "id": "nCwatZdPb8Fy"
      },
      "source": [
        ""
      ],
      "execution_count": null,
      "outputs": []
    },
    {
      "cell_type": "code",
      "metadata": {
        "id": "hpGet6ZCb8Fz"
      },
      "source": [
        ""
      ],
      "execution_count": null,
      "outputs": []
    },
    {
      "cell_type": "markdown",
      "metadata": {
        "id": "hO5WwNxtb8Fz"
      },
      "source": [
        "**submit your answer**"
      ]
    },
    {
      "cell_type": "code",
      "metadata": {
        "scrolled": true,
        "id": "avJuicRVb8Fz",
        "colab": {
          "base_uri": "https://localhost:8080/",
          "height": 128
        },
        "outputId": "eb30ec22-8044-4686-a370-00638441ef53"
      },
      "source": [
        "student.submit_task(globals(), task_id=\"task_01\");"
      ],
      "execution_count": null,
      "outputs": [
        {
          "output_type": "display_data",
          "data": {
            "text/html": [
              "\n",
              "                    <b>task_01 submitted.</b> <b><font color=\"blue\">your grade is 5</font></b> \n",
              "                    <p/><pre>----- grader message -------</pre>checking for building_id=906 and date='2016-02-12'<br/><b>correct</b><pre>----------------------------</pre>\n",
              "                    <p/><p/>\n",
              "                    <div style=\"font-size:10px\"><b>SUBMISSION CODE</b> lgW9pGYBqq10g0Deme/TL31s5KCHofVOYzvaCholeR+7H5z/4y0AiFRf5ThaiPmPactaMN6UdvNOG3x3YfOChk/CkthdbTwHWHxRzhAQaKMLqpBIMpeMB3P64sPc9Mq490YU8gEMQJ4mRlz27jDtmw==</div>\n",
              "                    "
            ],
            "text/plain": [
              "<IPython.core.display.HTML object>"
            ]
          },
          "metadata": {}
        }
      ]
    },
    {
      "cell_type": "code",
      "metadata": {
        "id": "Fhha9i61b8F0"
      },
      "source": [
        ""
      ],
      "execution_count": null,
      "outputs": []
    },
    {
      "cell_type": "markdown",
      "metadata": {
        "id": "FOEdLFDub8F0"
      },
      "source": [
        "## Task 2. Time series missing data fix\n",
        "\n",
        "Observe how we can fill in missing data in a time series, by simply repeating the last seen value in the missing places."
      ]
    },
    {
      "cell_type": "code",
      "metadata": {
        "id": "URIRDpS0b8F1",
        "outputId": "6016e655-73d7-46d1-852c-2f4ade151539"
      },
      "source": [
        "Image(\"local/imgs/timeseries-ffill.png\")"
      ],
      "execution_count": null,
      "outputs": [
        {
          "data": {
            "image/png": "[encoded data removed]",
            "text/plain": [
              "<IPython.core.display.Image object>"
            ]
          },
          "execution_count": 40,
          "metadata": {},
          "output_type": "execute_result"
        }
      ]
    },
    {
      "cell_type": "markdown",
      "metadata": {
        "id": "fED1LCGPb8F2"
      },
      "source": [
        "Using the weather data from the ASHRAE Kaggle competition that you must have downloaded in the previous task you will have to:\n",
        "\n",
        "1. Extract the time series for the variable `cloud_coverage` for **site_id=3** and for the **date assigned to you** (execute the cell below). This time series will have 24 values (including missing values).\n",
        "1. Fill in the missing data by repeating the last seen value as in the example above\n",
        "1. Report the time series as a Pyton list in the variable `fixed_ts` below\n",
        "\n",
        "Again, use any tool of your choice to generate your result"
      ]
    },
    {
      "cell_type": "code",
      "metadata": {
        "id": "UWaeaUBmb8F2",
        "colab": {
          "base_uri": "https://localhost:8080/"
        },
        "outputId": "4e812fce-440e-40a3-971f-08f24800902c"
      },
      "source": [
        "from local.lib import labutils\n",
        "_, date = labutils.biddate_for_student(student.user_id)\n",
        "print (\"your date       \", date)"
      ],
      "execution_count": null,
      "outputs": [
        {
          "output_type": "stream",
          "name": "stdout",
          "text": [
            "your date        2016-02-04\n"
          ]
        }
      ]
    },
    {
      "cell_type": "markdown",
      "metadata": {
        "id": "rWzncFRCb8F2"
      },
      "source": [
        "#### fill in your fixed time series"
      ]
    },
    {
      "cell_type": "code",
      "metadata": {
        "colab": {
          "base_uri": "https://localhost:8080/",
          "height": 606
        },
        "id": "vuJ8swV0xuxR",
        "outputId": "937c6262-cf3b-4767-efb9-44a9b9abbeb4"
      },
      "source": [
        "# Importando el dataframe\n",
        "weather_train=pd.read_csv(\"weather_train.csv\") \n",
        "\n",
        "##################### Filtrado #################################\n",
        "# Transformamos la columna de fechas a el indice del daraframe\n",
        "weather_train.index = pd.to_datetime(weather_train.timestamp)\n",
        "# Se filtran aquellos que cumplen con la fecha\n",
        "weather_train=weather_train.loc[date]\n",
        "# se filtra la tabla para obtener solo los que cumplen con ese side_id\n",
        "weather_train=weather_train[weather_train.site_id==3]\n",
        "# Borrar columna repetida\n",
        "weather_train=weather_train.set_index('timestamp')\n",
        "\n",
        "weather_train"
      ],
      "execution_count": null,
      "outputs": [
        {
          "output_type": "execute_result",
          "data": {
            "application/vnd.google.colaboratory.module+javascript": "\n      import \"https://ssl.gstatic.com/colaboratory/data_table/a6224c040fa35dcf/data_table.js\";\n\n      window.createDataTable({\n        data: [[\"2016-02-04 00:00:00\",\n{\n            'v': 3,\n            'f': \"3\",\n        },\n{\n            'v': 13.3,\n            'f': \"13.3\",\n        },\n{\n            'v': 6.0,\n            'f': \"6.0\",\n        },\n{\n            'v': 12.2,\n            'f': \"12.2\",\n        },\n{\n            'v': 0.0,\n            'f': \"0.0\",\n        },\n{\n            'v': 1011.9,\n            'f': \"1011.9\",\n        },\n{\n            'v': 200.0,\n            'f': \"200.0\",\n        },\n{\n            'v': 5.7,\n            'f': \"5.7\",\n        }],\n [\"2016-02-04 01:00:00\",\n{\n            'v': 3,\n            'f': \"3\",\n        },\n{\n            'v': 13.3,\n            'f': \"13.3\",\n        },\n{\n            'v': NaN,\n            'f': \"NaN\",\n        },\n{\n            'v': 12.2,\n            'f': \"12.2\",\n        },\n{\n            'v': 0.0,\n            'f': \"0.0\",\n        },\n{\n            'v': NaN,\n            'f': \"NaN\",\n        },\n{\n            'v': 190.0,\n            'f': \"190.0\",\n        },\n{\n            'v': 5.1,\n            'f': \"5.1\",\n        }],\n [\"2016-02-04 02:00:00\",\n{\n            'v': 3,\n            'f': \"3\",\n        },\n{\n            'v': 13.3,\n            'f': \"13.3\",\n        },\n{\n            'v': NaN,\n            'f': \"NaN\",\n        },\n{\n            'v': 12.8,\n            'f': \"12.8\",\n        },\n{\n            'v': 0.0,\n            'f': \"0.0\",\n        },\n{\n            'v': 1012.9,\n            'f': \"1012.9\",\n        },\n{\n            'v': 180.0,\n            'f': \"180.0\",\n        },\n{\n            'v': 4.6,\n            'f': \"4.6\",\n        }],\n [\"2016-02-04 03:00:00\",\n{\n            'v': 3,\n            'f': \"3\",\n        },\n{\n            'v': 13.3,\n            'f': \"13.3\",\n        },\n{\n            'v': 8.0,\n            'f': \"8.0\",\n        },\n{\n            'v': 12.8,\n            'f': \"12.8\",\n        },\n{\n            'v': 0.0,\n            'f': \"0.0\",\n        },\n{\n            'v': 1012.5,\n            'f': \"1012.5\",\n        },\n{\n            'v': 190.0,\n            'f': \"190.0\",\n        },\n{\n            'v': 5.7,\n            'f': \"5.7\",\n        }],\n [\"2016-02-04 04:00:00\",\n{\n            'v': 3,\n            'f': \"3\",\n        },\n{\n            'v': 11.7,\n            'f': \"11.7\",\n        },\n{\n            'v': 9.0,\n            'f': \"9.0\",\n        },\n{\n            'v': 11.7,\n            'f': \"11.7\",\n        },\n{\n            'v': 0.0,\n            'f': \"0.0\",\n        },\n{\n            'v': 1012.4,\n            'f': \"1012.4\",\n        },\n{\n            'v': 190.0,\n            'f': \"190.0\",\n        },\n{\n            'v': 4.6,\n            'f': \"4.6\",\n        }],\n [\"2016-02-04 05:00:00\",\n{\n            'v': 3,\n            'f': \"3\",\n        },\n{\n            'v': 12.8,\n            'f': \"12.8\",\n        },\n{\n            'v': NaN,\n            'f': \"NaN\",\n        },\n{\n            'v': 12.2,\n            'f': \"12.2\",\n        },\n{\n            'v': -1.0,\n            'f': \"-1.0\",\n        },\n{\n            'v': 1012.2,\n            'f': \"1012.2\",\n        },\n{\n            'v': 180.0,\n            'f': \"180.0\",\n        },\n{\n            'v': 6.2,\n            'f': \"6.2\",\n        }],\n [\"2016-02-04 06:00:00\",\n{\n            'v': 3,\n            'f': \"3\",\n        },\n{\n            'v': 13.9,\n            'f': \"13.9\",\n        },\n{\n            'v': 8.0,\n            'f': \"8.0\",\n        },\n{\n            'v': 13.9,\n            'f': \"13.9\",\n        },\n{\n            'v': -1.0,\n            'f': \"-1.0\",\n        },\n{\n            'v': 1011.8,\n            'f': \"1011.8\",\n        },\n{\n            'v': 190.0,\n            'f': \"190.0\",\n        },\n{\n            'v': 4.1,\n            'f': \"4.1\",\n        }],\n [\"2016-02-04 07:00:00\",\n{\n            'v': 3,\n            'f': \"3\",\n        },\n{\n            'v': 13.3,\n            'f': \"13.3\",\n        },\n{\n            'v': NaN,\n            'f': \"NaN\",\n        },\n{\n            'v': 13.3,\n            'f': \"13.3\",\n        },\n{\n            'v': 3.0,\n            'f': \"3.0\",\n        },\n{\n            'v': 1011.4,\n            'f': \"1011.4\",\n        },\n{\n            'v': 190.0,\n            'f': \"190.0\",\n        },\n{\n            'v': 3.1,\n            'f': \"3.1\",\n        }],\n [\"2016-02-04 08:00:00\",\n{\n            'v': 3,\n            'f': \"3\",\n        },\n{\n            'v': 12.2,\n            'f': \"12.2\",\n        },\n{\n            'v': 9.0,\n            'f': \"9.0\",\n        },\n{\n            'v': 12.2,\n            'f': \"12.2\",\n        },\n{\n            'v': 3.0,\n            'f': \"3.0\",\n        },\n{\n            'v': 1011.9,\n            'f': \"1011.9\",\n        },\n{\n            'v': 190.0,\n            'f': \"190.0\",\n        },\n{\n            'v': 4.6,\n            'f': \"4.6\",\n        }],\n [\"2016-02-04 09:00:00\",\n{\n            'v': 3,\n            'f': \"3\",\n        },\n{\n            'v': 13.3,\n            'f': \"13.3\",\n        },\n{\n            'v': 8.0,\n            'f': \"8.0\",\n        },\n{\n            'v': 13.3,\n            'f': \"13.3\",\n        },\n{\n            'v': -1.0,\n            'f': \"-1.0\",\n        },\n{\n            'v': 1011.9,\n            'f': \"1011.9\",\n        },\n{\n            'v': 180.0,\n            'f': \"180.0\",\n        },\n{\n            'v': 2.6,\n            'f': \"2.6\",\n        }],\n [\"2016-02-04 10:00:00\",\n{\n            'v': 3,\n            'f': \"3\",\n        },\n{\n            'v': 12.2,\n            'f': \"12.2\",\n        },\n{\n            'v': NaN,\n            'f': \"NaN\",\n        },\n{\n            'v': 10.0,\n            'f': \"10.0\",\n        },\n{\n            'v': -1.0,\n            'f': \"-1.0\",\n        },\n{\n            'v': NaN,\n            'f': \"NaN\",\n        },\n{\n            'v': 310.0,\n            'f': \"310.0\",\n        },\n{\n            'v': 5.7,\n            'f': \"5.7\",\n        }],\n [\"2016-02-04 11:00:00\",\n{\n            'v': 3,\n            'f': \"3\",\n        },\n{\n            'v': 11.7,\n            'f': \"11.7\",\n        },\n{\n            'v': NaN,\n            'f': \"NaN\",\n        },\n{\n            'v': 6.1,\n            'f': \"6.1\",\n        },\n{\n            'v': 0.0,\n            'f': \"0.0\",\n        },\n{\n            'v': 1014.7,\n            'f': \"1014.7\",\n        },\n{\n            'v': 340.0,\n            'f': \"340.0\",\n        },\n{\n            'v': 5.7,\n            'f': \"5.7\",\n        }],\n [\"2016-02-04 12:00:00\",\n{\n            'v': 3,\n            'f': \"3\",\n        },\n{\n            'v': 10.6,\n            'f': \"10.6\",\n        },\n{\n            'v': 8.0,\n            'f': \"8.0\",\n        },\n{\n            'v': 6.1,\n            'f': \"6.1\",\n        },\n{\n            'v': 0.0,\n            'f': \"0.0\",\n        },\n{\n            'v': 1015.8,\n            'f': \"1015.8\",\n        },\n{\n            'v': 340.0,\n            'f': \"340.0\",\n        },\n{\n            'v': 6.2,\n            'f': \"6.2\",\n        }],\n [\"2016-02-04 13:00:00\",\n{\n            'v': 3,\n            'f': \"3\",\n        },\n{\n            'v': 10.0,\n            'f': \"10.0\",\n        },\n{\n            'v': NaN,\n            'f': \"NaN\",\n        },\n{\n            'v': 3.9,\n            'f': \"3.9\",\n        },\n{\n            'v': 0.0,\n            'f': \"0.0\",\n        },\n{\n            'v': 1016.8,\n            'f': \"1016.8\",\n        },\n{\n            'v': 340.0,\n            'f': \"340.0\",\n        },\n{\n            'v': 8.2,\n            'f': \"8.2\",\n        }],\n [\"2016-02-04 14:00:00\",\n{\n            'v': 3,\n            'f': \"3\",\n        },\n{\n            'v': 9.4,\n            'f': \"9.4\",\n        },\n{\n            'v': NaN,\n            'f': \"NaN\",\n        },\n{\n            'v': 2.8,\n            'f': \"2.8\",\n        },\n{\n            'v': 0.0,\n            'f': \"0.0\",\n        },\n{\n            'v': 1018.2,\n            'f': \"1018.2\",\n        },\n{\n            'v': 350.0,\n            'f': \"350.0\",\n        },\n{\n            'v': 6.7,\n            'f': \"6.7\",\n        }],\n [\"2016-02-04 15:00:00\",\n{\n            'v': 3,\n            'f': \"3\",\n        },\n{\n            'v': 9.4,\n            'f': \"9.4\",\n        },\n{\n            'v': 8.0,\n            'f': \"8.0\",\n        },\n{\n            'v': 1.7,\n            'f': \"1.7\",\n        },\n{\n            'v': 0.0,\n            'f': \"0.0\",\n        },\n{\n            'v': 1018.9,\n            'f': \"1018.9\",\n        },\n{\n            'v': 350.0,\n            'f': \"350.0\",\n        },\n{\n            'v': 6.7,\n            'f': \"6.7\",\n        }],\n [\"2016-02-04 16:00:00\",\n{\n            'v': 3,\n            'f': \"3\",\n        },\n{\n            'v': 8.9,\n            'f': \"8.9\",\n        },\n{\n            'v': NaN,\n            'f': \"NaN\",\n        },\n{\n            'v': 1.1,\n            'f': \"1.1\",\n        },\n{\n            'v': 0.0,\n            'f': \"0.0\",\n        },\n{\n            'v': 1019.7,\n            'f': \"1019.7\",\n        },\n{\n            'v': 340.0,\n            'f': \"340.0\",\n        },\n{\n            'v': 6.2,\n            'f': \"6.2\",\n        }],\n [\"2016-02-04 17:00:00\",\n{\n            'v': 3,\n            'f': \"3\",\n        },\n{\n            'v': 8.9,\n            'f': \"8.9\",\n        },\n{\n            'v': NaN,\n            'f': \"NaN\",\n        },\n{\n            'v': 0.6,\n            'f': \"0.6\",\n        },\n{\n            'v': 0.0,\n            'f': \"0.0\",\n        },\n{\n            'v': 1019.3,\n            'f': \"1019.3\",\n        },\n{\n            'v': 340.0,\n            'f': \"340.0\",\n        },\n{\n            'v': 8.8,\n            'f': \"8.8\",\n        }],\n [\"2016-02-04 18:00:00\",\n{\n            'v': 3,\n            'f': \"3\",\n        },\n{\n            'v': 8.9,\n            'f': \"8.9\",\n        },\n{\n            'v': 8.0,\n            'f': \"8.0\",\n        },\n{\n            'v': 0.6,\n            'f': \"0.6\",\n        },\n{\n            'v': 0.0,\n            'f': \"0.0\",\n        },\n{\n            'v': 1018.2,\n            'f': \"1018.2\",\n        },\n{\n            'v': 350.0,\n            'f': \"350.0\",\n        },\n{\n            'v': 7.2,\n            'f': \"7.2\",\n        }],\n [\"2016-02-04 19:00:00\",\n{\n            'v': 3,\n            'f': \"3\",\n        },\n{\n            'v': 9.4,\n            'f': \"9.4\",\n        },\n{\n            'v': NaN,\n            'f': \"NaN\",\n        },\n{\n            'v': 0.0,\n            'f': \"0.0\",\n        },\n{\n            'v': 0.0,\n            'f': \"0.0\",\n        },\n{\n            'v': 1017.6,\n            'f': \"1017.6\",\n        },\n{\n            'v': 360.0,\n            'f': \"360.0\",\n        },\n{\n            'v': 6.2,\n            'f': \"6.2\",\n        }],\n [\"2016-02-04 20:00:00\",\n{\n            'v': 3,\n            'f': \"3\",\n        },\n{\n            'v': 9.4,\n            'f': \"9.4\",\n        },\n{\n            'v': NaN,\n            'f': \"NaN\",\n        },\n{\n            'v': 0.6,\n            'f': \"0.6\",\n        },\n{\n            'v': 0.0,\n            'f': \"0.0\",\n        },\n{\n            'v': 1018.1,\n            'f': \"1018.1\",\n        },\n{\n            'v': 10.0,\n            'f': \"10.0\",\n        },\n{\n            'v': 4.6,\n            'f': \"4.6\",\n        }],\n [\"2016-02-04 21:00:00\",\n{\n            'v': 3,\n            'f': \"3\",\n        },\n{\n            'v': 9.4,\n            'f': \"9.4\",\n        },\n{\n            'v': 8.0,\n            'f': \"8.0\",\n        },\n{\n            'v': 0.0,\n            'f': \"0.0\",\n        },\n{\n            'v': 0.0,\n            'f': \"0.0\",\n        },\n{\n            'v': 1018.1,\n            'f': \"1018.1\",\n        },\n{\n            'v': 350.0,\n            'f': \"350.0\",\n        },\n{\n            'v': 6.2,\n            'f': \"6.2\",\n        }],\n [\"2016-02-04 22:00:00\",\n{\n            'v': 3,\n            'f': \"3\",\n        },\n{\n            'v': 8.9,\n            'f': \"8.9\",\n        },\n{\n            'v': NaN,\n            'f': \"NaN\",\n        },\n{\n            'v': -0.6,\n            'f': \"-0.6\",\n        },\n{\n            'v': 0.0,\n            'f': \"0.0\",\n        },\n{\n            'v': 1018.9,\n            'f': \"1018.9\",\n        },\n{\n            'v': 350.0,\n            'f': \"350.0\",\n        },\n{\n            'v': 5.1,\n            'f': \"5.1\",\n        }],\n [\"2016-02-04 23:00:00\",\n{\n            'v': 3,\n            'f': \"3\",\n        },\n{\n            'v': 8.9,\n            'f': \"8.9\",\n        },\n{\n            'v': NaN,\n            'f': \"NaN\",\n        },\n{\n            'v': -0.6,\n            'f': \"-0.6\",\n        },\n{\n            'v': 0.0,\n            'f': \"0.0\",\n        },\n{\n            'v': 1019.1,\n            'f': \"1019.1\",\n        },\n{\n            'v': 350.0,\n            'f': \"350.0\",\n        },\n{\n            'v': 6.7,\n            'f': \"6.7\",\n        }]],\n        columns: [[\"string\", \"timestamp\"], [\"number\", \"site_id\"], [\"number\", \"air_temperature\"], [\"number\", \"cloud_coverage\"], [\"number\", \"dew_temperature\"], [\"number\", \"precip_depth_1_hr\"], [\"number\", \"sea_level_pressure\"], [\"number\", \"wind_direction\"], [\"number\", \"wind_speed\"]],\n        columnOptions: [{\"width\": \"1px\", \"className\": \"index_column\"}],\n        rowsPerPage: 25,\n        helpUrl: \"https://colab.research.google.com/notebooks/data_table.ipynb\",\n        suppressOutputScrolling: true,\n        minimumWidth: undefined,\n      });\n    ",
            "text/html": [
              "<div>\n",
              "<style scoped>\n",
              "    .dataframe tbody tr th:only-of-type {\n",
              "        vertical-align: middle;\n",
              "    }\n",
              "\n",
              "    .dataframe tbody tr th {\n",
              "        vertical-align: top;\n",
              "    }\n",
              "\n",
              "    .dataframe thead th {\n",
              "        text-align: right;\n",
              "    }\n",
              "</style>\n",
              "<table border=\"1\" class=\"dataframe\">\n",
              "  <thead>\n",
              "    <tr style=\"text-align: right;\">\n",
              "      <th></th>\n",
              "      <th>site_id</th>\n",
              "      <th>air_temperature</th>\n",
              "      <th>cloud_coverage</th>\n",
              "      <th>dew_temperature</th>\n",
              "      <th>precip_depth_1_hr</th>\n",
              "      <th>sea_level_pressure</th>\n",
              "      <th>wind_direction</th>\n",
              "      <th>wind_speed</th>\n",
              "    </tr>\n",
              "    <tr>\n",
              "      <th>timestamp</th>\n",
              "      <th></th>\n",
              "      <th></th>\n",
              "      <th></th>\n",
              "      <th></th>\n",
              "      <th></th>\n",
              "      <th></th>\n",
              "      <th></th>\n",
              "      <th></th>\n",
              "    </tr>\n",
              "  </thead>\n",
              "  <tbody>\n",
              "    <tr>\n",
              "      <th>2016-02-04 00:00:00</th>\n",
              "      <td>3</td>\n",
              "      <td>13.3</td>\n",
              "      <td>6.0</td>\n",
              "      <td>12.2</td>\n",
              "      <td>0.0</td>\n",
              "      <td>1011.9</td>\n",
              "      <td>200.0</td>\n",
              "      <td>5.7</td>\n",
              "    </tr>\n",
              "    <tr>\n",
              "      <th>2016-02-04 01:00:00</th>\n",
              "      <td>3</td>\n",
              "      <td>13.3</td>\n",
              "      <td>NaN</td>\n",
              "      <td>12.2</td>\n",
              "      <td>0.0</td>\n",
              "      <td>NaN</td>\n",
              "      <td>190.0</td>\n",
              "      <td>5.1</td>\n",
              "    </tr>\n",
              "    <tr>\n",
              "      <th>2016-02-04 02:00:00</th>\n",
              "      <td>3</td>\n",
              "      <td>13.3</td>\n",
              "      <td>NaN</td>\n",
              "      <td>12.8</td>\n",
              "      <td>0.0</td>\n",
              "      <td>1012.9</td>\n",
              "      <td>180.0</td>\n",
              "      <td>4.6</td>\n",
              "    </tr>\n",
              "    <tr>\n",
              "      <th>2016-02-04 03:00:00</th>\n",
              "      <td>3</td>\n",
              "      <td>13.3</td>\n",
              "      <td>8.0</td>\n",
              "      <td>12.8</td>\n",
              "      <td>0.0</td>\n",
              "      <td>1012.5</td>\n",
              "      <td>190.0</td>\n",
              "      <td>5.7</td>\n",
              "    </tr>\n",
              "    <tr>\n",
              "      <th>2016-02-04 04:00:00</th>\n",
              "      <td>3</td>\n",
              "      <td>11.7</td>\n",
              "      <td>9.0</td>\n",
              "      <td>11.7</td>\n",
              "      <td>0.0</td>\n",
              "      <td>1012.4</td>\n",
              "      <td>190.0</td>\n",
              "      <td>4.6</td>\n",
              "    </tr>\n",
              "    <tr>\n",
              "      <th>2016-02-04 05:00:00</th>\n",
              "      <td>3</td>\n",
              "      <td>12.8</td>\n",
              "      <td>NaN</td>\n",
              "      <td>12.2</td>\n",
              "      <td>-1.0</td>\n",
              "      <td>1012.2</td>\n",
              "      <td>180.0</td>\n",
              "      <td>6.2</td>\n",
              "    </tr>\n",
              "    <tr>\n",
              "      <th>2016-02-04 06:00:00</th>\n",
              "      <td>3</td>\n",
              "      <td>13.9</td>\n",
              "      <td>8.0</td>\n",
              "      <td>13.9</td>\n",
              "      <td>-1.0</td>\n",
              "      <td>1011.8</td>\n",
              "      <td>190.0</td>\n",
              "      <td>4.1</td>\n",
              "    </tr>\n",
              "    <tr>\n",
              "      <th>2016-02-04 07:00:00</th>\n",
              "      <td>3</td>\n",
              "      <td>13.3</td>\n",
              "      <td>NaN</td>\n",
              "      <td>13.3</td>\n",
              "      <td>3.0</td>\n",
              "      <td>1011.4</td>\n",
              "      <td>190.0</td>\n",
              "      <td>3.1</td>\n",
              "    </tr>\n",
              "    <tr>\n",
              "      <th>2016-02-04 08:00:00</th>\n",
              "      <td>3</td>\n",
              "      <td>12.2</td>\n",
              "      <td>9.0</td>\n",
              "      <td>12.2</td>\n",
              "      <td>3.0</td>\n",
              "      <td>1011.9</td>\n",
              "      <td>190.0</td>\n",
              "      <td>4.6</td>\n",
              "    </tr>\n",
              "    <tr>\n",
              "      <th>2016-02-04 09:00:00</th>\n",
              "      <td>3</td>\n",
              "      <td>13.3</td>\n",
              "      <td>8.0</td>\n",
              "      <td>13.3</td>\n",
              "      <td>-1.0</td>\n",
              "      <td>1011.9</td>\n",
              "      <td>180.0</td>\n",
              "      <td>2.6</td>\n",
              "    </tr>\n",
              "    <tr>\n",
              "      <th>2016-02-04 10:00:00</th>\n",
              "      <td>3</td>\n",
              "      <td>12.2</td>\n",
              "      <td>NaN</td>\n",
              "      <td>10.0</td>\n",
              "      <td>-1.0</td>\n",
              "      <td>NaN</td>\n",
              "      <td>310.0</td>\n",
              "      <td>5.7</td>\n",
              "    </tr>\n",
              "    <tr>\n",
              "      <th>2016-02-04 11:00:00</th>\n",
              "      <td>3</td>\n",
              "      <td>11.7</td>\n",
              "      <td>NaN</td>\n",
              "      <td>6.1</td>\n",
              "      <td>0.0</td>\n",
              "      <td>1014.7</td>\n",
              "      <td>340.0</td>\n",
              "      <td>5.7</td>\n",
              "    </tr>\n",
              "    <tr>\n",
              "      <th>2016-02-04 12:00:00</th>\n",
              "      <td>3</td>\n",
              "      <td>10.6</td>\n",
              "      <td>8.0</td>\n",
              "      <td>6.1</td>\n",
              "      <td>0.0</td>\n",
              "      <td>1015.8</td>\n",
              "      <td>340.0</td>\n",
              "      <td>6.2</td>\n",
              "    </tr>\n",
              "    <tr>\n",
              "      <th>2016-02-04 13:00:00</th>\n",
              "      <td>3</td>\n",
              "      <td>10.0</td>\n",
              "      <td>NaN</td>\n",
              "      <td>3.9</td>\n",
              "      <td>0.0</td>\n",
              "      <td>1016.8</td>\n",
              "      <td>340.0</td>\n",
              "      <td>8.2</td>\n",
              "    </tr>\n",
              "    <tr>\n",
              "      <th>2016-02-04 14:00:00</th>\n",
              "      <td>3</td>\n",
              "      <td>9.4</td>\n",
              "      <td>NaN</td>\n",
              "      <td>2.8</td>\n",
              "      <td>0.0</td>\n",
              "      <td>1018.2</td>\n",
              "      <td>350.0</td>\n",
              "      <td>6.7</td>\n",
              "    </tr>\n",
              "    <tr>\n",
              "      <th>2016-02-04 15:00:00</th>\n",
              "      <td>3</td>\n",
              "      <td>9.4</td>\n",
              "      <td>8.0</td>\n",
              "      <td>1.7</td>\n",
              "      <td>0.0</td>\n",
              "      <td>1018.9</td>\n",
              "      <td>350.0</td>\n",
              "      <td>6.7</td>\n",
              "    </tr>\n",
              "    <tr>\n",
              "      <th>2016-02-04 16:00:00</th>\n",
              "      <td>3</td>\n",
              "      <td>8.9</td>\n",
              "      <td>NaN</td>\n",
              "      <td>1.1</td>\n",
              "      <td>0.0</td>\n",
              "      <td>1019.7</td>\n",
              "      <td>340.0</td>\n",
              "      <td>6.2</td>\n",
              "    </tr>\n",
              "    <tr>\n",
              "      <th>2016-02-04 17:00:00</th>\n",
              "      <td>3</td>\n",
              "      <td>8.9</td>\n",
              "      <td>NaN</td>\n",
              "      <td>0.6</td>\n",
              "      <td>0.0</td>\n",
              "      <td>1019.3</td>\n",
              "      <td>340.0</td>\n",
              "      <td>8.8</td>\n",
              "    </tr>\n",
              "    <tr>\n",
              "      <th>2016-02-04 18:00:00</th>\n",
              "      <td>3</td>\n",
              "      <td>8.9</td>\n",
              "      <td>8.0</td>\n",
              "      <td>0.6</td>\n",
              "      <td>0.0</td>\n",
              "      <td>1018.2</td>\n",
              "      <td>350.0</td>\n",
              "      <td>7.2</td>\n",
              "    </tr>\n",
              "    <tr>\n",
              "      <th>2016-02-04 19:00:00</th>\n",
              "      <td>3</td>\n",
              "      <td>9.4</td>\n",
              "      <td>NaN</td>\n",
              "      <td>0.0</td>\n",
              "      <td>0.0</td>\n",
              "      <td>1017.6</td>\n",
              "      <td>360.0</td>\n",
              "      <td>6.2</td>\n",
              "    </tr>\n",
              "    <tr>\n",
              "      <th>2016-02-04 20:00:00</th>\n",
              "      <td>3</td>\n",
              "      <td>9.4</td>\n",
              "      <td>NaN</td>\n",
              "      <td>0.6</td>\n",
              "      <td>0.0</td>\n",
              "      <td>1018.1</td>\n",
              "      <td>10.0</td>\n",
              "      <td>4.6</td>\n",
              "    </tr>\n",
              "    <tr>\n",
              "      <th>2016-02-04 21:00:00</th>\n",
              "      <td>3</td>\n",
              "      <td>9.4</td>\n",
              "      <td>8.0</td>\n",
              "      <td>0.0</td>\n",
              "      <td>0.0</td>\n",
              "      <td>1018.1</td>\n",
              "      <td>350.0</td>\n",
              "      <td>6.2</td>\n",
              "    </tr>\n",
              "    <tr>\n",
              "      <th>2016-02-04 22:00:00</th>\n",
              "      <td>3</td>\n",
              "      <td>8.9</td>\n",
              "      <td>NaN</td>\n",
              "      <td>-0.6</td>\n",
              "      <td>0.0</td>\n",
              "      <td>1018.9</td>\n",
              "      <td>350.0</td>\n",
              "      <td>5.1</td>\n",
              "    </tr>\n",
              "    <tr>\n",
              "      <th>2016-02-04 23:00:00</th>\n",
              "      <td>3</td>\n",
              "      <td>8.9</td>\n",
              "      <td>NaN</td>\n",
              "      <td>-0.6</td>\n",
              "      <td>0.0</td>\n",
              "      <td>1019.1</td>\n",
              "      <td>350.0</td>\n",
              "      <td>6.7</td>\n",
              "    </tr>\n",
              "  </tbody>\n",
              "</table>\n",
              "</div>"
            ],
            "text/plain": [
              "                     site_id  air_temperature  ...  wind_direction  wind_speed\n",
              "timestamp                                      ...                            \n",
              "2016-02-04 00:00:00        3             13.3  ...           200.0         5.7\n",
              "2016-02-04 01:00:00        3             13.3  ...           190.0         5.1\n",
              "2016-02-04 02:00:00        3             13.3  ...           180.0         4.6\n",
              "2016-02-04 03:00:00        3             13.3  ...           190.0         5.7\n",
              "2016-02-04 04:00:00        3             11.7  ...           190.0         4.6\n",
              "2016-02-04 05:00:00        3             12.8  ...           180.0         6.2\n",
              "2016-02-04 06:00:00        3             13.9  ...           190.0         4.1\n",
              "2016-02-04 07:00:00        3             13.3  ...           190.0         3.1\n",
              "2016-02-04 08:00:00        3             12.2  ...           190.0         4.6\n",
              "2016-02-04 09:00:00        3             13.3  ...           180.0         2.6\n",
              "2016-02-04 10:00:00        3             12.2  ...           310.0         5.7\n",
              "2016-02-04 11:00:00        3             11.7  ...           340.0         5.7\n",
              "2016-02-04 12:00:00        3             10.6  ...           340.0         6.2\n",
              "2016-02-04 13:00:00        3             10.0  ...           340.0         8.2\n",
              "2016-02-04 14:00:00        3              9.4  ...           350.0         6.7\n",
              "2016-02-04 15:00:00        3              9.4  ...           350.0         6.7\n",
              "2016-02-04 16:00:00        3              8.9  ...           340.0         6.2\n",
              "2016-02-04 17:00:00        3              8.9  ...           340.0         8.8\n",
              "2016-02-04 18:00:00        3              8.9  ...           350.0         7.2\n",
              "2016-02-04 19:00:00        3              9.4  ...           360.0         6.2\n",
              "2016-02-04 20:00:00        3              9.4  ...            10.0         4.6\n",
              "2016-02-04 21:00:00        3              9.4  ...           350.0         6.2\n",
              "2016-02-04 22:00:00        3              8.9  ...           350.0         5.1\n",
              "2016-02-04 23:00:00        3              8.9  ...           350.0         6.7\n",
              "\n",
              "[24 rows x 8 columns]"
            ]
          },
          "metadata": {},
          "execution_count": 110
        }
      ]
    },
    {
      "cell_type": "code",
      "metadata": {
        "id": "v_H04kGjb8F3",
        "colab": {
          "base_uri": "https://localhost:8080/"
        },
        "outputId": "d2c8af2d-9c9b-4d4a-f56b-dfa1a277101c"
      },
      "source": [
        "# Tomo solo la columna que me interesa\n",
        "col=weather_train['cloud_coverage']\n",
        "# Completo los NaN con el anterior\n",
        "col.ffill(inplace=True)\n",
        "# Convierto la columna a lista\n",
        "fixed_ts = col.tolist()\n",
        "col.tolist()"
      ],
      "execution_count": null,
      "outputs": [
        {
          "output_type": "execute_result",
          "data": {
            "text/plain": [
              "[6.0,\n",
              " 6.0,\n",
              " 6.0,\n",
              " 8.0,\n",
              " 9.0,\n",
              " 9.0,\n",
              " 8.0,\n",
              " 8.0,\n",
              " 9.0,\n",
              " 8.0,\n",
              " 8.0,\n",
              " 8.0,\n",
              " 8.0,\n",
              " 8.0,\n",
              " 8.0,\n",
              " 8.0,\n",
              " 8.0,\n",
              " 8.0,\n",
              " 8.0,\n",
              " 8.0,\n",
              " 8.0,\n",
              " 8.0,\n",
              " 8.0,\n",
              " 8.0]"
            ]
          },
          "metadata": {},
          "execution_count": 113
        }
      ]
    },
    {
      "cell_type": "markdown",
      "metadata": {
        "id": "-rF7tmYBb8F3"
      },
      "source": [
        "**submit your answer**"
      ]
    },
    {
      "cell_type": "code",
      "metadata": {
        "scrolled": false,
        "id": "ZzBiL2Sqb8F3",
        "colab": {
          "base_uri": "https://localhost:8080/",
          "height": 128
        },
        "outputId": "20deb616-10eb-4b28-9035-72af5f060aa7"
      },
      "source": [
        "student.submit_task(globals(), task_id=\"task_02\");"
      ],
      "execution_count": null,
      "outputs": [
        {
          "output_type": "display_data",
          "data": {
            "text/html": [
              "\n",
              "                    <b>task_02 submitted.</b> <b><font color=\"blue\">your grade is 5</font></b> \n",
              "                    <p/><pre>----- grader message -------</pre>checking for date='2016-02-04'<br/><b>correct</b><pre>----------------------------</pre>\n",
              "                    <p/><p/>\n",
              "                    <div style=\"font-size:10px\"><b>SUBMISSION CODE</b> rXpevcfJAZqvGpa1TWxoKuFukrWuZlVB1yfJGIw5tCJnF9id2lloBmu1x5SuSa/0wMhvUMHJrDtpuUHT+o/ds0Fmnves8zwFhcXJXoL8j94Y87AhSmtNHhL6c1kD/7lJ/pgKYhWwQfhmEhIQYroCMQ==</div>\n",
              "                    "
            ],
            "text/plain": [
              "<IPython.core.display.HTML object>"
            ]
          },
          "metadata": {}
        }
      ]
    },
    {
      "cell_type": "code",
      "metadata": {
        "id": "VEfRebvxb8F3"
      },
      "source": [
        ""
      ],
      "execution_count": null,
      "outputs": []
    },
    {
      "cell_type": "markdown",
      "metadata": {
        "id": "UfAU1K8Jb8F4"
      },
      "source": [
        "## Task 3. Build a time series predictive dataset\n",
        "\n",
        "You will now build a predictive dataset for a single time series. This dataset can later be used with predictive models. The machine learning task we will try to adress is the following:\n",
        "\n",
        "> **Given three consecutive points of a time series, we want a model to predict the next one.**\n",
        "\n",
        "Starting from a time series (a list of of $n$ numbers) you will have to build a dataset such as in the following example\n",
        "\n"
      ]
    },
    {
      "cell_type": "code",
      "metadata": {
        "id": "A6N9TSW6b8F4",
        "outputId": "11ed818d-ff74-44b2-e873-13aeebc04bae"
      },
      "source": [
        "\n",
        "import numpy as np\n",
        "import matplotlib.pyplot as plt\n",
        "%matplotlib inline\n",
        "\n",
        "ts = np.r_[44, 45, 42, 38, 47, 45, 46, 44, 47, 52, 53, 48, 46, 42, 42, 34, 30, 27, 24, 24]\n",
        "plt.figure(figsize=(10,2))\n",
        "plt.xticks(range(len(ts)), range(len(ts)))\n",
        "plt.grid();\n",
        "plt.plot(ts)\n",
        "print (ts)\n"
      ],
      "execution_count": null,
      "outputs": [
        {
          "name": "stdout",
          "output_type": "stream",
          "text": [
            "[44 45 42 38 47 45 46 44 47 52 53 48 46 42 42 34 30 27 24 24]\n"
          ]
        },
        {
          "data": {
            "image/png": "[encoded data removed]",
            "text/plain": [
              "<Figure size 720x144 with 1 Axes>"
            ]
          },
          "metadata": {
            "needs_background": "light"
          },
          "output_type": "display_data"
        }
      ]
    },
    {
      "cell_type": "markdown",
      "metadata": {
        "id": "G3vg1otXb8F4"
      },
      "source": [
        "dataset:\n",
        "\n",
        "    [[[44, 45, 42], 38],\n",
        "     [[45, 42, 38], 47],\n",
        "     [[42, 38, 47], 45],\n",
        "     [[38, 47, 45], 46],\n",
        "     [[47, 45, 46], 44],\n",
        "     [[45, 46, 44], 47],\n",
        "     [[46, 44, 47], 52],\n",
        "     [[44, 47, 52], 53],\n",
        "     [[47, 52, 53], 48],\n",
        "     [[52, 53, 48], 46],\n",
        "     [[53, 48, 46], 42],\n",
        "     [[48, 46, 42], 42],\n",
        "     [[46, 42, 42], 34],\n",
        "     [[42, 42, 34], 30],\n",
        "     [[42, 34, 30], 27],\n",
        "     [[34, 30, 27], 24]]"
      ]
    },
    {
      "cell_type": "markdown",
      "metadata": {
        "id": "rQpARI1zb8F5"
      },
      "source": [
        "observe that each line in the dataset represents one input-output pair, like a sliding window over the time series. \n",
        "\n",
        "We created two components:\n",
        "\n",
        "- a matrix $X$ of dimensions `(len(ts)-n-1,3)` gathering all inputs, in the case above with dimensions `(17,3)`\n",
        "- a vector $y$ of dimension `(len(ts)-n-1)` gathering each corresponding expected output, in the case above with dimensions `(17)`.\n",
        "\n",
        "In this task, you will have to:\n",
        "\n",
        "1. Take the time series you created in the previous task, where you fixed the missing values.\n",
        "1. Build $X$, $y$ such as above with $n=3$. If your time series has 24 data points, then X dimensions will be (20,3) and y dimensions will be (20)\n",
        "\n",
        "Again, use any tool of your choice to generate your result."
      ]
    },
    {
      "cell_type": "code",
      "metadata": {
        "id": "UpSuG2CWb8F5"
      },
      "source": [
        ""
      ],
      "execution_count": null,
      "outputs": []
    },
    {
      "cell_type": "markdown",
      "metadata": {
        "id": "mK4FOaaBb8F5"
      },
      "source": [
        "#### fill in your answer\n"
      ]
    },
    {
      "cell_type": "code",
      "metadata": {
        "id": "JQ0S3dNlb8F5"
      },
      "source": [
        "n=3\n",
        "ts=fixed_ts\n",
        "\n",
        "x1=ts[0:len(ts)-n-1]\n",
        "x2=ts[1:len(ts)-n]\n",
        "x3=ts[2:len(ts)-n+1]\n",
        "X=np.array([x1,x2,x3]).T\n",
        "\n",
        "y=np.array(ts[3:len(ts)-n+2])"
      ],
      "execution_count": null,
      "outputs": []
    },
    {
      "cell_type": "code",
      "metadata": {
        "id": "fkXzKiLbb8F6"
      },
      "source": [
        ""
      ],
      "execution_count": null,
      "outputs": []
    },
    {
      "cell_type": "code",
      "metadata": {
        "id": "9f2viy9_b8F6"
      },
      "source": [
        ""
      ],
      "execution_count": null,
      "outputs": []
    },
    {
      "cell_type": "markdown",
      "metadata": {
        "id": "gBEkM3cib8F6"
      },
      "source": [
        "**submit your answer**"
      ]
    },
    {
      "cell_type": "code",
      "metadata": {
        "scrolled": false,
        "id": "_VcmTx8db8F6",
        "colab": {
          "base_uri": "https://localhost:8080/",
          "height": 128
        },
        "outputId": "c4b87bf2-b8d3-49be-e412-27a9674e06ed"
      },
      "source": [
        "student.submit_task(globals(), task_id=\"task_03\");"
      ],
      "execution_count": null,
      "outputs": [
        {
          "output_type": "display_data",
          "data": {
            "text/html": [
              "\n",
              "                    <b>task_03 submitted.</b> <b><font color=\"blue\">your grade is 5</font></b> \n",
              "                    <p/><pre>----- grader message -------</pre>checking for date='2016-02-04'<br/><b>correct</b><pre>----------------------------</pre>\n",
              "                    <p/><p/>\n",
              "                    <div style=\"font-size:10px\"><b>SUBMISSION CODE</b> VU5cF4bn7eKMtcziyH9QgrrWxJ/oewifdEAPZy+yMT8MWlMSETzMmSbuwFCIA3klF6io/ujMGRnsBSG0fS8TJjPCjHGIWFGeldNMQ9Suv5iOJLofcx8j671FGbOzGaoYis5HJCO5aEDTCNuCIZRVKw==</div>\n",
              "                    "
            ],
            "text/plain": [
              "<IPython.core.display.HTML object>"
            ]
          },
          "metadata": {}
        }
      ]
    },
    {
      "cell_type": "code",
      "metadata": {
        "id": "qIJzG7ytb8F6"
      },
      "source": [
        ""
      ],
      "execution_count": null,
      "outputs": []
    }
  ]
}